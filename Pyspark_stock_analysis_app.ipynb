{
  "cells": [
    {
      "cell_type": "markdown",
      "metadata": {
        "id": "whGh1mIagTXT"
      },
      "source": [
        "## Initialization"
      ]
    },
    {
      "cell_type": "code",
      "execution_count": 1,
      "metadata": {
        "id": "blw_8LMdc4Xt"
      },
      "outputs": [],
      "source": [
        "# install java\n",
        "!apt-get install openjdk-8-jdk-headless -qq > /dev/null\n",
        "\n",
        "# install spark (change the version number if needed)\n",
        "!wget -q https://archive.apache.org/dist/spark/spark-3.0.0/spark-3.0.0-bin-hadoop3.2.tgz\n",
        "\n",
        "# unzip the spark file to the current folder\n",
        "!tar xf spark-3.0.0-bin-hadoop3.2.tgz"
      ]
    },
    {
      "cell_type": "code",
      "execution_count": 2,
      "metadata": {
        "id": "yYMqOvV3gZqj"
      },
      "outputs": [],
      "source": [
        "# set your spark folder to your system path environment.\n",
        "import os\n",
        "os.environ[\"JAVA_HOME\"] = \"/usr/lib/jvm/java-8-openjdk-amd64\"\n",
        "os.environ[\"SPARK_HOME\"] = \"/content/spark-3.0.0-bin-hadoop3.2\"\n",
        "\n",
        "# install findspark using pip\n",
        "!pip install -q findspark"
      ]
    },
    {
      "cell_type": "code",
      "execution_count": 3,
      "metadata": {
        "colab": {
          "base_uri": "https://localhost:8080/"
        },
        "id": "xK-vsQ2LAspL",
        "outputId": "683c2df5-bdd7-4b4b-d6f1-0cc9e82dde9a"
      },
      "outputs": [
        {
          "output_type": "stream",
          "name": "stdout",
          "text": [
            "Collecting koalas\n",
            "  Downloading koalas-0.32.0-py3-none-any.whl.metadata (6.2 kB)\n",
            "Requirement already satisfied: pandas>=0.23.2 in /usr/local/lib/python3.10/dist-packages (from koalas) (2.2.2)\n",
            "Requirement already satisfied: pyarrow>=0.10 in /usr/local/lib/python3.10/dist-packages (from koalas) (17.0.0)\n",
            "Requirement already satisfied: numpy>=1.14 in /usr/local/lib/python3.10/dist-packages (from koalas) (1.26.4)\n",
            "Requirement already satisfied: matplotlib>=3.0.0 in /usr/local/lib/python3.10/dist-packages (from koalas) (3.8.0)\n",
            "Requirement already satisfied: contourpy>=1.0.1 in /usr/local/lib/python3.10/dist-packages (from matplotlib>=3.0.0->koalas) (1.3.1)\n",
            "Requirement already satisfied: cycler>=0.10 in /usr/local/lib/python3.10/dist-packages (from matplotlib>=3.0.0->koalas) (0.12.1)\n",
            "Requirement already satisfied: fonttools>=4.22.0 in /usr/local/lib/python3.10/dist-packages (from matplotlib>=3.0.0->koalas) (4.55.3)\n",
            "Requirement already satisfied: kiwisolver>=1.0.1 in /usr/local/lib/python3.10/dist-packages (from matplotlib>=3.0.0->koalas) (1.4.7)\n",
            "Requirement already satisfied: packaging>=20.0 in /usr/local/lib/python3.10/dist-packages (from matplotlib>=3.0.0->koalas) (24.2)\n",
            "Requirement already satisfied: pillow>=6.2.0 in /usr/local/lib/python3.10/dist-packages (from matplotlib>=3.0.0->koalas) (11.0.0)\n",
            "Requirement already satisfied: pyparsing>=2.3.1 in /usr/local/lib/python3.10/dist-packages (from matplotlib>=3.0.0->koalas) (3.2.0)\n",
            "Requirement already satisfied: python-dateutil>=2.7 in /usr/local/lib/python3.10/dist-packages (from matplotlib>=3.0.0->koalas) (2.8.2)\n",
            "Requirement already satisfied: pytz>=2020.1 in /usr/local/lib/python3.10/dist-packages (from pandas>=0.23.2->koalas) (2024.2)\n",
            "Requirement already satisfied: tzdata>=2022.7 in /usr/local/lib/python3.10/dist-packages (from pandas>=0.23.2->koalas) (2024.2)\n",
            "Requirement already satisfied: six>=1.5 in /usr/local/lib/python3.10/dist-packages (from python-dateutil>=2.7->matplotlib>=3.0.0->koalas) (1.17.0)\n",
            "Downloading koalas-0.32.0-py3-none-any.whl (593 kB)\n",
            "\u001b[2K   \u001b[90m━━━━━━━━━━━━━━━━━━━━━━━━━━━━━━━━━━━━━━━━\u001b[0m \u001b[32m593.2/593.2 kB\u001b[0m \u001b[31m9.7 MB/s\u001b[0m eta \u001b[36m0:00:00\u001b[0m\n",
            "\u001b[?25hInstalling collected packages: koalas\n",
            "Successfully installed koalas-0.32.0\n"
          ]
        }
      ],
      "source": [
        "pip install koalas"
      ]
    },
    {
      "cell_type": "code",
      "execution_count": 4,
      "metadata": {
        "colab": {
          "base_uri": "https://localhost:8080/"
        },
        "id": "1wobKClngbno",
        "outputId": "28fcc8b6-9177-4782-9f31-6dc798d567a1"
      },
      "outputs": [
        {
          "output_type": "stream",
          "name": "stdout",
          "text": [
            "Requirement already satisfied: koalas in /usr/local/lib/python3.10/dist-packages (0.32.0)\n",
            "Requirement already satisfied: pandas>=0.23.2 in /usr/local/lib/python3.10/dist-packages (from koalas) (2.2.2)\n",
            "Requirement already satisfied: pyarrow>=0.10 in /usr/local/lib/python3.10/dist-packages (from koalas) (17.0.0)\n",
            "Requirement already satisfied: numpy>=1.14 in /usr/local/lib/python3.10/dist-packages (from koalas) (1.26.4)\n",
            "Requirement already satisfied: matplotlib>=3.0.0 in /usr/local/lib/python3.10/dist-packages (from koalas) (3.8.0)\n",
            "Requirement already satisfied: contourpy>=1.0.1 in /usr/local/lib/python3.10/dist-packages (from matplotlib>=3.0.0->koalas) (1.3.1)\n",
            "Requirement already satisfied: cycler>=0.10 in /usr/local/lib/python3.10/dist-packages (from matplotlib>=3.0.0->koalas) (0.12.1)\n",
            "Requirement already satisfied: fonttools>=4.22.0 in /usr/local/lib/python3.10/dist-packages (from matplotlib>=3.0.0->koalas) (4.55.3)\n",
            "Requirement already satisfied: kiwisolver>=1.0.1 in /usr/local/lib/python3.10/dist-packages (from matplotlib>=3.0.0->koalas) (1.4.7)\n",
            "Requirement already satisfied: packaging>=20.0 in /usr/local/lib/python3.10/dist-packages (from matplotlib>=3.0.0->koalas) (24.2)\n",
            "Requirement already satisfied: pillow>=6.2.0 in /usr/local/lib/python3.10/dist-packages (from matplotlib>=3.0.0->koalas) (11.0.0)\n",
            "Requirement already satisfied: pyparsing>=2.3.1 in /usr/local/lib/python3.10/dist-packages (from matplotlib>=3.0.0->koalas) (3.2.0)\n",
            "Requirement already satisfied: python-dateutil>=2.7 in /usr/local/lib/python3.10/dist-packages (from matplotlib>=3.0.0->koalas) (2.8.2)\n",
            "Requirement already satisfied: pytz>=2020.1 in /usr/local/lib/python3.10/dist-packages (from pandas>=0.23.2->koalas) (2024.2)\n",
            "Requirement already satisfied: tzdata>=2022.7 in /usr/local/lib/python3.10/dist-packages (from pandas>=0.23.2->koalas) (2024.2)\n",
            "Requirement already satisfied: six>=1.5 in /usr/local/lib/python3.10/dist-packages (from python-dateutil>=2.7->matplotlib>=3.0.0->koalas) (1.17.0)\n"
          ]
        }
      ],
      "source": [
        "pip install --upgrade koalas"
      ]
    },
    {
      "cell_type": "code",
      "execution_count": 5,
      "metadata": {
        "id": "X1gpl4LtgfNJ"
      },
      "outputs": [],
      "source": [
        "import findspark\n",
        "findspark.init()\n",
        "\n",
        "from pyspark.sql import SparkSession\n",
        "spark = SparkSession.builder.master(\"local[*]\").getOrCreate()"
      ]
    },
    {
      "cell_type": "code",
      "execution_count": 6,
      "metadata": {
        "id": "i-4ZcJpEggJl",
        "colab": {
          "base_uri": "https://localhost:8080/"
        },
        "outputId": "cb8f627a-62ee-4b83-f34f-67caf6c436f0"
      },
      "outputs": [
        {
          "output_type": "stream",
          "name": "stdout",
          "text": [
            "Mounted at /content/drive\n"
          ]
        }
      ],
      "source": [
        "from google.colab import drive\n",
        "drive.mount('/content/drive')"
      ]
    },
    {
      "cell_type": "markdown",
      "metadata": {
        "id": "ghVPxXGMqGwP"
      },
      "source": [
        "***"
      ]
    },
    {
      "cell_type": "markdown",
      "metadata": {
        "id": "H9Ejtyo-ubDb"
      },
      "source": [
        "\n",
        "## Functions"
      ]
    },
    {
      "cell_type": "code",
      "execution_count": 27,
      "metadata": {
        "id": "p6z7sdNbhqnJ",
        "colab": {
          "base_uri": "https://localhost:8080/"
        },
        "outputId": "8cd2379e-8505-4cc9-c3e7-0c46733e0832"
      },
      "outputs": [
        {
          "output_type": "stream",
          "name": "stdout",
          "text": [
            "AMAZON.csv  APPLE.csv  FACEBOOK.csv  GOOGLE.csv  MICROSOFT.csv\tTESLA.csv  ZOOM.csv\n"
          ]
        }
      ],
      "source": [
        "!ls /content/drive/MyDrive/Spark/stocks_data"
      ]
    },
    {
      "cell_type": "code",
      "source": [
        "from warnings import filters\n",
        "\n",
        "def read_file(folder, file):\n",
        "  name = folder + file\n",
        "  df = spark.read.csv(name,inferSchema=True, header =True)\n",
        "  return df"
      ],
      "metadata": {
        "id": "FPXjJG8LPHAz"
      },
      "execution_count": 8,
      "outputs": []
    },
    {
      "cell_type": "code",
      "execution_count": 9,
      "metadata": {
        "id": "NF2mGgCB-hX-"
      },
      "outputs": [],
      "source": [
        "from pyspark.sql.functions import col, to_date\n",
        "\n",
        "def calculate_time_span(dataset):\n",
        "  dataset2 = dataset.withColumn(\"Date\", to_date(col(\"Date\"), \"yyyy-MM-dd\"))\n",
        "  min = dataset2.agg({\"Date\": \"min\"}).collect()[0][0]\n",
        "  max = dataset2.agg({\"Date\": \"max\"}).collect()[0][0]\n",
        "\n",
        "  day_difference = max - min\n",
        "\n",
        "  return min, max, day_difference"
      ]
    },
    {
      "cell_type": "code",
      "execution_count": 10,
      "metadata": {
        "id": "ZzyahzwN9vko"
      },
      "outputs": [],
      "source": [
        "from pyspark.ml.stat import Correlation\n",
        "from pyspark.ml.feature import VectorAssembler\n",
        "import numpy as np\n",
        "\n",
        "def calcultate_corr(dataset):\n",
        "  # convert to vector\n",
        "  vector_col = \"correlations\"\n",
        "  numeric = dataset.drop(*[\"Date\", \"company_name\"])\n",
        "\n",
        "  assembler = VectorAssembler(inputCols=numeric.columns, outputCol=vector_col)\n",
        "  output = assembler.transform(numeric)\n",
        "\n",
        "  matrix = Correlation.corr(output, vector_col)\n",
        "  matrix2 = matrix.collect()[0]['pearson({})'.format(vector_col)].values\n",
        "\n",
        "  num_columns = len(numeric.columns)\n",
        "  correlation_matrix = np.array(matrix2).reshape((num_columns, num_columns))\n",
        "\n",
        "  return correlation_matrix"
      ]
    },
    {
      "cell_type": "code",
      "execution_count": 11,
      "metadata": {
        "id": "F6CVqxSmogTE"
      },
      "outputs": [],
      "source": [
        "def get_info_df(dataset):\n",
        "  print(f\"Infos of the {file} file \\n\\n\")\n",
        "\n",
        "  print(\"► Schema of the dataset\")\n",
        "  print(dataset.printSchema())\n",
        "\n",
        "  print(\"\\n ► Top rows of the dataset\")\n",
        "  print(dataset.show(10))\n",
        "\n",
        "  print(\"\\n ► Row count\")\n",
        "  print(dataset.count())\n",
        "\n",
        "  print(\"\\n ► Time span\")\n",
        "  min_date, max_date, span = calculate_time_span(dataset)\n",
        "  print(f\"Minimum date {min_date}\")\n",
        "  print((f\"Maximum date {max_date}\"))\n",
        "  print(span)\n",
        "\n",
        "  print(\"\\n ► Columns info\")\n",
        "  for name, col in zip(dataset.schema.names, dataset.columns):\n",
        "    print(name)\n",
        "    print(dataset.describe([col]).show())\n",
        "\n",
        "  print(\"\\n ► Missing values for each column\")\n",
        "  for col in dataset.columns:\n",
        "    print(col, \"\\t\", \"number of null values: \", dataset.filter(dataset[col].isNull()).count())\n",
        "\n",
        "  print(\"\\n ► Correlation Matrix\")\n",
        "  correlation = calcultate_corr(dataset)\n",
        "  print(correlation)\n"
      ]
    },
    {
      "cell_type": "code",
      "execution_count": 12,
      "metadata": {
        "id": "RJRI65W8r8kG"
      },
      "outputs": [],
      "source": [
        "from pyspark.sql import SparkSession\n",
        "from pyspark.sql.functions import col, year, avg\n",
        "\n",
        "def get_average_year(dataset, column):\n",
        "  poulet = dataset.withColumn(\"Date\", col(\"Date\").cast(\"Date\"))\n",
        "\n",
        "  toAverage = poulet.groupBy(year(\"date\").alias(\"year\")).agg(avg(column).alias(f\"average_{column}\"))\n",
        "  toAverage = toAverage.orderBy(year(\"date\"))\n",
        "\n",
        "  return toAverage"
      ]
    },
    {
      "cell_type": "code",
      "execution_count": 13,
      "metadata": {
        "id": "Qro44a_lssFQ"
      },
      "outputs": [],
      "source": [
        "from pyspark.sql.functions import col, year, month, avg\n",
        "\n",
        "def get_average_month(dataset, column):\n",
        "  poulet = dataset.withColumn(\"Date\", col(\"Date\").cast(\"Date\"))\n",
        "\n",
        "  toAverage = poulet.groupBy(year(\"date\").alias(\"year\"), month(\"date\").alias(\"month\")).agg(avg(column).alias(f\"average_{column}\"))\n",
        "  toAverage = toAverage.orderBy(year(\"date\"), month(\"date\"))\n",
        "\n",
        "  return toAverage"
      ]
    },
    {
      "cell_type": "code",
      "execution_count": 14,
      "metadata": {
        "id": "I-THyN7fmyDQ"
      },
      "outputs": [],
      "source": [
        "from pyspark.sql.functions import col, year, weekofyear, avg\n",
        "\n",
        "def get_average_week(dataset, column):\n",
        "  poulet = dataset.withColumn(\"Date\", col(\"Date\").cast(\"Date\"))\n",
        "\n",
        "  toAverage = poulet.groupBy(year(\"date\").alias(\"year\"), weekofyear(\"date\").alias(\"week\")).agg(avg(column).alias(f\"average_{column}\"))\n",
        "  toAverage = toAverage.orderBy(year(\"date\"), weekofyear(\"date\"))\n",
        "\n",
        "  return toAverage"
      ]
    },
    {
      "cell_type": "code",
      "source": [
        "from pyspark.sql.window import Window\n",
        "from pyspark.sql import functions as F\n",
        "\n",
        "def daily_difference(dataset):\n",
        "  windowSpec = Window().orderBy(\"date\")\n",
        "\n",
        "  dataset_day_diff = dataset.withColumn(\"stock_difference\", F.col(\"Close\") - F.lag(\"Close\").over(windowSpec))\n",
        "\n",
        "  return dataset_day_diff"
      ],
      "metadata": {
        "id": "1sAIeH4XmDeR"
      },
      "execution_count": 15,
      "outputs": []
    },
    {
      "cell_type": "code",
      "source": [
        "from pyspark.sql import SparkSession\n",
        "from pyspark.sql import functions as F\n",
        "from pyspark.sql.window import Window\n",
        "\n",
        "def monthly_difference(dataset):\n",
        "  window_spec = Window.partitionBy(F.year(\"date\"), F.month(\"date\")).orderBy(\"date\")\n",
        "\n",
        "  df_with_row_number = dataset.withColumn(\"row_number\", F.row_number().over(window_spec))\n",
        "  result_df = df_with_row_number.filter(F.col(\"row_number\") == 1).drop(\"row_number\")\n",
        "\n",
        "  windowSpec2 = Window().orderBy(\"date\")\n",
        "\n",
        "  dataset_month_diff = result_df.withColumn(\"stock_difference\", F.col(\"Close\") - F.lag(\"Close\").over(windowSpec2))\n",
        "\n",
        "  return dataset_month_diff"
      ],
      "metadata": {
        "id": "VPdagZji8YDr"
      },
      "execution_count": 16,
      "outputs": []
    },
    {
      "cell_type": "code",
      "execution_count": 17,
      "metadata": {
        "id": "ywWp1o0pytM6"
      },
      "outputs": [],
      "source": [
        "def calculate_daily_return(dataset):\n",
        "  newDataset = dataset.withColumn(\"Daily_return\",  col(\"Close\") - col(\"Open\"))\n",
        "\n",
        "  return newDataset"
      ]
    },
    {
      "cell_type": "code",
      "execution_count": 18,
      "metadata": {
        "id": "Zqi_XRaFka0k"
      },
      "outputs": [],
      "source": [
        "def get_highest_dr(dataset, start_date=None, end_date=None):\n",
        "    if \"Daily_return\" in dataset.columns:\n",
        "        if start_date is not None and end_date is not None:\n",
        "            filteredDataset = dataset.filter((col(\"Date\") >= start_date) & (col(\"Date\") <= end_date))\n",
        "            sortedAndFilteredDataset = filteredDataset.orderBy(col(\"Daily_return\").desc())\n",
        "            return sortedAndFilteredDataset\n",
        "        else:\n",
        "            sortedDataset = dataset.orderBy(col(\"Daily_return\").desc())\n",
        "            return sortedDataset\n",
        "    else:\n",
        "        print(\"Error: 'Daily_return' column not found.\")\n",
        "        return None"
      ]
    },
    {
      "cell_type": "code",
      "source": [
        "def calculate_moving_average(df, column_name, n, start_date=None):\n",
        "\n",
        "    window_spec = Window.orderBy(\"date\").rowsBetween(-n + 1, 0)\n",
        "\n",
        "    moving_avg_col = f\"{column_name}_moving_avg\"\n",
        "    df_with_moving_avg = df.withColumn(moving_avg_col, F.avg(column_name).over(window_spec))\n",
        "\n",
        "    if start_date is not None:\n",
        "        result_df = df_with_moving_avg.filter(F.col(\"date\") >= start_date)\n",
        "    else:\n",
        "        result_df = df_with_moving_avg\n",
        "\n",
        "    return result_df"
      ],
      "metadata": {
        "id": "4pnMkQGMA5DX"
      },
      "execution_count": 19,
      "outputs": []
    },
    {
      "cell_type": "code",
      "source": [
        "from pyspark.sql import SparkSession\n",
        "from pyspark.sql import functions as F\n",
        "from pyspark.sql.window import Window\n",
        "\n",
        "def get_ror_daytoday(dataset, reference_date, period):\n",
        "    spark = SparkSession.builder.getOrCreate()\n",
        "\n",
        "    dataset = dataset.withColumn(\"date\", F.to_date(\"date\"))\n",
        "\n",
        "    end_date = reference_date + F.expr(f\"INTERVAL {period} DAYS\")\n",
        "\n",
        "    filtered_data = dataset.filter((F.col(\"date\") >= reference_date) & (F.col(\"date\") <= end_date))\n",
        "\n",
        "    window_spec = Window().orderBy(\"date\")\n",
        "\n",
        "    return_rate_column = \"return_rate\"\n",
        "    dataset = (filtered_data\n",
        "               .withColumn(return_rate_column,\n",
        "                           (F.col(\"close\") - F.lag(\"close\").over(window_spec)) / (F.lag(\"close\").over(window_spec))*100)\n",
        "               .na.drop()\n",
        "               .orderBy(\"date\"))\n",
        "\n",
        "    return dataset.orderBy(F.desc(\"return_rate\"))"
      ],
      "metadata": {
        "id": "h-ByZykEtPst"
      },
      "execution_count": 20,
      "outputs": []
    },
    {
      "cell_type": "code",
      "source": [
        "from pyspark.sql import SparkSession\n",
        "from pyspark.sql import functions as F\n",
        "from pyspark.sql.window import Window\n",
        "\n",
        "def get_ror_period(dataset, reference_date, period):\n",
        "    spark = SparkSession.builder.getOrCreate()\n",
        "\n",
        "    dataset = dataset.withColumn(\"date\", F.to_date(\"date\"))\n",
        "\n",
        "    end_date = reference_date + F.expr(f\"INTERVAL {period} DAYS\")\n",
        "\n",
        "    filtered_data = dataset.filter((F.col(\"date\") >= reference_date) & (F.col(\"date\") <= end_date))\n",
        "\n",
        "    return_rate_column = \"return_rate\"\n",
        "    initial_close_price = filtered_data.filter(F.col(\"date\") == reference_date).select(\"close\").collect()[0][0]\n",
        "\n",
        "    dataset = (filtered_data\n",
        "               .withColumn(return_rate_column,\n",
        "                           (F.col(\"close\") - F.lit(initial_close_price)) / F.lit(initial_close_price))\n",
        "               .orderBy(\"date\"))\n",
        "\n",
        "    return dataset"
      ],
      "metadata": {
        "id": "1bZj5qaNDknf"
      },
      "execution_count": 21,
      "outputs": []
    },
    {
      "cell_type": "code",
      "source": [
        "from pyspark.sql import SparkSession\n",
        "from pyspark.sql import functions as F\n",
        "\n",
        "def calculate_stock_correlation(stock1, stock2, start_date=None, end_date=None):\n",
        "\n",
        "    stock1 = stock1.select(\"date\", \"close\").withColumnRenamed(\"close\", \"close1\")\n",
        "    stock2 = stock2.select(\"date\", \"close\").withColumnRenamed(\"close\", \"close2\")\n",
        "\n",
        "    if start_date and end_date:\n",
        "        stock1 = stock1.filter((F.col(\"date\") >= start_date) & (F.col(\"date\") <= end_date))\n",
        "        stock2 = stock2.filter((F.col(\"date\") >= start_date) & (F.col(\"date\") <= end_date))\n",
        "\n",
        "    joined_data = stock1.join(stock2, \"date\", \"inner\")\n",
        "\n",
        "    correlation = joined_data.corr(\"close1\", \"close2\")\n",
        "\n",
        "    return correlation\n"
      ],
      "metadata": {
        "id": "BiNGzXwW5ft_"
      },
      "execution_count": 22,
      "outputs": []
    },
    {
      "cell_type": "code",
      "source": [
        "from pyspark.sql import SparkSession\n",
        "from pyspark.sql import functions as F\n",
        "from pyspark.sql.window import Window\n",
        "\n",
        "def get_trading_value(dataset):\n",
        "\n",
        "  df = dataset.withColumn(\"trading_value\", col(\"Close\") * col(\"Volume\"))\n",
        "  return df"
      ],
      "metadata": {
        "id": "psB1fhjUO_8u"
      },
      "execution_count": 23,
      "outputs": []
    },
    {
      "cell_type": "code",
      "source": [
        "import plotly.express as px\n",
        "import plotly.graph_objects as go\n",
        "\n",
        "def plot_stock():\n",
        "  fig = go.Figure()\n",
        "  fig.update_layout(title='Stocks over timme span', xaxis_title='Date', yaxis_title='Close')\n",
        "\n",
        "  return fig"
      ],
      "metadata": {
        "id": "YbUYVhhYOYMA"
      },
      "execution_count": 24,
      "outputs": []
    },
    {
      "cell_type": "code",
      "source": [
        "def add_trace_plot(dataset, fig):\n",
        "  df_pandas = dataset.toPandas()\n",
        "  fig.add_trace(go.Scatter(x=df_pandas['Date'], y=df_pandas['trading_value'], mode='lines', name='Other Value'))\n",
        "  return fig"
      ],
      "metadata": {
        "id": "QPfyRFxOSEzW"
      },
      "execution_count": 25,
      "outputs": []
    },
    {
      "cell_type": "markdown",
      "source": [
        "***"
      ],
      "metadata": {
        "id": "KTdltAtxzOts"
      }
    },
    {
      "cell_type": "markdown",
      "source": [
        "## Exploration"
      ],
      "metadata": {
        "id": "80-VZyky1GiS"
      }
    },
    {
      "cell_type": "markdown",
      "source": [
        "Loading all our datasets"
      ],
      "metadata": {
        "id": "COoscxa8zIIJ"
      }
    },
    {
      "cell_type": "code",
      "execution_count": 28,
      "metadata": {
        "id": "Chn-xdNej249"
      },
      "outputs": [],
      "source": [
        "folder = \"drive/MyDrive/Spark/stocks_data/\"\n",
        "\n",
        "file1 = \"AMAZON.csv\"\n",
        "file2 = \"APPLE.csv\"\n",
        "file3 = \"ZOOM.csv\"\n",
        "file4 = \"TESLA.csv\"\n",
        "file5 = \"FACEBOOK.csv\"\n",
        "file6 = \"GOOGLE.csv\"\n",
        "file7 = \"MICROSOFT.csv\"\n",
        "\n",
        "dataset = read_file(folder, file1)\n",
        "dataset2 = read_file(folder, file2)\n",
        "dataset3 = read_file(folder, file3)\n",
        "dataset4 = read_file(folder, file4)\n",
        "dataset5 = read_file(folder, file5)\n",
        "dataset6 = read_file(folder, file6)\n",
        "dataset7 = read_file(folder, file7)"
      ]
    },
    {
      "cell_type": "code",
      "source": [
        "get_info_df(dataset3)"
      ],
      "metadata": {
        "colab": {
          "base_uri": "https://localhost:8080/"
        },
        "id": "Wh-tAPEY1NKD",
        "outputId": "ad406011-ea31-4a00-dba0-3384fb9d25bf"
      },
      "execution_count": 29,
      "outputs": [
        {
          "output_type": "stream",
          "name": "stdout",
          "text": [
            "Infos of the AMAZON.csv file \n",
            "\n",
            "\n",
            "► Schema of the dataset\n",
            "root\n",
            " |-- Date: string (nullable = true)\n",
            " |-- High: double (nullable = true)\n",
            " |-- Low: double (nullable = true)\n",
            " |-- Open: double (nullable = true)\n",
            " |-- Close: double (nullable = true)\n",
            " |-- Volume: integer (nullable = true)\n",
            " |-- Adj Close: double (nullable = true)\n",
            " |-- company_name: string (nullable = true)\n",
            "\n",
            "None\n",
            "\n",
            " ► Top rows of the dataset\n",
            "+----------+-----------------+------------------+-----------------+-----------------+--------+-----------------+------------+\n",
            "|      Date|             High|               Low|             Open|            Close|  Volume|        Adj Close|company_name|\n",
            "+----------+-----------------+------------------+-----------------+-----------------+--------+-----------------+------------+\n",
            "|2019-04-18|             66.0| 60.32099914550781|             65.0|             62.0|25764700|             62.0|        ZOOM|\n",
            "|2019-04-22| 68.9000015258789|59.939998626708984|             61.0|65.69999694824219| 9949700|65.69999694824219|        ZOOM|\n",
            "|2019-04-23|74.16899871826172| 65.55000305175781|66.87000274658203|             69.0| 6786500|             69.0|        ZOOM|\n",
            "|2019-04-24|             71.5| 63.15999984741211| 71.4000015258789|63.20000076293945| 4973500|63.20000076293945|        ZOOM|\n",
            "|2019-04-25| 66.8499984741211|62.599998474121094|64.73999786376953|             65.0| 3863300|             65.0|        ZOOM|\n",
            "|2019-04-26|66.98999786376953|63.599998474121094|66.12000274658203|66.22000122070312| 1527400|66.22000122070312|        ZOOM|\n",
            "|2019-04-29|             68.5|             64.75|66.52999877929688|68.16999816894531| 1822300|68.16999816894531|        ZOOM|\n",
            "|2019-04-30| 72.5199966430664| 66.66999816894531| 68.4000015258789|72.47000122070312| 4113100|72.47000122070312|        ZOOM|\n",
            "|2019-05-01|76.94999694824219| 70.81600189208984|72.72000122070312|72.76000213623047| 3301900|72.76000213623047|        ZOOM|\n",
            "|2019-05-02|75.88999938964844| 69.69100189208984|            72.75|             75.5| 2525300|             75.5|        ZOOM|\n",
            "+----------+-----------------+------------------+-----------------+-----------------+--------+-----------------+------------+\n",
            "only showing top 10 rows\n",
            "\n",
            "None\n",
            "\n",
            " ► Row count\n",
            "411\n",
            "\n",
            " ► Time span\n",
            "Minimum date 2019-04-18\n",
            "Maximum date 2020-12-02\n",
            "594 days, 0:00:00\n",
            "\n",
            " ► Columns info\n",
            "Date\n",
            "+-------+----------+\n",
            "|summary|      Date|\n",
            "+-------+----------+\n",
            "|  count|       411|\n",
            "|   mean|      null|\n",
            "| stddev|      null|\n",
            "|    min|2019-04-18|\n",
            "|    max|2020-12-02|\n",
            "+-------+----------+\n",
            "\n",
            "None\n",
            "High\n",
            "+-------+------------------+\n",
            "|summary|              High|\n",
            "+-------+------------------+\n",
            "|  count|               411|\n",
            "|   mean|182.39606543585043|\n",
            "| stddev|142.85245242428914|\n",
            "|    min|  63.7400016784668|\n",
            "|    max| 588.8400268554688|\n",
            "+-------+------------------+\n",
            "\n",
            "None\n",
            "Low\n",
            "+-------+------------------+\n",
            "|summary|               Low|\n",
            "+-------+------------------+\n",
            "|  count|               411|\n",
            "|   mean|172.02370037069576|\n",
            "| stddev| 134.5095182837666|\n",
            "|    min|59.939998626708984|\n",
            "|    max| 562.5499877929688|\n",
            "+-------+------------------+\n",
            "\n",
            "None\n",
            "Open\n",
            "+-------+-----------------+\n",
            "|summary|             Open|\n",
            "+-------+-----------------+\n",
            "|  count|              411|\n",
            "|   mean|177.1945766625323|\n",
            "| stddev|138.9019224307191|\n",
            "|    min|             61.0|\n",
            "|    max|            572.5|\n",
            "+-------+-----------------+\n",
            "\n",
            "None\n",
            "Close\n",
            "+-------+------------------+\n",
            "|summary|             Close|\n",
            "+-------+------------------+\n",
            "|  count|               411|\n",
            "|   mean|177.46828020750172|\n",
            "| stddev|138.66359007242428|\n",
            "|    min|              62.0|\n",
            "|    max| 568.3400268554688|\n",
            "+-------+------------------+\n",
            "\n",
            "None\n",
            "Volume\n",
            "+-------+-----------------+\n",
            "|summary|           Volume|\n",
            "+-------+-----------------+\n",
            "|  count|              411|\n",
            "|   mean|7060712.613138686|\n",
            "| stddev|6905543.039975025|\n",
            "|    min|           512600|\n",
            "|    max|         53346800|\n",
            "+-------+-----------------+\n",
            "\n",
            "None\n",
            "Adj Close\n",
            "+-------+------------------+\n",
            "|summary|         Adj Close|\n",
            "+-------+------------------+\n",
            "|  count|               411|\n",
            "|   mean|177.46828020750172|\n",
            "| stddev|138.66359007242428|\n",
            "|    min|              62.0|\n",
            "|    max| 568.3400268554688|\n",
            "+-------+------------------+\n",
            "\n",
            "None\n",
            "company_name\n",
            "+-------+------------+\n",
            "|summary|company_name|\n",
            "+-------+------------+\n",
            "|  count|         411|\n",
            "|   mean|        null|\n",
            "| stddev|        null|\n",
            "|    min|        ZOOM|\n",
            "|    max|        ZOOM|\n",
            "+-------+------------+\n",
            "\n",
            "None\n",
            "\n",
            " ► Missing values for each column\n",
            "Date \t number of null values:  0\n",
            "High \t number of null values:  0\n",
            "Low \t number of null values:  0\n",
            "Open \t number of null values:  0\n",
            "Close \t number of null values:  0\n",
            "Volume \t number of null values:  0\n",
            "Adj Close \t number of null values:  0\n",
            "company_name \t number of null values:  0\n",
            "\n",
            " ► Correlation Matrix\n",
            "[[1.         0.99913202 0.99929984 0.99921986 0.41942667 0.99921986]\n",
            " [0.99913202 1.         0.99914703 0.99926417 0.39512838 0.99926417]\n",
            " [0.99929984 0.99914703 1.         0.99824163 0.40555376 0.99824163]\n",
            " [0.99921986 0.99926417 0.99824163 1.         0.4103528  1.        ]\n",
            " [0.41942667 0.39512838 0.40555376 0.4103528  1.         0.4103528 ]\n",
            " [0.99921986 0.99926417 0.99824163 1.         0.4103528  1.        ]]\n"
          ]
        }
      ]
    },
    {
      "cell_type": "code",
      "execution_count": 30,
      "metadata": {
        "id": "fy7oLc-Ro2Sh",
        "colab": {
          "base_uri": "https://localhost:8080/"
        },
        "outputId": "d4da89a6-bc47-4672-d137-4e8f23cef4d7"
      },
      "outputs": [
        {
          "output_type": "stream",
          "name": "stdout",
          "text": [
            "Infos of the AMAZON.csv file \n",
            "\n",
            "\n",
            "► Schema of the dataset\n",
            "root\n",
            " |-- Date: string (nullable = true)\n",
            " |-- High: double (nullable = true)\n",
            " |-- Low: double (nullable = true)\n",
            " |-- Open: double (nullable = true)\n",
            " |-- Close: double (nullable = true)\n",
            " |-- Volume: integer (nullable = true)\n",
            " |-- Adj Close: double (nullable = true)\n",
            " |-- company_name: string (nullable = true)\n",
            "\n",
            "None\n",
            "\n",
            " ► Top rows of the dataset\n",
            "+----------+-----------------+-----------------+-----------------+-----------------+-------+-----------------+------------+\n",
            "|      Date|             High|              Low|             Open|            Close| Volume|        Adj Close|company_name|\n",
            "+----------+-----------------+-----------------+-----------------+-----------------+-------+-----------------+------------+\n",
            "|2017-01-03| 758.760009765625|747.7000122070312|757.9199829101562|753.6699829101562|3521100|753.6699829101562|      AMAZON|\n",
            "|2017-01-04|759.6799926757812|754.2000122070312|758.3900146484375|757.1799926757812|2510500|757.1799926757812|      AMAZON|\n",
            "|2017-01-05|782.4000244140625| 760.260009765625|761.5499877929688|780.4500122070312|5830100|780.4500122070312|      AMAZON|\n",
            "|2017-01-06|799.4400024414062|  778.47998046875|782.3599853515625| 795.989990234375|5986200| 795.989990234375|      AMAZON|\n",
            "|2017-01-09|  801.77001953125|  791.77001953125|            798.0|796.9199829101562|3446100|796.9199829101562|      AMAZON|\n",
            "|2017-01-10|            798.0|789.5399780273438|796.5999755859375|795.9000244140625|2558400|795.9000244140625|      AMAZON|\n",
            "|2017-01-11|            799.5| 789.510009765625|793.6599731445312|  799.02001953125|2992800|  799.02001953125|      AMAZON|\n",
            "|2017-01-12|814.1300048828125|            799.5|800.3099975585938|813.6400146484375|4873900|813.6400146484375|      AMAZON|\n",
            "|2017-01-13|821.6500244140625|811.4000244140625|814.3200073242188|817.1400146484375|3791900|817.1400146484375|      AMAZON|\n",
            "|2017-01-17|            816.0|803.4400024414062|815.7000122070312| 809.719970703125|3670500| 809.719970703125|      AMAZON|\n",
            "+----------+-----------------+-----------------+-----------------+-----------------+-------+-----------------+------------+\n",
            "only showing top 10 rows\n",
            "\n",
            "None\n",
            "\n",
            " ► Row count\n",
            "987\n",
            "\n",
            " ► Time span\n",
            "Minimum date 2017-01-03\n",
            "Maximum date 2020-12-02\n",
            "1429 days, 0:00:00\n",
            "\n",
            " ► Columns info\n",
            "Date\n",
            "+-------+----------+\n",
            "|summary|      Date|\n",
            "+-------+----------+\n",
            "|  count|       987|\n",
            "|   mean|      null|\n",
            "| stddev|      null|\n",
            "|    min|2017-01-03|\n",
            "|    max|2020-12-02|\n",
            "+-------+----------+\n",
            "\n",
            "None\n",
            "High\n",
            "+-------+------------------+\n",
            "|summary|              High|\n",
            "+-------+------------------+\n",
            "|  count|               987|\n",
            "|   mean|1762.0071216958152|\n",
            "| stddev| 667.2385315752688|\n",
            "|    min|  758.760009765625|\n",
            "|    max|           3552.25|\n",
            "+-------+------------------+\n",
            "\n",
            "None\n",
            "Low\n",
            "+-------+------------------+\n",
            "|summary|               Low|\n",
            "+-------+------------------+\n",
            "|  count|               987|\n",
            "|   mean|1722.1011452099956|\n",
            "| stddev| 644.7988093382758|\n",
            "|    min| 747.7000122070312|\n",
            "|    max|  3486.68994140625|\n",
            "+-------+------------------+\n",
            "\n",
            "None\n",
            "Open\n",
            "+-------+-----------------+\n",
            "|summary|             Open|\n",
            "+-------+-----------------+\n",
            "|  count|              987|\n",
            "|   mean|1743.433881363487|\n",
            "| stddev|657.1153070927137|\n",
            "|    min|757.9199829101562|\n",
            "|    max|           3547.0|\n",
            "+-------+-----------------+\n",
            "\n",
            "None\n",
            "Close\n",
            "+-------+------------------+\n",
            "|summary|             Close|\n",
            "+-------+------------------+\n",
            "|  count|               987|\n",
            "|   mean|1742.9566644206718|\n",
            "| stddev| 655.9576061129322|\n",
            "|    min| 753.6699829101562|\n",
            "|    max| 3531.449951171875|\n",
            "+-------+------------------+\n",
            "\n",
            "None\n",
            "Volume\n",
            "+-------+-----------------+\n",
            "|summary|           Volume|\n",
            "+-------+-----------------+\n",
            "|  count|              987|\n",
            "|   mean| 4509728.05775076|\n",
            "| stddev|2179817.628631287|\n",
            "|    min|           881300|\n",
            "|    max|         16565000|\n",
            "+-------+-----------------+\n",
            "\n",
            "None\n",
            "Adj Close\n",
            "+-------+------------------+\n",
            "|summary|         Adj Close|\n",
            "+-------+------------------+\n",
            "|  count|               987|\n",
            "|   mean|1742.9566644206718|\n",
            "| stddev| 655.9576061129322|\n",
            "|    min| 753.6699829101562|\n",
            "|    max| 3531.449951171875|\n",
            "+-------+------------------+\n",
            "\n",
            "None\n",
            "company_name\n",
            "+-------+------------+\n",
            "|summary|company_name|\n",
            "+-------+------------+\n",
            "|  count|         987|\n",
            "|   mean|        null|\n",
            "| stddev|        null|\n",
            "|    min|      AMAZON|\n",
            "|    max|      AMAZON|\n",
            "+-------+------------+\n",
            "\n",
            "None\n",
            "\n",
            " ► Missing values for each column\n",
            "Date \t number of null values:  0\n",
            "High \t number of null values:  0\n",
            "Low \t number of null values:  0\n",
            "Open \t number of null values:  0\n",
            "Close \t number of null values:  0\n",
            "Volume \t number of null values:  0\n",
            "Adj Close \t number of null values:  0\n",
            "company_name \t number of null values:  0\n",
            "\n",
            " ► Correlation Matrix\n",
            "[[1.         0.99919608 0.99952481 0.99943308 0.16053643 0.99943308]\n",
            " [0.99919608 1.         0.99934439 0.99947694 0.13293678 0.99947694]\n",
            " [0.99952481 0.99934439 1.         0.99885254 0.14904749 0.99885254]\n",
            " [0.99943308 0.99947694 0.99885254 1.         0.14617949 1.        ]\n",
            " [0.16053643 0.13293678 0.14904749 0.14617949 1.         0.14617949]\n",
            " [0.99943308 0.99947694 0.99885254 1.         0.14617949 1.        ]]\n"
          ]
        }
      ],
      "source": [
        "get_info_df(dataset)"
      ]
    },
    {
      "cell_type": "markdown",
      "metadata": {
        "id": "9yQ6ZEqiyaDH"
      },
      "source": [
        "Average for opening and closing by year, month and week"
      ]
    },
    {
      "cell_type": "markdown",
      "source": [
        "**Year**"
      ],
      "metadata": {
        "id": "_jOznqrJHu-Y"
      }
    },
    {
      "cell_type": "code",
      "execution_count": 31,
      "metadata": {
        "id": "uB3__Ru3uxrj",
        "colab": {
          "base_uri": "https://localhost:8080/"
        },
        "outputId": "541055cd-3a25-44a1-f50f-937415040cf9"
      },
      "outputs": [
        {
          "output_type": "stream",
          "name": "stdout",
          "text": [
            "+----+------------------+\n",
            "|year|      average_Open|\n",
            "+----+------------------+\n",
            "|2017|  968.275618959708|\n",
            "|2018|1644.0727091633466|\n",
            "|2019|1788.7461896623884|\n",
            "|2020|2636.5054538710433|\n",
            "+----+------------------+\n",
            "\n",
            "+----+------------------+\n",
            "|year|     average_Close|\n",
            "+----+------------------+\n",
            "|2017| 968.1670116409363|\n",
            "|2018|1641.7261758629545|\n",
            "|2019| 1789.189206077939|\n",
            "|2020| 2636.649604240712|\n",
            "+----+------------------+\n",
            "\n"
          ]
        }
      ],
      "source": [
        "col1 =\"Open\"\n",
        "col2 =\"Close\"\n",
        "\n",
        "open_year = get_average_year(dataset, col1)\n",
        "close_year = get_average_year(dataset, col2)\n",
        "\n",
        "open_year.show(10)\n",
        "close_year.show(10)"
      ]
    },
    {
      "cell_type": "markdown",
      "source": [
        "**Month**"
      ],
      "metadata": {
        "id": "wICA_tkBH7uE"
      }
    },
    {
      "cell_type": "code",
      "execution_count": 32,
      "metadata": {
        "id": "VbgNsVpNw7zb",
        "colab": {
          "base_uri": "https://localhost:8080/"
        },
        "outputId": "440352e8-4a71-4f39-f6c0-9348270e73d9"
      },
      "outputs": [
        {
          "output_type": "stream",
          "name": "stdout",
          "text": [
            "+----+-----+------------------+\n",
            "|year|month|      average_Open|\n",
            "+----+-----+------------------+\n",
            "|2017|    1|  804.972998046875|\n",
            "|2017|    2|  833.583162006579|\n",
            "|2017|    3| 853.0417400857676|\n",
            "|2017|    4| 904.8905286287006|\n",
            "|2017|    5|  960.274092240767|\n",
            "|2017|    6| 995.0422723943537|\n",
            "|2017|    7|1007.6545013427734|\n",
            "|2017|    8|  973.247826617697|\n",
            "|2017|    9| 971.9529998779296|\n",
            "|2017|   10| 999.5400057705966|\n",
            "+----+-----+------------------+\n",
            "only showing top 10 rows\n",
            "\n",
            "+----+-----+------------------+\n",
            "|year|month|     average_Close|\n",
            "+----+-----+------------------+\n",
            "|2017|    1| 807.5050018310546|\n",
            "|2017|    2| 835.7452681692023|\n",
            "|2017|    3| 854.2400008491848|\n",
            "|2017|    4| 903.3857903731497|\n",
            "|2017|    5| 961.7195462313565|\n",
            "|2017|    6| 990.4440890225497|\n",
            "|2017|    7|1008.4839965820313|\n",
            "|2017|    8|    971.4365234375|\n",
            "|2017|    9| 968.9924987792969|\n",
            "|2017|   10|1000.7199956720525|\n",
            "+----+-----+------------------+\n",
            "only showing top 10 rows\n",
            "\n"
          ]
        }
      ],
      "source": [
        "col1 =\"Open\"\n",
        "col2 =\"Close\"\n",
        "\n",
        "open_month = get_average_month(dataset, col1)\n",
        "close_month = get_average_month(dataset, col2)\n",
        "\n",
        "open_month.show(10)\n",
        "close_month.show(10)"
      ]
    },
    {
      "cell_type": "markdown",
      "source": [
        "**Week**"
      ],
      "metadata": {
        "id": "t8eMmDOwH98E"
      }
    },
    {
      "cell_type": "code",
      "execution_count": 33,
      "metadata": {
        "id": "EDvS7tbK9n1H",
        "colab": {
          "base_uri": "https://localhost:8080/"
        },
        "outputId": "9ab6c4fc-cee9-4ad8-b358-5ebbc73ee2ed"
      },
      "outputs": [
        {
          "output_type": "stream",
          "name": "stdout",
          "text": [
            "+----+----+-----------------+\n",
            "|year|week|     average_Open|\n",
            "+----+----+-----------------+\n",
            "|2017|   1|765.0549926757812|\n",
            "|2017|   2|800.5779907226563|\n",
            "|2017|   3|812.6200103759766|\n",
            "|2017|   4|825.8239990234375|\n",
            "|2017|   5|  825.85400390625|\n",
            "|2017|   6| 815.443994140625|\n",
            "|2017|   7|837.2920043945312|\n",
            "|2017|   8|852.0125122070312|\n",
            "|2017|   9|849.4320068359375|\n",
            "|2017|  10|   849.3419921875|\n",
            "+----+----+-----------------+\n",
            "only showing top 10 rows\n",
            "\n",
            "+----+----+-----------------+\n",
            "|year|week|    average_Close|\n",
            "+----+----+-----------------+\n",
            "|2017|   1|771.8224945068359|\n",
            "|2017|   2|804.5240112304688|\n",
            "|2017|   3|808.6424865722656|\n",
            "|2017|   4|830.3520141601563|\n",
            "|2017|   5|827.2719970703125|\n",
            "|2017|   6|817.7340087890625|\n",
            "|2017|   7|    840.966015625|\n",
            "|2017|   8|852.3699951171875|\n",
            "|2017|   9|849.1099975585937|\n",
            "|2017|  10|849.7180053710938|\n",
            "+----+----+-----------------+\n",
            "only showing top 10 rows\n",
            "\n"
          ]
        }
      ],
      "source": [
        "col1 =\"Open\"\n",
        "col2 =\"Close\"\n",
        "\n",
        "open_week = get_average_week(dataset, col1)\n",
        "close_week = get_average_week(dataset, col2)\n",
        "\n",
        "open_week.show(10)\n",
        "close_week.show(10)"
      ]
    },
    {
      "cell_type": "markdown",
      "source": [
        "Daily and monthly stock variation"
      ],
      "metadata": {
        "id": "zA-XR8tMJ0BK"
      }
    },
    {
      "cell_type": "markdown",
      "source": [
        "**Daily**"
      ],
      "metadata": {
        "id": "Wn5ZLHi7l-XS"
      }
    },
    {
      "cell_type": "code",
      "source": [
        "stock_diff = daily_difference(dataset)\n",
        "stock_diff.show(10)"
      ],
      "metadata": {
        "id": "lX0xn3VNmwwc",
        "colab": {
          "base_uri": "https://localhost:8080/"
        },
        "outputId": "a4daf330-a76b-4e97-d47d-d3d5f9724485"
      },
      "execution_count": 34,
      "outputs": [
        {
          "output_type": "stream",
          "name": "stdout",
          "text": [
            "+----------+-----------------+-----------------+-----------------+-----------------+-------+-----------------+------------+-----------------+\n",
            "|      Date|             High|              Low|             Open|            Close| Volume|        Adj Close|company_name| stock_difference|\n",
            "+----------+-----------------+-----------------+-----------------+-----------------+-------+-----------------+------------+-----------------+\n",
            "|2017-01-03| 758.760009765625|747.7000122070312|757.9199829101562|753.6699829101562|3521100|753.6699829101562|      AMAZON|             null|\n",
            "|2017-01-04|759.6799926757812|754.2000122070312|758.3900146484375|757.1799926757812|2510500|757.1799926757812|      AMAZON|   3.510009765625|\n",
            "|2017-01-05|782.4000244140625| 760.260009765625|761.5499877929688|780.4500122070312|5830100|780.4500122070312|      AMAZON|   23.27001953125|\n",
            "|2017-01-06|799.4400024414062|  778.47998046875|782.3599853515625| 795.989990234375|5986200| 795.989990234375|      AMAZON|15.53997802734375|\n",
            "|2017-01-09|  801.77001953125|  791.77001953125|            798.0|796.9199829101562|3446100|796.9199829101562|      AMAZON| 0.92999267578125|\n",
            "|2017-01-10|            798.0|789.5399780273438|796.5999755859375|795.9000244140625|2558400|795.9000244140625|      AMAZON|-1.01995849609375|\n",
            "|2017-01-11|            799.5| 789.510009765625|793.6599731445312|  799.02001953125|2992800|  799.02001953125|      AMAZON|  3.1199951171875|\n",
            "|2017-01-12|814.1300048828125|            799.5|800.3099975585938|813.6400146484375|4873900|813.6400146484375|      AMAZON| 14.6199951171875|\n",
            "|2017-01-13|821.6500244140625|811.4000244140625|814.3200073242188|817.1400146484375|3791900|817.1400146484375|      AMAZON|              3.5|\n",
            "|2017-01-17|            816.0|803.4400024414062|815.7000122070312| 809.719970703125|3670500| 809.719970703125|      AMAZON| -7.4200439453125|\n",
            "+----------+-----------------+-----------------+-----------------+-----------------+-------+-----------------+------------+-----------------+\n",
            "only showing top 10 rows\n",
            "\n"
          ]
        }
      ]
    },
    {
      "cell_type": "markdown",
      "source": [
        "**Monthly**"
      ],
      "metadata": {
        "id": "1IN4_2a2nAV_"
      }
    },
    {
      "cell_type": "code",
      "source": [
        "stock_diff_month = monthly_difference(dataset)\n",
        "stock_diff_month.show(10)"
      ],
      "metadata": {
        "id": "KcCtzkCb8z5r",
        "colab": {
          "base_uri": "https://localhost:8080/"
        },
        "outputId": "c3896c89-613b-4480-d5f4-c23eb01dae3c"
      },
      "execution_count": 35,
      "outputs": [
        {
          "output_type": "stream",
          "name": "stdout",
          "text": [
            "+----------+------------------+-----------------+-----------------+-----------------+-------+-----------------+------------+------------------+\n",
            "|      Date|              High|              Low|             Open|            Close| Volume|        Adj Close|company_name|  stock_difference|\n",
            "+----------+------------------+-----------------+-----------------+-----------------+-------+-----------------+------------+------------------+\n",
            "|2017-01-03|  758.760009765625|747.7000122070312|757.9199829101562|753.6699829101562|3521100|753.6699829101562|      AMAZON|              null|\n",
            "|2017-02-01|  833.780029296875|824.9400024414062|829.2100219726562|832.3499755859375|3850200|832.3499755859375|      AMAZON| 78.67999267578125|\n",
            "|2017-03-01| 854.8300170898438| 849.010009765625|853.0499877929688|853.0800170898438|2760100|853.0800170898438|      AMAZON| 20.73004150390625|\n",
            "|2017-04-03|  893.489990234375|885.4199829101562|            888.0| 891.510009765625|3422300| 891.510009765625|      AMAZON| 38.42999267578125|\n",
            "|2017-05-01| 954.4000244140625|927.7999877929688|927.7999877929688|  948.22998046875|5466500|  948.22998046875|      AMAZON|   56.719970703125|\n",
            "|2017-06-01|  998.989990234375|991.3699951171875|998.5900268554688|995.9500122070312|2454800|995.9500122070312|      AMAZON| 47.72003173828125|\n",
            "|2017-07-03|  974.489990234375|            951.0|972.7899780273438|953.6599731445312|2909100|953.6599731445312|      AMAZON|    -42.2900390625|\n",
            "|2017-08-01|1006.4000244140625|991.5800170898438|996.1099853515625|996.1900024414062|4572600|996.1900024414062|      AMAZON|   42.530029296875|\n",
            "|2017-09-01|             984.5|976.8800048828125|984.2000122070312|           978.25|2535900|           978.25|      AMAZON|-17.94000244140625|\n",
            "|2017-10-02| 967.3099975585938|952.1199951171875|            964.0|959.1900024414062|2442900|959.1900024414062|      AMAZON|-19.05999755859375|\n",
            "+----------+------------------+-----------------+-----------------+-----------------+-------+-----------------+------------+------------------+\n",
            "only showing top 10 rows\n",
            "\n"
          ]
        }
      ]
    },
    {
      "cell_type": "markdown",
      "source": [
        "Calculating the daily return"
      ],
      "metadata": {
        "id": "-duwISqTIAG8"
      }
    },
    {
      "cell_type": "code",
      "execution_count": 36,
      "metadata": {
        "id": "PEbMHGZGbDCV",
        "colab": {
          "base_uri": "https://localhost:8080/"
        },
        "outputId": "ca51298d-d9f9-41a3-fd34-3d47992979a8"
      },
      "outputs": [
        {
          "output_type": "stream",
          "name": "stdout",
          "text": [
            "+----------+-----------------+-----------------+-----------------+-----------------+-------+-----------------+------------+-----------------+\n",
            "|      Date|             High|              Low|             Open|            Close| Volume|        Adj Close|company_name|     Daily_return|\n",
            "+----------+-----------------+-----------------+-----------------+-----------------+-------+-----------------+------------+-----------------+\n",
            "|2017-01-03| 758.760009765625|747.7000122070312|757.9199829101562|753.6699829101562|3521100|753.6699829101562|      AMAZON|            -4.25|\n",
            "|2017-01-04|759.6799926757812|754.2000122070312|758.3900146484375|757.1799926757812|2510500|757.1799926757812|      AMAZON|-1.21002197265625|\n",
            "|2017-01-05|782.4000244140625| 760.260009765625|761.5499877929688|780.4500122070312|5830100|780.4500122070312|      AMAZON| 18.9000244140625|\n",
            "|2017-01-06|799.4400024414062|  778.47998046875|782.3599853515625| 795.989990234375|5986200| 795.989990234375|      AMAZON| 13.6300048828125|\n",
            "|2017-01-09|  801.77001953125|  791.77001953125|            798.0|796.9199829101562|3446100|796.9199829101562|      AMAZON|-1.08001708984375|\n",
            "|2017-01-10|            798.0|789.5399780273438|796.5999755859375|795.9000244140625|2558400|795.9000244140625|      AMAZON|  -0.699951171875|\n",
            "|2017-01-11|            799.5| 789.510009765625|793.6599731445312|  799.02001953125|2992800|  799.02001953125|      AMAZON| 5.36004638671875|\n",
            "|2017-01-12|814.1300048828125|            799.5|800.3099975585938|813.6400146484375|4873900|813.6400146484375|      AMAZON|13.33001708984375|\n",
            "|2017-01-13|821.6500244140625|811.4000244140625|814.3200073242188|817.1400146484375|3791900|817.1400146484375|      AMAZON| 2.82000732421875|\n",
            "|2017-01-17|            816.0|803.4400024414062|815.7000122070312| 809.719970703125|3670500| 809.719970703125|      AMAZON|-5.98004150390625|\n",
            "+----------+-----------------+-----------------+-----------------+-----------------+-------+-----------------+------------+-----------------+\n",
            "only showing top 10 rows\n",
            "\n"
          ]
        }
      ],
      "source": [
        "updateddf = calculate_daily_return(dataset)\n",
        "updateddf.show(10)"
      ]
    },
    {
      "cell_type": "markdown",
      "source": [
        "Average daily return by period"
      ],
      "metadata": {
        "id": "MHyDybQ6IFfQ"
      }
    },
    {
      "cell_type": "code",
      "execution_count": 37,
      "metadata": {
        "id": "WbiGUwK0nPY-",
        "colab": {
          "base_uri": "https://localhost:8080/"
        },
        "outputId": "703a1dd9-122d-4910-b505-e9ef599b1f87"
      },
      "outputs": [
        {
          "output_type": "stream",
          "name": "stdout",
          "text": [
            "+----+--------------------+\n",
            "|year|average_Daily_return|\n",
            "+----+--------------------+\n",
            "|2017|-0.10860731877178785|\n",
            "|2018| -2.3465333003921813|\n",
            "|2019| 0.44301641555059523|\n",
            "|2020|  0.1441503696687232|\n",
            "+----+--------------------+\n",
            "\n",
            "+----+-----+--------------------+\n",
            "|year|month|average_Daily_return|\n",
            "+----+-----+--------------------+\n",
            "|2017|    1|  2.5320037841796874|\n",
            "|2017|    2|  2.1621061626233553|\n",
            "|2017|    3|  1.1982607634171196|\n",
            "|2017|    4|  -1.504738255550987|\n",
            "|2017|    5|  1.4454539905894885|\n",
            "|2017|    6| -4.5981833718039775|\n",
            "|2017|    7|  0.8294952392578125|\n",
            "|2017|    8|  -1.811303180197011|\n",
            "|2017|    9| -2.9605010986328124|\n",
            "|2017|   10|  1.1799899014559658|\n",
            "+----+-----+--------------------+\n",
            "only showing top 10 rows\n",
            "\n",
            "+----+----+--------------------+\n",
            "|year|week|average_Daily_return|\n",
            "+----+----+--------------------+\n",
            "|2017|   1|  6.7675018310546875|\n",
            "|2017|   2|     3.9460205078125|\n",
            "|2017|   3| -3.9775238037109375|\n",
            "|2017|   4|    4.52801513671875|\n",
            "|2017|   5|     1.4179931640625|\n",
            "|2017|   6|     2.2900146484375|\n",
            "|2017|   7|    3.67401123046875|\n",
            "|2017|   8|    0.35748291015625|\n",
            "|2017|   9|   -0.32200927734375|\n",
            "|2017|  10|    0.37601318359375|\n",
            "+----+----+--------------------+\n",
            "only showing top 10 rows\n",
            "\n"
          ]
        }
      ],
      "source": [
        "column_name = \"Daily_return\"\n",
        "\n",
        "daily_return_year = get_average_year(updateddf, column_name)\n",
        "daily_return_year.show(10)\n",
        "\n",
        "daily_return_month = get_average_month(updateddf, column_name)\n",
        "daily_return_month.show(10)\n",
        "\n",
        "daily_return_week = get_average_week(updateddf, column_name)\n",
        "daily_return_week.show(10)"
      ]
    },
    {
      "cell_type": "markdown",
      "source": [
        "Get the highest daily return either globaly or for a given period"
      ],
      "metadata": {
        "id": "bzqy2p0gJWUl"
      }
    },
    {
      "cell_type": "code",
      "execution_count": 38,
      "metadata": {
        "id": "q7fVC_wUgObc",
        "colab": {
          "base_uri": "https://localhost:8080/"
        },
        "outputId": "aec11495-e701-48f2-c432-75968697456c"
      },
      "outputs": [
        {
          "output_type": "stream",
          "name": "stdout",
          "text": [
            "+----------+-----------------+-----------------+-----------------+-----------------+-------+-----------------+------------+-----------------+\n",
            "|      Date|             High|              Low|             Open|            Close| Volume|        Adj Close|company_name|     Daily_return|\n",
            "+----------+-----------------+-----------------+-----------------+-----------------+-------+-----------------+------------+-----------------+\n",
            "|2017-01-05|782.4000244140625| 760.260009765625|761.5499877929688|780.4500122070312|5830100|780.4500122070312|      AMAZON| 18.9000244140625|\n",
            "|2017-01-06|799.4400024414062|  778.47998046875|782.3599853515625| 795.989990234375|5986200| 795.989990234375|      AMAZON| 13.6300048828125|\n",
            "|2017-01-12|814.1300048828125|            799.5|800.3099975585938|813.6400146484375|4873900|813.6400146484375|      AMAZON|13.33001708984375|\n",
            "|2017-01-11|            799.5| 789.510009765625|793.6599731445312|  799.02001953125|2992800|  799.02001953125|      AMAZON| 5.36004638671875|\n",
            "|2017-01-13|821.6500244140625|811.4000244140625|814.3200073242188|817.1400146484375|3791900|817.1400146484375|      AMAZON| 2.82000732421875|\n",
            "|2017-01-10|            798.0|789.5399780273438|796.5999755859375|795.9000244140625|2558400|795.9000244140625|      AMAZON|  -0.699951171875|\n",
            "|2017-01-09|  801.77001953125|  791.77001953125|            798.0|796.9199829101562|3446100|796.9199829101562|      AMAZON|-1.08001708984375|\n",
            "|2017-01-04|759.6799926757812|754.2000122070312|758.3900146484375|757.1799926757812|2510500|757.1799926757812|      AMAZON|-1.21002197265625|\n",
            "|2017-01-03| 758.760009765625|747.7000122070312|757.9199829101562|753.6699829101562|3521100|753.6699829101562|      AMAZON|            -4.25|\n",
            "|2017-01-17|            816.0|803.4400024414062|815.7000122070312| 809.719970703125|3670500| 809.719970703125|      AMAZON|-5.98004150390625|\n",
            "+----------+-----------------+-----------------+-----------------+-----------------+-------+-----------------+------------+-----------------+\n",
            "\n"
          ]
        }
      ],
      "source": [
        "start = \"2017-01-03\"\n",
        "end = \"2017-01-17\"\n",
        "sorteddf = get_highest_dr(updateddf, start, end)\n",
        "sorteddf.show(10)"
      ]
    },
    {
      "cell_type": "markdown",
      "source": [
        "**Moving Average**"
      ],
      "metadata": {
        "id": "Cvl7S2dR-ZQ4"
      }
    },
    {
      "cell_type": "code",
      "source": [
        "column = \"Close\"\n",
        "n = 5\n",
        "reference_date=\"2019-05-03\"\n",
        "\n",
        "moving = calculate_moving_average(dataset,column,n,reference_date)\n",
        "moving.show(10)"
      ],
      "metadata": {
        "id": "wRaGEO6dA7ic",
        "colab": {
          "base_uri": "https://localhost:8080/"
        },
        "outputId": "587b4408-98bd-411a-979c-ba84a687d0d2"
      },
      "execution_count": 39,
      "outputs": [
        {
          "output_type": "stream",
          "name": "stdout",
          "text": [
            "+----------+------------------+------------------+------------------+------------------+-------+------------------+------------+------------------+\n",
            "|      Date|              High|               Low|              Open|             Close| Volume|         Adj Close|company_name|  Close_moving_avg|\n",
            "+----------+------------------+------------------+------------------+------------------+-------+------------------+------------+------------------+\n",
            "|2019-05-03|1964.4000244140625|            1936.0|            1949.0|   1962.4599609375|6381600|   1962.4599609375|      AMAZON|           1927.95|\n",
            "|2019-05-06|            1959.0|            1910.5|  1917.97998046875| 1950.550048828125|5417800| 1950.550048828125|      AMAZON|1930.3739990234376|\n",
            "|2019-05-07|1949.0999755859375|1903.3800048828125| 1939.989990234375|            1921.0|5902100|            1921.0|      AMAZON|1929.2699951171876|\n",
            "|2019-05-08|1935.3699951171875|            1910.0|1918.8699951171875|  1917.77001953125|4078600|  1917.77001953125|      AMAZON|1930.5199951171876|\n",
            "|2019-05-09|1909.4000244140625|            1876.0|            1900.0|1899.8699951171875|5308300|1899.8699951171875|      AMAZON|1930.3300048828125|\n",
            "|2019-05-10|   1903.7900390625|            1856.0|            1898.0|  1889.97998046875|5718000|  1889.97998046875|      AMAZON|1915.8340087890624|\n",
            "|2019-05-13|   1846.5400390625|            1818.0|  1836.56005859375|1822.6800537109375|5783400|1822.6800537109375|      AMAZON| 1890.260009765625|\n",
            "|2019-05-14|  1852.43994140625|           1815.75|            1839.5|1840.1199951171875|4629100|1840.1199951171875|      AMAZON|1874.0840087890624|\n",
            "|2019-05-15|1874.4300537109375|            1823.0| 1827.949951171875|1871.1500244140625|4692600|1871.1500244140625|      AMAZON| 1864.760009765625|\n",
            "|2019-05-16| 1917.510009765625|   1882.2900390625|  1885.93994140625|1907.5699462890625|4707800|1907.5699462890625|      AMAZON|            1866.3|\n",
            "+----------+------------------+------------------+------------------+------------------+-------+------------------+------------+------------------+\n",
            "only showing top 10 rows\n",
            "\n"
          ]
        }
      ]
    },
    {
      "cell_type": "markdown",
      "source": [
        "**Rate of Return (RoR)**"
      ],
      "metadata": {
        "id": "BPCJYacbIA2t"
      }
    },
    {
      "cell_type": "markdown",
      "source": [
        "RoR one day to another"
      ],
      "metadata": {
        "id": "Pym8liFBw_TL"
      }
    },
    {
      "cell_type": "markdown",
      "source": [
        "RoR on a given time period"
      ],
      "metadata": {
        "id": "cu-DVIAExCb6"
      }
    },
    {
      "cell_type": "code",
      "source": [
        "start_date = '2018-05-01'\n",
        "period = 90\n",
        "ror_df = get_ror_period(dataset, start_date, period)\n",
        "\n",
        "ror_df.orderBy(F.desc(\"return_rate\")).show()"
      ],
      "metadata": {
        "id": "49Zu43PStWKn",
        "colab": {
          "base_uri": "https://localhost:8080/"
        },
        "outputId": "6e446319-ab7b-434d-c5d3-7f16b30b2435"
      },
      "execution_count": 40,
      "outputs": [
        {
          "output_type": "stream",
          "name": "stdout",
          "text": [
            "+----------+------------------+------------------+------------------+------------------+-------+------------------+------------+-------------------+\n",
            "|      date|              High|               Low|              Open|             Close| Volume|         Adj Close|company_name|        return_rate|\n",
            "+----------+------------------+------------------+------------------+------------------+-------+------------------+------------+-------------------+\n",
            "|2018-07-25|1863.8399658203125|1822.6400146484375| 1829.300048828125|1863.6099853515625|3738200|1863.6099853515625|      AMAZON| 0.1778152603550999|\n",
            "|2018-07-17|  1851.68994140625|1797.3800048828125|  1811.56005859375|1843.9300537109375|5682900|1843.9300537109375|      AMAZON|0.16537739836076173|\n",
            "|2018-07-18|1858.8800048828125|  1831.27001953125|            1848.0|1842.9200439453125|4861900|1842.9200439453125|      AMAZON| 0.1647390647370897|\n",
            "|2018-07-24|            1840.0|1809.3800048828125| 1829.010009765625| 1829.239990234375|4278700| 1829.239990234375|      AMAZON|0.15609316986108646|\n",
            "|2018-07-16| 1841.949951171875| 1814.449951171875| 1821.949951171875| 1822.489990234375|5466200| 1822.489990234375|      AMAZON| 0.1518271200599543|\n",
            "|2018-07-27| 1880.050048828125| 1806.530029296875| 1876.050048828125|  1817.27001953125|9681000|  1817.27001953125|      AMAZON| 0.1485280600629199|\n",
            "|2018-07-20|1834.8399658203125|  1810.06005859375| 1825.010009765625| 1813.699951171875|3884400| 1813.699951171875|      AMAZON| 0.1462717505200251|\n",
            "|2018-07-13| 1815.300048828125|  1795.22998046875|1803.9300537109375| 1813.030029296875|4383200| 1813.030029296875|      AMAZON|0.14584835495237802|\n",
            "|2018-07-19|            1841.0|  1811.27001953125|   1829.4599609375| 1812.969970703125|4676900| 1812.969970703125|      AMAZON|  0.145810397478019|\n",
            "|2018-07-26|1844.6800537109375|            1804.5|            1839.0|            1808.0|9924400|            1808.0|      AMAZON|  0.142669339325471|\n",
            "|2018-07-23|            1819.0| 1769.989990234375|   1812.2099609375|            1802.0|3888500|            1802.0|      AMAZON|0.13887729505779797|\n",
            "|2018-07-12|            1798.0|1762.1800537109375| 1764.510009765625|1796.6199951171875|4532700|1796.6199951171875|      AMAZON|0.13547709227847762|\n",
            "|2018-07-30|            1829.5|  1766.02001953125|1827.3299560546875| 1779.219970703125|6562300| 1779.219970703125|      AMAZON|0.12448014847235823|\n",
            "|2018-07-11|   1756.9599609375|            1734.0| 1737.989990234375|            1755.0|3209800|            1755.0|      AMAZON|0.10917294829435929|\n",
            "|2018-06-20|1762.9300537109375|1741.3599853515625|            1742.5|1750.0799560546875|4332600|1750.0799560546875|      AMAZON|0.10606344422110568|\n",
            "|2018-07-10|            1750.0|            1731.0| 1738.530029296875|1743.0699462890625|3002900|1743.0699462890625|      AMAZON|0.10163306632976064|\n",
            "|2018-07-09|  1739.56005859375|  1716.22998046875| 1724.050048828125|  1739.02001953125|3012000|  1739.02001953125|      AMAZON|0.09907348273868424|\n",
            "|2018-06-19|1736.1099853515625|1700.3900146484375|   1709.0400390625| 1734.780029296875|4290100| 1734.780029296875|      AMAZON|0.09639377762814234|\n",
            "|2018-06-21|1763.0999755859375|  1717.56005859375|            1760.0| 1730.219970703125|4941100| 1730.219970703125|      AMAZON|0.09351178695302854|\n",
            "|2018-06-14| 1724.800048828125|1708.8699951171875|  1713.47998046875|1723.8599853515625|3174400|1723.8599853515625|      AMAZON|0.08949222928721572|\n",
            "+----------+------------------+------------------+------------------+------------------+-------+------------------+------------+-------------------+\n",
            "only showing top 20 rows\n",
            "\n"
          ]
        }
      ]
    },
    {
      "cell_type": "markdown",
      "source": [
        "**Correlation between stocks**"
      ],
      "metadata": {
        "id": "jQzAW4T_xue4"
      }
    },
    {
      "cell_type": "code",
      "source": [
        "dataset2.show()"
      ],
      "metadata": {
        "colab": {
          "base_uri": "https://localhost:8080/"
        },
        "id": "1YS1LiAvyJIU",
        "outputId": "c2f5d0e8-ab3d-4316-b0ff-4dd218485b4f"
      },
      "execution_count": 41,
      "outputs": [
        {
          "output_type": "stream",
          "name": "stdout",
          "text": [
            "+----------+------------------+------------------+------------------+------------------+----------+------------------+------------+\n",
            "|      Date|              High|               Low|              Open|             Close|    Volume|         Adj Close|company_name|\n",
            "+----------+------------------+------------------+------------------+------------------+----------+------------------+------------+\n",
            "|2017-01-03|29.082500457763672|28.690000534057617|28.950000762939453|29.037500381469727|1.151276E8|27.277639389038086|       APPLE|\n",
            "|2017-01-04|29.127500534057617|           28.9375|28.962499618530273|  29.0049991607666| 8.44724E7|27.247108459472656|       APPLE|\n",
            "|2017-01-05| 29.21500015258789|28.952499389648438|28.979999542236328| 29.15250015258789| 8.87744E7| 27.38566780090332|       APPLE|\n",
            "|2017-01-06|29.540000915527344| 29.11750030517578| 29.19499969482422|29.477500915527344|1.270076E8| 27.69097137451172|       APPLE|\n",
            "|2017-01-09|29.857500076293945|29.485000610351562|29.487499237060547|29.747499465942383|1.342476E8|27.944602966308594|       APPLE|\n",
            "|2017-01-10|29.844999313354492|29.575000762939453|  29.6924991607666| 29.77750015258789| 9.78484E7| 27.97278594970703|       APPLE|\n",
            "|2017-01-11|29.982500076293945|29.649999618530273|29.684999465942383|           29.9375|1.103544E8|28.123088836669922|       APPLE|\n",
            "|2017-01-12|29.825000762939453|29.552499771118164|29.725000381469727|           29.8125|1.083448E8|28.005664825439453|       APPLE|\n",
            "|2017-01-13|29.905000686645508|29.702499389648438| 29.77750015258789|29.760000228881836|1.044476E8|27.956350326538086|       APPLE|\n",
            "|2017-01-17|30.059999465942383| 29.55500030517578|29.584999084472656|              30.0|1.377592E8|28.181800842285156|       APPLE|\n",
            "|2017-01-18|            30.125|29.927499771118164|              30.0|29.997499465942383|  9.4852E7| 28.17945671081543|       APPLE|\n",
            "|2017-01-19|30.022499084472656|29.842500686645508|29.850000381469727| 29.94499969482422|1.023892E8|  28.1301326751709|       APPLE|\n",
            "|2017-01-20|30.112499237060547|  29.9325008392334|30.112499237060547|              30.0|1.303916E8|28.181800842285156|       APPLE|\n",
            "|2017-01-23|30.202499389648438|  29.9424991607666|              30.0|30.020000457763672| 8.82008E7|28.200590133666992|       APPLE|\n",
            "|2017-01-24|30.024999618530273|            29.875|29.887500762939453| 29.99250030517578|  9.2844E7| 28.17475700378418|       APPLE|\n",
            "|2017-01-25|30.524999618530273| 30.06999969482422|30.104999542236328|30.469999313354492|1.295104E8|28.623313903808594|       APPLE|\n",
            "|2017-01-26|30.610000610351562|30.399999618530273|30.417499542236328|30.485000610351562|1.053504E8|28.637407302856445|       APPLE|\n",
            "|2017-01-27|30.587499618530273|30.399999618530273| 30.53499984741211|30.487499237060547| 8.22516E7|28.639755249023438|       APPLE|\n",
            "|2017-01-30|30.407499313354492|30.165000915527344|30.232500076293945|30.407499313354492|  1.2151E8|28.564605712890625|       APPLE|\n",
            "|2017-01-31| 30.34749984741211|30.155000686645508|30.287500381469727|30.337499618530273| 1.96804E8|28.498844146728516|       APPLE|\n",
            "+----------+------------------+------------------+------------------+------------------+----------+------------------+------------+\n",
            "only showing top 20 rows\n",
            "\n"
          ]
        }
      ]
    },
    {
      "cell_type": "code",
      "source": [
        "start_date=\"2017-01-10\"\n",
        "end_date=\"2017-02-02\"\n",
        "\n",
        "correlation_value = calculate_stock_correlation(dataset, dataset2)\n",
        "\n",
        "print(f\"Correlation coefficient between stocks on the given span: {correlation_value}\")\n"
      ],
      "metadata": {
        "colab": {
          "base_uri": "https://localhost:8080/"
        },
        "id": "uv1Cn86x4RB6",
        "outputId": "dcab03e5-f66b-4d1e-c507-c7ec0d0d29ad"
      },
      "execution_count": 42,
      "outputs": [
        {
          "output_type": "stream",
          "name": "stdout",
          "text": [
            "Correlation coefficient between stocks on the given span: 0.9292860084204524\n"
          ]
        }
      ]
    },
    {
      "cell_type": "markdown",
      "source": [
        "***"
      ],
      "metadata": {
        "id": "TiV7Ra7fz1bH"
      }
    },
    {
      "cell_type": "code",
      "source": [
        "dataset = get_trading_value(dataset)\n",
        "dataset2 = get_trading_value(dataset2)\n",
        "dataset3 = get_trading_value(dataset3)\n",
        "dataset4 = get_trading_value(dataset4)"
      ],
      "metadata": {
        "id": "njKXiDQ0P_rd"
      },
      "execution_count": 43,
      "outputs": []
    },
    {
      "cell_type": "code",
      "source": [
        "fig = plot_stock()\n",
        "\n",
        "add_trace_plot(dataset, fig)\n",
        "add_trace_plot(dataset2, fig)\n",
        "add_trace_plot(dataset3, fig)\n",
        "add_trace_plot(dataset4, fig)"
      ],
      "metadata": {
        "colab": {
          "base_uri": "https://localhost:8080/",
          "height": 542
        },
        "id": "ddl2KDDAQ4bg",
        "outputId": "cf75c027-3f1f-4b39-dff5-1d758d849936"
      },
      "execution_count": 44,
      "outputs": [
        {
          "output_type": "display_data",
          "data": {
            "text/html": [
              "<html>\n",
              "<head><meta charset=\"utf-8\" /></head>\n",
              "<body>\n",
              "    <div>            <script src=\"https://cdnjs.cloudflare.com/ajax/libs/mathjax/2.7.5/MathJax.js?config=TeX-AMS-MML_SVG\"></script><script type=\"text/javascript\">if (window.MathJax && window.MathJax.Hub && window.MathJax.Hub.Config) {window.MathJax.Hub.Config({SVG: {font: \"STIX-Web\"}});}</script>                <script type=\"text/javascript\">window.PlotlyConfig = {MathJaxConfig: 'local'};</script>\n",
              "        <script charset=\"utf-8\" src=\"https://cdn.plot.ly/plotly-2.35.2.min.js\"></script>                <div id=\"57423113-fada-4120-9648-233967c14098\" class=\"plotly-graph-div\" style=\"height:525px; width:100%;\"></div>            <script type=\"text/javascript\">                                    window.PLOTLYENV=window.PLOTLYENV || {};                                    if (document.getElementById(\"57423113-fada-4120-9648-233967c14098\")) {                    Plotly.newPlot(                        \"57423113-fada-4120-9648-233967c14098\",                        [{\"mode\":\"lines\",\"name\":\"Other Value\",\"x\":[\"2017-01-03\",\"2017-01-04\",\"2017-01-05\",\"2017-01-06\",\"2017-01-09\",\"2017-01-10\",\"2017-01-11\",\"2017-01-12\",\"2017-01-13\",\"2017-01-17\",\"2017-01-18\",\"2017-01-19\",\"2017-01-20\",\"2017-01-23\",\"2017-01-24\",\"2017-01-25\",\"2017-01-26\",\"2017-01-27\",\"2017-01-30\",\"2017-01-31\",\"2017-02-01\",\"2017-02-02\",\"2017-02-03\",\"2017-02-06\",\"2017-02-07\",\"2017-02-08\",\"2017-02-09\",\"2017-02-10\",\"2017-02-13\",\"2017-02-14\",\"2017-02-15\",\"2017-02-16\",\"2017-02-17\",\"2017-02-21\",\"2017-02-22\",\"2017-02-23\",\"2017-02-24\",\"2017-02-27\",\"2017-02-28\",\"2017-03-01\",\"2017-03-02\",\"2017-03-03\",\"2017-03-06\",\"2017-03-07\",\"2017-03-08\",\"2017-03-09\",\"2017-03-10\",\"2017-03-13\",\"2017-03-14\",\"2017-03-15\",\"2017-03-16\",\"2017-03-17\",\"2017-03-20\",\"2017-03-21\",\"2017-03-22\",\"2017-03-23\",\"2017-03-24\",\"2017-03-27\",\"2017-03-28\",\"2017-03-29\",\"2017-03-30\",\"2017-03-31\",\"2017-04-03\",\"2017-04-04\",\"2017-04-05\",\"2017-04-06\",\"2017-04-07\",\"2017-04-10\",\"2017-04-11\",\"2017-04-12\",\"2017-04-13\",\"2017-04-17\",\"2017-04-18\",\"2017-04-19\",\"2017-04-20\",\"2017-04-21\",\"2017-04-24\",\"2017-04-25\",\"2017-04-26\",\"2017-04-27\",\"2017-04-28\",\"2017-05-01\",\"2017-05-02\",\"2017-05-03\",\"2017-05-04\",\"2017-05-05\",\"2017-05-08\",\"2017-05-09\",\"2017-05-10\",\"2017-05-11\",\"2017-05-12\",\"2017-05-15\",\"2017-05-16\",\"2017-05-17\",\"2017-05-18\",\"2017-05-19\",\"2017-05-22\",\"2017-05-23\",\"2017-05-24\",\"2017-05-25\",\"2017-05-26\",\"2017-05-30\",\"2017-05-31\",\"2017-06-01\",\"2017-06-02\",\"2017-06-05\",\"2017-06-06\",\"2017-06-07\",\"2017-06-08\",\"2017-06-09\",\"2017-06-12\",\"2017-06-13\",\"2017-06-14\",\"2017-06-15\",\"2017-06-16\",\"2017-06-19\",\"2017-06-20\",\"2017-06-21\",\"2017-06-22\",\"2017-06-23\",\"2017-06-26\",\"2017-06-27\",\"2017-06-28\",\"2017-06-29\",\"2017-06-30\",\"2017-07-03\",\"2017-07-05\",\"2017-07-06\",\"2017-07-07\",\"2017-07-10\",\"2017-07-11\",\"2017-07-12\",\"2017-07-13\",\"2017-07-14\",\"2017-07-17\",\"2017-07-18\",\"2017-07-19\",\"2017-07-20\",\"2017-07-21\",\"2017-07-24\",\"2017-07-25\",\"2017-07-26\",\"2017-07-27\",\"2017-07-28\",\"2017-07-31\",\"2017-08-01\",\"2017-08-02\",\"2017-08-03\",\"2017-08-04\",\"2017-08-07\",\"2017-08-08\",\"2017-08-09\",\"2017-08-10\",\"2017-08-11\",\"2017-08-14\",\"2017-08-15\",\"2017-08-16\",\"2017-08-17\",\"2017-08-18\",\"2017-08-21\",\"2017-08-22\",\"2017-08-23\",\"2017-08-24\",\"2017-08-25\",\"2017-08-28\",\"2017-08-29\",\"2017-08-30\",\"2017-08-31\",\"2017-09-01\",\"2017-09-05\",\"2017-09-06\",\"2017-09-07\",\"2017-09-08\",\"2017-09-11\",\"2017-09-12\",\"2017-09-13\",\"2017-09-14\",\"2017-09-15\",\"2017-09-18\",\"2017-09-19\",\"2017-09-20\",\"2017-09-21\",\"2017-09-22\",\"2017-09-25\",\"2017-09-26\",\"2017-09-27\",\"2017-09-28\",\"2017-09-29\",\"2017-10-02\",\"2017-10-03\",\"2017-10-04\",\"2017-10-05\",\"2017-10-06\",\"2017-10-09\",\"2017-10-10\",\"2017-10-11\",\"2017-10-12\",\"2017-10-13\",\"2017-10-16\",\"2017-10-17\",\"2017-10-18\",\"2017-10-19\",\"2017-10-20\",\"2017-10-23\",\"2017-10-24\",\"2017-10-25\",\"2017-10-26\",\"2017-10-27\",\"2017-10-30\",\"2017-10-31\",\"2017-11-01\",\"2017-11-02\",\"2017-11-03\",\"2017-11-06\",\"2017-11-07\",\"2017-11-08\",\"2017-11-09\",\"2017-11-10\",\"2017-11-13\",\"2017-11-14\",\"2017-11-15\",\"2017-11-16\",\"2017-11-17\",\"2017-11-20\",\"2017-11-21\",\"2017-11-22\",\"2017-11-24\",\"2017-11-27\",\"2017-11-28\",\"2017-11-29\",\"2017-11-30\",\"2017-12-01\",\"2017-12-04\",\"2017-12-05\",\"2017-12-06\",\"2017-12-07\",\"2017-12-08\",\"2017-12-11\",\"2017-12-12\",\"2017-12-13\",\"2017-12-14\",\"2017-12-15\",\"2017-12-18\",\"2017-12-19\",\"2017-12-20\",\"2017-12-21\",\"2017-12-22\",\"2017-12-26\",\"2017-12-27\",\"2017-12-28\",\"2017-12-29\",\"2018-01-02\",\"2018-01-03\",\"2018-01-04\",\"2018-01-05\",\"2018-01-08\",\"2018-01-09\",\"2018-01-10\",\"2018-01-11\",\"2018-01-12\",\"2018-01-16\",\"2018-01-17\",\"2018-01-18\",\"2018-01-19\",\"2018-01-22\",\"2018-01-23\",\"2018-01-24\",\"2018-01-25\",\"2018-01-26\",\"2018-01-29\",\"2018-01-30\",\"2018-01-31\",\"2018-02-01\",\"2018-02-02\",\"2018-02-05\",\"2018-02-06\",\"2018-02-07\",\"2018-02-08\",\"2018-02-09\",\"2018-02-12\",\"2018-02-13\",\"2018-02-14\",\"2018-02-15\",\"2018-02-16\",\"2018-02-20\",\"2018-02-21\",\"2018-02-22\",\"2018-02-23\",\"2018-02-26\",\"2018-02-27\",\"2018-02-28\",\"2018-03-01\",\"2018-03-02\",\"2018-03-05\",\"2018-03-06\",\"2018-03-07\",\"2018-03-08\",\"2018-03-09\",\"2018-03-12\",\"2018-03-13\",\"2018-03-14\",\"2018-03-15\",\"2018-03-16\",\"2018-03-19\",\"2018-03-20\",\"2018-03-21\",\"2018-03-22\",\"2018-03-23\",\"2018-03-26\",\"2018-03-27\",\"2018-03-28\",\"2018-03-29\",\"2018-04-02\",\"2018-04-03\",\"2018-04-04\",\"2018-04-05\",\"2018-04-06\",\"2018-04-09\",\"2018-04-10\",\"2018-04-11\",\"2018-04-12\",\"2018-04-13\",\"2018-04-16\",\"2018-04-17\",\"2018-04-18\",\"2018-04-19\",\"2018-04-20\",\"2018-04-23\",\"2018-04-24\",\"2018-04-25\",\"2018-04-26\",\"2018-04-27\",\"2018-04-30\",\"2018-05-01\",\"2018-05-02\",\"2018-05-03\",\"2018-05-04\",\"2018-05-07\",\"2018-05-08\",\"2018-05-09\",\"2018-05-10\",\"2018-05-11\",\"2018-05-14\",\"2018-05-15\",\"2018-05-16\",\"2018-05-17\",\"2018-05-18\",\"2018-05-21\",\"2018-05-22\",\"2018-05-23\",\"2018-05-24\",\"2018-05-25\",\"2018-05-29\",\"2018-05-30\",\"2018-05-31\",\"2018-06-01\",\"2018-06-04\",\"2018-06-05\",\"2018-06-06\",\"2018-06-07\",\"2018-06-08\",\"2018-06-11\",\"2018-06-12\",\"2018-06-13\",\"2018-06-14\",\"2018-06-15\",\"2018-06-18\",\"2018-06-19\",\"2018-06-20\",\"2018-06-21\",\"2018-06-22\",\"2018-06-25\",\"2018-06-26\",\"2018-06-27\",\"2018-06-28\",\"2018-06-29\",\"2018-07-02\",\"2018-07-03\",\"2018-07-05\",\"2018-07-06\",\"2018-07-09\",\"2018-07-10\",\"2018-07-11\",\"2018-07-12\",\"2018-07-13\",\"2018-07-16\",\"2018-07-17\",\"2018-07-18\",\"2018-07-19\",\"2018-07-20\",\"2018-07-23\",\"2018-07-24\",\"2018-07-25\",\"2018-07-26\",\"2018-07-27\",\"2018-07-30\",\"2018-07-31\",\"2018-08-01\",\"2018-08-02\",\"2018-08-03\",\"2018-08-06\",\"2018-08-07\",\"2018-08-08\",\"2018-08-09\",\"2018-08-10\",\"2018-08-13\",\"2018-08-14\",\"2018-08-15\",\"2018-08-16\",\"2018-08-17\",\"2018-08-20\",\"2018-08-21\",\"2018-08-22\",\"2018-08-23\",\"2018-08-24\",\"2018-08-27\",\"2018-08-28\",\"2018-08-29\",\"2018-08-30\",\"2018-08-31\",\"2018-09-04\",\"2018-09-05\",\"2018-09-06\",\"2018-09-07\",\"2018-09-10\",\"2018-09-11\",\"2018-09-12\",\"2018-09-13\",\"2018-09-14\",\"2018-09-17\",\"2018-09-18\",\"2018-09-19\",\"2018-09-20\",\"2018-09-21\",\"2018-09-24\",\"2018-09-25\",\"2018-09-26\",\"2018-09-27\",\"2018-09-28\",\"2018-10-01\",\"2018-10-02\",\"2018-10-03\",\"2018-10-04\",\"2018-10-05\",\"2018-10-08\",\"2018-10-09\",\"2018-10-10\",\"2018-10-11\",\"2018-10-12\",\"2018-10-15\",\"2018-10-16\",\"2018-10-17\",\"2018-10-18\",\"2018-10-19\",\"2018-10-22\",\"2018-10-23\",\"2018-10-24\",\"2018-10-25\",\"2018-10-26\",\"2018-10-29\",\"2018-10-30\",\"2018-10-31\",\"2018-11-01\",\"2018-11-02\",\"2018-11-05\",\"2018-11-06\",\"2018-11-07\",\"2018-11-08\",\"2018-11-09\",\"2018-11-12\",\"2018-11-13\",\"2018-11-14\",\"2018-11-15\",\"2018-11-16\",\"2018-11-19\",\"2018-11-20\",\"2018-11-21\",\"2018-11-23\",\"2018-11-26\",\"2018-11-27\",\"2018-11-28\",\"2018-11-29\",\"2018-11-30\",\"2018-12-03\",\"2018-12-04\",\"2018-12-06\",\"2018-12-07\",\"2018-12-10\",\"2018-12-11\",\"2018-12-12\",\"2018-12-13\",\"2018-12-14\",\"2018-12-17\",\"2018-12-18\",\"2018-12-19\",\"2018-12-20\",\"2018-12-21\",\"2018-12-24\",\"2018-12-26\",\"2018-12-27\",\"2018-12-28\",\"2018-12-31\",\"2019-01-02\",\"2019-01-03\",\"2019-01-04\",\"2019-01-07\",\"2019-01-08\",\"2019-01-09\",\"2019-01-10\",\"2019-01-11\",\"2019-01-14\",\"2019-01-15\",\"2019-01-16\",\"2019-01-17\",\"2019-01-18\",\"2019-01-22\",\"2019-01-23\",\"2019-01-24\",\"2019-01-25\",\"2019-01-28\",\"2019-01-29\",\"2019-01-30\",\"2019-01-31\",\"2019-02-01\",\"2019-02-04\",\"2019-02-05\",\"2019-02-06\",\"2019-02-07\",\"2019-02-08\",\"2019-02-11\",\"2019-02-12\",\"2019-02-13\",\"2019-02-14\",\"2019-02-15\",\"2019-02-19\",\"2019-02-20\",\"2019-02-21\",\"2019-02-22\",\"2019-02-25\",\"2019-02-26\",\"2019-02-27\",\"2019-02-28\",\"2019-03-01\",\"2019-03-04\",\"2019-03-05\",\"2019-03-06\",\"2019-03-07\",\"2019-03-08\",\"2019-03-11\",\"2019-03-12\",\"2019-03-13\",\"2019-03-14\",\"2019-03-15\",\"2019-03-18\",\"2019-03-19\",\"2019-03-20\",\"2019-03-21\",\"2019-03-22\",\"2019-03-25\",\"2019-03-26\",\"2019-03-27\",\"2019-03-28\",\"2019-03-29\",\"2019-04-01\",\"2019-04-02\",\"2019-04-03\",\"2019-04-04\",\"2019-04-05\",\"2019-04-08\",\"2019-04-09\",\"2019-04-10\",\"2019-04-11\",\"2019-04-12\",\"2019-04-15\",\"2019-04-16\",\"2019-04-17\",\"2019-04-18\",\"2019-04-22\",\"2019-04-23\",\"2019-04-24\",\"2019-04-25\",\"2019-04-26\",\"2019-04-29\",\"2019-04-30\",\"2019-05-01\",\"2019-05-02\",\"2019-05-03\",\"2019-05-06\",\"2019-05-07\",\"2019-05-08\",\"2019-05-09\",\"2019-05-10\",\"2019-05-13\",\"2019-05-14\",\"2019-05-15\",\"2019-05-16\",\"2019-05-17\",\"2019-05-20\",\"2019-05-21\",\"2019-05-22\",\"2019-05-23\",\"2019-05-24\",\"2019-05-28\",\"2019-05-29\",\"2019-05-30\",\"2019-05-31\",\"2019-06-03\",\"2019-06-04\",\"2019-06-05\",\"2019-06-06\",\"2019-06-07\",\"2019-06-10\",\"2019-06-11\",\"2019-06-12\",\"2019-06-13\",\"2019-06-14\",\"2019-06-17\",\"2019-06-18\",\"2019-06-19\",\"2019-06-20\",\"2019-06-21\",\"2019-06-24\",\"2019-06-25\",\"2019-06-26\",\"2019-06-27\",\"2019-06-28\",\"2019-07-01\",\"2019-07-02\",\"2019-07-03\",\"2019-07-05\",\"2019-07-08\",\"2019-07-09\",\"2019-07-10\",\"2019-07-11\",\"2019-07-12\",\"2019-07-15\",\"2019-07-16\",\"2019-07-17\",\"2019-07-18\",\"2019-07-19\",\"2019-07-22\",\"2019-07-23\",\"2019-07-24\",\"2019-07-25\",\"2019-07-26\",\"2019-07-29\",\"2019-07-30\",\"2019-07-31\",\"2019-08-01\",\"2019-08-02\",\"2019-08-05\",\"2019-08-06\",\"2019-08-07\",\"2019-08-08\",\"2019-08-09\",\"2019-08-12\",\"2019-08-13\",\"2019-08-14\",\"2019-08-15\",\"2019-08-16\",\"2019-08-19\",\"2019-08-20\",\"2019-08-21\",\"2019-08-22\",\"2019-08-23\",\"2019-08-26\",\"2019-08-27\",\"2019-08-28\",\"2019-08-29\",\"2019-08-30\",\"2019-09-03\",\"2019-09-04\",\"2019-09-05\",\"2019-09-06\",\"2019-09-09\",\"2019-09-10\",\"2019-09-11\",\"2019-09-12\",\"2019-09-13\",\"2019-09-16\",\"2019-09-17\",\"2019-09-18\",\"2019-09-19\",\"2019-09-20\",\"2019-09-23\",\"2019-09-24\",\"2019-09-25\",\"2019-09-26\",\"2019-09-27\",\"2019-09-30\",\"2019-10-01\",\"2019-10-02\",\"2019-10-03\",\"2019-10-04\",\"2019-10-07\",\"2019-10-08\",\"2019-10-09\",\"2019-10-10\",\"2019-10-11\",\"2019-10-14\",\"2019-10-15\",\"2019-10-16\",\"2019-10-17\",\"2019-10-18\",\"2019-10-21\",\"2019-10-22\",\"2019-10-23\",\"2019-10-24\",\"2019-10-25\",\"2019-10-28\",\"2019-10-29\",\"2019-10-30\",\"2019-10-31\",\"2019-11-01\",\"2019-11-04\",\"2019-11-05\",\"2019-11-06\",\"2019-11-07\",\"2019-11-08\",\"2019-11-11\",\"2019-11-12\",\"2019-11-13\",\"2019-11-14\",\"2019-11-15\",\"2019-11-18\",\"2019-11-19\",\"2019-11-20\",\"2019-11-21\",\"2019-11-22\",\"2019-11-25\",\"2019-11-26\",\"2019-11-27\",\"2019-11-29\",\"2019-12-02\",\"2019-12-03\",\"2019-12-04\",\"2019-12-05\",\"2019-12-06\",\"2019-12-09\",\"2019-12-10\",\"2019-12-11\",\"2019-12-12\",\"2019-12-13\",\"2019-12-16\",\"2019-12-17\",\"2019-12-18\",\"2019-12-19\",\"2019-12-20\",\"2019-12-23\",\"2019-12-24\",\"2019-12-26\",\"2019-12-27\",\"2019-12-30\",\"2019-12-31\",\"2020-01-02\",\"2020-01-03\",\"2020-01-06\",\"2020-01-07\",\"2020-01-08\",\"2020-01-09\",\"2020-01-10\",\"2020-01-13\",\"2020-01-14\",\"2020-01-15\",\"2020-01-16\",\"2020-01-17\",\"2020-01-21\",\"2020-01-22\",\"2020-01-23\",\"2020-01-24\",\"2020-01-27\",\"2020-01-28\",\"2020-01-29\",\"2020-01-30\",\"2020-01-31\",\"2020-02-03\",\"2020-02-04\",\"2020-02-05\",\"2020-02-06\",\"2020-02-07\",\"2020-02-10\",\"2020-02-11\",\"2020-02-12\",\"2020-02-13\",\"2020-02-14\",\"2020-02-18\",\"2020-02-19\",\"2020-02-20\",\"2020-02-21\",\"2020-02-24\",\"2020-02-25\",\"2020-02-26\",\"2020-02-27\",\"2020-02-28\",\"2020-03-02\",\"2020-03-03\",\"2020-03-04\",\"2020-03-05\",\"2020-03-06\",\"2020-03-09\",\"2020-03-10\",\"2020-03-11\",\"2020-03-12\",\"2020-03-13\",\"2020-03-16\",\"2020-03-17\",\"2020-03-18\",\"2020-03-19\",\"2020-03-20\",\"2020-03-23\",\"2020-03-24\",\"2020-03-25\",\"2020-03-26\",\"2020-03-27\",\"2020-03-30\",\"2020-03-31\",\"2020-04-01\",\"2020-04-02\",\"2020-04-03\",\"2020-04-06\",\"2020-04-07\",\"2020-04-08\",\"2020-04-09\",\"2020-04-13\",\"2020-04-14\",\"2020-04-15\",\"2020-04-16\",\"2020-04-17\",\"2020-04-20\",\"2020-04-21\",\"2020-04-22\",\"2020-04-23\",\"2020-04-24\",\"2020-04-27\",\"2020-04-28\",\"2020-04-29\",\"2020-04-30\",\"2020-05-01\",\"2020-05-04\",\"2020-05-05\",\"2020-05-06\",\"2020-05-07\",\"2020-05-08\",\"2020-05-11\",\"2020-05-12\",\"2020-05-13\",\"2020-05-14\",\"2020-05-15\",\"2020-05-18\",\"2020-05-19\",\"2020-05-20\",\"2020-05-21\",\"2020-05-22\",\"2020-05-26\",\"2020-05-27\",\"2020-05-28\",\"2020-05-29\",\"2020-06-01\",\"2020-06-02\",\"2020-06-03\",\"2020-06-04\",\"2020-06-05\",\"2020-06-08\",\"2020-06-09\",\"2020-06-10\",\"2020-06-11\",\"2020-06-12\",\"2020-06-15\",\"2020-06-16\",\"2020-06-17\",\"2020-06-18\",\"2020-06-19\",\"2020-06-22\",\"2020-06-23\",\"2020-06-24\",\"2020-06-25\",\"2020-06-26\",\"2020-06-29\",\"2020-06-30\",\"2020-07-01\",\"2020-07-02\",\"2020-07-06\",\"2020-07-07\",\"2020-07-08\",\"2020-07-09\",\"2020-07-10\",\"2020-07-13\",\"2020-07-14\",\"2020-07-15\",\"2020-07-16\",\"2020-07-17\",\"2020-07-20\",\"2020-07-21\",\"2020-07-22\",\"2020-07-23\",\"2020-07-24\",\"2020-07-27\",\"2020-07-28\",\"2020-07-29\",\"2020-07-30\",\"2020-07-31\",\"2020-08-03\",\"2020-08-04\",\"2020-08-05\",\"2020-08-06\",\"2020-08-07\",\"2020-08-10\",\"2020-08-11\",\"2020-08-12\",\"2020-08-13\",\"2020-08-14\",\"2020-08-17\",\"2020-08-18\",\"2020-08-19\",\"2020-08-20\",\"2020-08-21\",\"2020-08-24\",\"2020-08-25\",\"2020-08-26\",\"2020-08-27\",\"2020-08-28\",\"2020-08-31\",\"2020-09-01\",\"2020-09-02\",\"2020-09-03\",\"2020-09-04\",\"2020-09-08\",\"2020-09-09\",\"2020-09-10\",\"2020-09-11\",\"2020-09-14\",\"2020-09-15\",\"2020-09-16\",\"2020-09-17\",\"2020-09-18\",\"2020-09-21\",\"2020-09-22\",\"2020-09-23\",\"2020-09-24\",\"2020-09-25\",\"2020-09-28\",\"2020-09-29\",\"2020-09-30\",\"2020-10-01\",\"2020-10-02\",\"2020-10-05\",\"2020-10-06\",\"2020-10-07\",\"2020-10-08\",\"2020-10-09\",\"2020-10-12\",\"2020-10-13\",\"2020-10-14\",\"2020-10-15\",\"2020-10-16\",\"2020-10-19\",\"2020-10-20\",\"2020-10-21\",\"2020-10-22\",\"2020-10-23\",\"2020-10-26\",\"2020-10-27\",\"2020-10-28\",\"2020-10-29\",\"2020-10-30\",\"2020-11-02\",\"2020-11-03\",\"2020-11-04\",\"2020-11-05\",\"2020-11-06\",\"2020-11-09\",\"2020-11-10\",\"2020-11-11\",\"2020-11-12\",\"2020-11-13\",\"2020-11-16\",\"2020-11-17\",\"2020-11-18\",\"2020-11-19\",\"2020-11-20\",\"2020-11-23\",\"2020-11-24\",\"2020-11-25\",\"2020-11-27\",\"2020-11-30\",\"2020-12-01\",\"2020-12-02\"],\"y\":[2653747376.824951,1900900371.6125488,4550101616.168213,4764955279.541016,2746265953.1066895,2036230622.4609375,2391307114.453125,3965600067.3950195,3098513221.54541,2972077152.4658203,1900969370.0195312,2055608776.171875,2729083803.6987305,2288019313.659668,2444044955.255127,3281333428.6132812,3009443732.5561523,2506223557.5683594,3111682992.2973633,2583421394.7265625,3204713876.0009766,6174052564.727783,8805901892.675781,3147615429.0893555,2816206250.0,2342731242.7978516,2040997427.6000977,2010396869.3847656,3490505200.2441406,2335535476.904297,2501892066.241455,2291586897.7661133,2630111383.795166,3004134596.5637207,2239131331.665039,2950281788.4521484,3117245083.984375,2302869543.75,2360788186.61499,2354586155.1696777,1809960953.741455,1649702077.4780273,2209990705.7617188,1901514595.8984375,1944668250.0,1747114600.0,2076933597.5341797,1632010574.2858887,1816400480.4199219,2185479658.935547,1572255634.5153809,2884557955.7373047,1956205352.1240234,3695661333.5021973,2254737115.509033,1654933149.5361328,1808167831.677246,2333666576.184082,2603609600.0,3922024688.8549805,2421064592.1936035,3508570617.0410156,3051014706.4208984,4520275586.187744,6827238171.972656,5698778333.862305,3320810210.119629,2888287402.0324707,2718539927.8686523,2201230455.029297,2808473327.746582,2574910825.1220703,2710617063.8671875,2580883875.036621,2538757657.1289062,2174891935.913086,2833750605.1330566,3068300155.493164,2372246623.675537,4872465115.905762,6812273781.079102,5183499188.232422,3644582681.3964844,3371428285.961914,2267322622.8515625,2677647629.9804688,3241635852.947998,3108194145.892334,1989473700.592041,2079173031.286621,3485758876.477051,4091106556.8847656,3020031449.89624,4861357106.25,3775779618.5302734,3812580570.6726074,2564704228.845215,2346851970.9228516,2397936040.283203,4790078383.544922,3454560077.6367188,3252331809.8327637,3892047502.8930664,2444858089.9658203,3777552905.7128906,2750743739.0441895,3356439200.0,2851427630.6762695,2796326387.060547,7481821368.328857,9115697498.291016,4492018099.365234,3881370486.5478516,5181353071.160889,11331700769.085693,5019040291.809082,4046591021.484375,2929017117.919922,2256329392.492676,2889867805.883789,3365815009.8632812,3694572782.8125,3701457471.875,4199426758.4838867,3281810400.0,2774292227.874756,3548524289.1845703,3145970391.748047,2587254209.814453,3533781457.104492,2965191565.563965,3632092021.2402344,2882614918.0664062,2106305519.8669434,3749874422.4243164,4105585624.3164062,3043642665.5273438,3186398098.754883,2804797302.1728516,3416067439.453125,2545185800.048828,3075544782.6416016,11497318200.0,7863896206.604004,7262257553.393555,4555178405.163574,4053272359.6191406,3213214080.3588867,2696389720.6604004,2655909934.2773438,2873307629.9560547,3505481131.8603516,5439228874.859619,3356989286.1328125,3119912531.2683105,2505299057.104492,3063757555.0598145,3373906093.725586,3148382159.765625,3016686135.4675293,2658975067.138672,2556231400.0,4948644528.424072,3142800480.46875,2456530184.716797,2742254650.982666,2810461992.0043945,3266868818.664551,2480744175.0,2783066520.3125,2061317194.0002441,2514103520.8007812,2516459333.605957,2138505180.0476074,2437879280.4016113,3373350037.6098633,3882815478.9855957,3710527675.378418,3323254355.328369,2590593006.8725586,2811409111.4746094,2254965897.0703125,2523183115.5029297,4815483847.412109,3345921192.96875,2994194527.6245117,2412614701.586914,2445482067.895508,2343205256.9641113,2552202794.897461,2440078360.852051,3167360741.1621094,3742690582.635498,2912123185.3027344,3045413317.6574707,2325414500.0,4071082559.210205,2438648615.9362793,2021636479.9499512,2340878872.32666,2492200900.0,3066581156.4697266,2324680377.484131,3376348787.347412,2658254076.501465,2950933239.5446777,5463792399.847412,18237235941.16211,7346161973.547363,3843058661.8652344,4144870441.711426,4032091170.0439453,4170167308.4106445,3789063641.5649414,3020204248.1689453,2924529732.6049805,4214703569.226074,2453150411.779785,3295369856.25,3567858548.7304688,4426426772.802734,2517164043.4570312,2726852403.7841797,2437222335.7910156,2825251481.7871094,4110495769.519043,4184208000.0,8064677223.6328125,5442099728.686523,10750457205.810547,5306201100.0,4773887584.729004,6726477715.356445,4657377066.870117,3288000185.3393555,2912928662.109375,3544216200.0,2762742523.864746,2605002273.742676,3046295396.7773438,3774423949.3896484,5634638473.999023,3509353478.466797,3072701976.635742,2792372532.421875,2494132976.7333984,1851967412.7807617,2359639171.5820312,2207515890.234375,2184440325.036621,3144003069.2382812,3203787471.3134766,3743616808.203125,3655501835.7055664,4356932609.924316,5335980144.104004,4586510331.225586,3369130261.9628906,3989625167.8466797,7105116974.194336,9422002496.228027,6803671000.0,5208070091.711426,5927234328.796387,5495196373.583984,7043378223.925781,9241249391.479492,6549396117.919922,6810177702.172852,8083469898.254395,8442734942.614746,9321533077.111816,12668182000.0,15909194171.75293,15978050000.0,15967621333.740234,10147970315.844727,11585399300.0,18943953054.748535,9341665215.38086,8370928786.791992,8647097450.976562,8262890807.202148,6479410631.933594,9543100161.328125,9348921125.048828,7215930087.95166,6627150000.0,7541262008.056641,7270809330.078125,6828711529.541016,10208029106.25,9883046900.0,7974422302.331543,7014252454.821777,6448984500.0,5994214379.418945,7159160993.42041,8270389613.793945,10373833292.834473,6776705400.0,6439567485.412598,8526364291.381836,10166875697.460938,7268754260.7421875,7515100418.408203,9764821629.760742,11973453829.101562,8751245659.606934,10478751521.777344,19618041128.28369,18209128843.981934,14355954461.816406,14242342459.570312,9849022535.974121,9310798625.0,8265984314.111328,5917065671.069336,6109823377.368164,5112406799.926758,4541047500.0,5272890530.957031,4048596900.0,7691187927.246094,7986783421.325684,10156813989.978027,8464738529.8828125,6777851978.588867,10942936266.833496,9618578130.480957,13359717412.207031,20527723320.26367,8557490959.680176,7234250990.649414,6844275938.195801,6684326765.148926,5444159251.855469,6083572321.691895,4885293325.939941,5848778400.0,4533582776.184082,3628828026.3793945,4019064728.0273438,8002749275.20752,4080262043.310547,3396987796.9726562,4160430149.0966797,4637787477.734375,3345609891.6503906,5385293084.753418,5498529915.771484,4344828825.878906,6203904436.218262,4724205228.588867,5159865790.539551,5439078765.4296875,5308381241.259766,8112284853.24707,9281178900.0,6361397193.87207,4976358820.141602,3944939748.5961914,3837816000.0,5672921601.257324,5472221137.5,8198218132.03125,5357022304.394531,7442379803.686523,7582396417.602539,8549189897.241211,6991526996.081543,12492252463.378906,7418135244.067383,8090336869.580078,7707057843.823242,7723041521.850586,5459589039.331055,3688259022.9492188,5070464504.736328,4533682701.940918,5237928298.828125,5234264741.711426,5633199000.0,8143539451.867676,7946873224.4140625,9962094784.61914,10478870102.233887,8960092961.657715,8479079255.981445,7045136090.332031,7007077000.0,7826769146.21582,6966546847.241211,17943315200.0,17592991059.08203,11675775213.745117,10200194591.748047,7463826909.509277,7987956659.631348,6309495180.175781,6267198450.0,6290526134.033203,7476278837.402344,9227566702.929688,6865943547.729492,10488830029.907227,7651916962.316895,14497491796.398926,7465148369.287109,7725195425.756836,5371143908.203125,5849149288.4765625,5868044525.20752,6780032786.987305,5336806892.028809,6879890111.694336,5993094807.458496,13051189420.532227,14571920009.533691,8462237759.765625,11668240716.870117,16398616850.463867,14665196535.791016,9550697419.213867,8812412692.382812,10002518362.890625,8783860000.0,7206314187.316895,7175431766.6015625,13451993312.548828,8285760343.432617,7815100834.277344,6134072224.047852,13129117125.952148,8150812670.275879,8961297941.601562,8518515369.689941,8714995527.441406,8182455300.0,6936087729.309082,10646454233.447266,10258043607.299805,13856661258.911133,12891759361.560059,13784030268.896484,8926850071.643066,19288266725.0,23960828819.86084,16892705867.651367,11335587025.683594,10664783375.097656,9699376592.578125,10401209107.910156,10420478189.0625,8051850219.7265625,11892561601.68457,11530242941.699219,18330866421.0083,24582681154.785156,21338264035.705566,19069186789.56299,15005633593.701172,13549919553.344727,11584594118.774414,9155886934.643555,6994099543.457031,14381325097.998047,11468161582.36084,10107104663.012695,11140728303.833008,9678221221.740723,10372618032.348633,13647506218.21289,9665784608.337402,11780739404.296875,16268809823.046875,8670841952.34375,4066977814.6484375,9895488466.003418,9145668398.144531,14191583925.0,11067652768.798828,9738421759.204102,12162465927.478027,14505904012.268066,14934860070.996094,12342451829.992676,12299191863.574219,10261540767.016602,10976037177.734375,8741818519.73877,10136009569.628906,13429331419.799805,10120303912.597656,13145041989.624023,14596320754.907227,18788830568.969727,9703390917.96875,15314716874.194336,14210064222.41211,13049438752.441406,10445450161.254883,12287028741.97998,10465353372.363281,14466176348.510742,13024999410.058594,14712749221.704102,10535325975.0,10778182703.344727,7687992546.582031,9712801304.394531,10044848511.47461,10720459068.530273,7126593534.692383,10211971806.030273,10473308737.988281,8569432606.0546875,6768498426.672363,8262471897.351074,7923620523.864746,7384127286.621094,9661433344.65332,18751859705.908203,18711727401.26953,8050748609.814453,7386847071.923828,6462460412.475586,7469044219.40918,8985354484.25293,5277824300.0,7958435433.447266,5838892000.0,6686129425.598145,6984773792.895508,5992261124.206543,5413920878.515625,5641157091.894531,5051636253.417969,5200288500.0,4362315185.083008,5167464084.375,4961961464.025879,8316689479.833984,10460959129.02832,6230681242.736816,6669124004.8828125,8059833907.958984,7564273827.880859,6475991349.072266,6047419861.755371,6005757328.125,4968615765.673828,12929859013.391113,9458306697.546387,11212765614.624023,11260975034.375,10493127884.326172,11229231634.277344,9055468237.841797,8679597831.518555,7636299148.828125,5396517193.725586,5913514600.0,7689988323.6328125,6254784370.654297,7247478225.634766,6591366700.915527,6688617946.655273,6942154553.027344,6819043969.042969,5475485989.746094,4895636893.408203,5740026246.484375,6871033809.814453,5672211702.9296875,5395856514.587402,5119461169.873047,6367406675.683594,8927062398.632812,6990452650.0,11602012975.0,16448882579.174805,7795008774.987793,6754379188.4765625,5958207900.878906,7532759365.148926,12523634486.71875,10567690054.541016,11337934100.0,7821816801.660156,10085079895.080566,10806905528.320312,10541287822.631836,8518099469.396973,8780558604.56543,8980457793.139648,8852705400.0,7060739742.724609,7439553430.224609,5461136445.727539,8032228077.587891,6143906714.72168,5876576171.875,7784313759.277344,5715777238.977051,8198693067.919922,15401277969.873047,9822344528.759766,7370892300.0,6472360293.95752,8674137186.865234,9993443756.225586,7534379792.602539,4962053196.350098,5228984876.513672,5330803229.296875,4968368906.176758,7407167089.978027,5526519800.097656,6171200679.4921875,7518289872.0703125,4369433755.737305,5657912779.833984,4634310969.689941,4078396538.745117,5751711776.831055,6157351039.306641,5117990984.033203,3277491700.0,5106744733.837891,5629319333.129883,8640555522.192383,9949664547.5708,8640219814.086914,5046202300.0,6025177457.885742,5262320243.920898,5097206438.964844,6931155055.554199,6258174974.21875,5758327014.160156,5392103688.598633,5264731507.177734,8164706207.824707,9573601895.581055,8593020120.605469,5526431062.280273,8345813476.977539,8744679502.844238,9036342039.59961,10693510595.581055,9064834226.184082,8118542570.52002,6783892522.216797,5205468757.446289,5186085187.683105,7286413823.486328,8627220864.84375,6676612673.64502,5409976097.900391,5114738742.248535,3475762719.4213867,3705068651.3671875,4788665400.695801,9221897070.263672,5448119584.9609375,5320197918.29834,4268955725.0,5386174713.61084,5433138342.480469,6341402998.901367,4184820930.6518555,6094255679.003906,4578091143.383789,5493134251.77002,4758735772.631836,4434970048.2421875,5205263562.866211,3625890874.621582,6644715794.372559,3613023216.796875,4553827678.125,3700377250.0,9584223486.584473,5217182332.69043,8039271692.3828125,6177130202.490234,6153465991.113281,6741678049.21875,4590961267.39502,5353612500.305176,5655543488.525391,5980633596.411133,4300240895.349121,3733362575.6469727,4335406444.824219,3518886545.0439453,4430013577.1484375,5637399743.041992,3316928688.598633,5499556361.193848,4911750210.424805,4732174500.292969,5909627407.836914,3804170136.8164062,3728691999.7558594,3767871987.963867,7917526088.256836,16955266688.964844,6591011849.01123,4013514310.0585938,4359907482.080078,4941246887.060547,4998834012.5,5002337148.742676,3397124131.3476562,3645053985.6445312,4740696890.551758,3791959014.367676,3447630947.5097656,3622852800.0,5240922301.208496,3973818024.7070312,6832020885.644531,4976309018.188477,3980235620.703125,4870028781.738281,4619359154.980469,4327814379.370117,6183960888.842773,5716425341.6015625,5502083885.546875,3463658813.9160156,6993848864.160156,5984057631.933594,4701218212.548828,4914767368.847656,5460437763.891602,4273703051.8554688,4372895604.785156,3668115010.546875,5449805510.949707,4835012797.119141,5564519169.140625,6525881428.564453,5978998240.185547,4754560461.71875,9201904200.0,3830565200.0,1576830738.5742188,11222711475.292969,11567704982.080078,6786766736.828613,4631610874.328613,7647082329.345703,7058136957.714844,7729118003.833008,7713057954.748535,6637030657.2265625,6021195819.65332,5373973789.538574,5259327175.78125,6432555894.384766,5393527188.574219,4994381274.169922,7453845138.891602,7015157600.0,6070637472.363281,4682427358.813477,7011308623.168945,6451297569.396973,5203926000.0,3879504000.0,11836540971.850586,31270346399.926758,11822975931.958008,10841319117.773438,8926879072.631836,6525882027.832031,10594555533.276367,10789475297.607422,12358497080.566406,7202088000.0,6517976221.2890625,5563898499.4140625,6349741321.875,5558367388.964844,6742002335.791016,9738505274.87793,13154821885.742188,12268667273.266602,10342565735.424805,15345739597.65625,17883945750.0,13212023384.838867,14383285081.420898,9430438797.253418,9135679385.107422,10025588043.75,14068525937.548828,13494919222.86377,10241973245.605469,19023152215.7959,15725314500.0,15062657512.70752,19736369690.856934,17650716000.0,19561484465.58838,18124726675.427246,14858247711.853027,13866088535.510254,12218545722.546387,12165689876.245117,10237548658.459473,12031353795.874023,9989585241.894531,7863348428.735352,8320046689.453125,6882599117.614746,11532486390.673828,10287322275.146484,8125623900.0,9510273501.464844,14567649916.113281,18465666056.835938,15845915018.603516,28990272152.63672,18833750000.0,13812805846.899414,17406655680.17578,9969909825.805664,12157053122.607422,9235480883.740234,13413945600.0,12193813563.671875,10894535056.640625,23588600400.0,22340554885.742188,11269375693.481445,7515466658.325195,7330758458.447266,8041350968.847656,7641403976.953125,7851412800.0,7247385404.858398,11325524194.335938,8714764041.259766,10205418424.072266,10594506958.642578,10582330602.539062,9987013679.736328,12513607006.054688,6986778312.011719,8641681235.302734,12189100647.77832,7659989531.542969,8619856854.589844,7237429170.410156,6239126413.208008,6619806139.160156,7255571507.958984,8209791200.0,10022285274.658203,13462051916.015625,13094287458.496094,14836423569.433594,13818440698.046875,9943665203.78418,9377312182.03125,7793796020.361328,6602571395.410156,15453532826.416016,8708105835.351562,11698153425.073242,12377534597.949219,8177521877.9296875,17505810057.8125,11320316397.070312,10399924011.694336,18318319269.28711,19056904341.94336,21034269692.773438,15773131516.113281,15521400277.148438,20332867532.32422,17555200000.0,23964121600.0,22303179600.0,17418048221.38672,19181959955.566406,14102827621.50879,24290230355.810547,19253409389.648438,12722650261.279297,16894614971.21582,16947384188.964844,12741753142.089844,9381132055.273438,9022021660.131836,18702835485.839844,25588019587.280273,15791907637.86621,14734610035.742188,12595768015.136719,12708435000.0,12446850662.5,9971166889.624023,11454238836.523438,11153852893.554688,9954052041.503906,8662406687.74414,8564501555.46875,17708571487.79297,13645434766.259766,10988485915.527344,11745830143.237305,15433600415.722656,13361865233.007812,22401969730.615234,14500320000.0,9855014741.455078,14445373300.488281,12164341175.390625,13883895483.032227,27486584800.0,28932694945.117188,19195755463.623047,16959837264.379883,16925559449.63379,15874024530.761719,14055212779.296875,12692376323.730469,13889003260.644531,19403600517.041016,26276831884.42383,18111859233.76465,21742725644.140625,16957309229.223633,16697627041.992188,14284643435.15625,13407822216.259766,10993871094.335938,15376507986.621094,16015782642.55371,17540937500.0,12077939575.65918,15769186325.292969,13771506233.496094,10127124909.985352,16130549055.71289,28797354534.228516,19782620587.79297,19606728991.308594,17439103899.902344,21188833371.09375,16753181951.953125,14507750041.04004,14627473668.896484,13378996388.671875,11108693141.455078,18925384678.515625,14101642365.234375,17674563637.719727,21181427529.418945,25462367541.015625,21804713010.253906,14930806908.520508,22166292638.916016,19232054600.0,15388930345.605469,22604748025.78125,20003816948.73047,13700667921.899414,13567041487.792969,11752436342.089844,11925268445.166016,10801407699.243164,9058005614.0625,9383165364.794922,10458615030.46875,14590008165.161133,11231564137.060547,12072689587.109375,7646129296.313477,12874597914.746094,14609503314.453125,3597743224.290039],\"type\":\"scatter\"},{\"mode\":\"lines\",\"name\":\"Other Value\",\"x\":[\"2017-01-03\",\"2017-01-04\",\"2017-01-05\",\"2017-01-06\",\"2017-01-09\",\"2017-01-10\",\"2017-01-11\",\"2017-01-12\",\"2017-01-13\",\"2017-01-17\",\"2017-01-18\",\"2017-01-19\",\"2017-01-20\",\"2017-01-23\",\"2017-01-24\",\"2017-01-25\",\"2017-01-26\",\"2017-01-27\",\"2017-01-30\",\"2017-01-31\",\"2017-02-01\",\"2017-02-02\",\"2017-02-03\",\"2017-02-06\",\"2017-02-07\",\"2017-02-08\",\"2017-02-09\",\"2017-02-10\",\"2017-02-13\",\"2017-02-14\",\"2017-02-15\",\"2017-02-16\",\"2017-02-17\",\"2017-02-21\",\"2017-02-22\",\"2017-02-23\",\"2017-02-24\",\"2017-02-27\",\"2017-02-28\",\"2017-03-01\",\"2017-03-02\",\"2017-03-03\",\"2017-03-06\",\"2017-03-07\",\"2017-03-08\",\"2017-03-09\",\"2017-03-10\",\"2017-03-13\",\"2017-03-14\",\"2017-03-15\",\"2017-03-16\",\"2017-03-17\",\"2017-03-20\",\"2017-03-21\",\"2017-03-22\",\"2017-03-23\",\"2017-03-24\",\"2017-03-27\",\"2017-03-28\",\"2017-03-29\",\"2017-03-30\",\"2017-03-31\",\"2017-04-03\",\"2017-04-04\",\"2017-04-05\",\"2017-04-06\",\"2017-04-07\",\"2017-04-10\",\"2017-04-11\",\"2017-04-12\",\"2017-04-13\",\"2017-04-17\",\"2017-04-18\",\"2017-04-19\",\"2017-04-20\",\"2017-04-21\",\"2017-04-24\",\"2017-04-25\",\"2017-04-26\",\"2017-04-27\",\"2017-04-28\",\"2017-05-01\",\"2017-05-02\",\"2017-05-03\",\"2017-05-04\",\"2017-05-05\",\"2017-05-08\",\"2017-05-09\",\"2017-05-10\",\"2017-05-11\",\"2017-05-12\",\"2017-05-15\",\"2017-05-16\",\"2017-05-17\",\"2017-05-18\",\"2017-05-19\",\"2017-05-22\",\"2017-05-23\",\"2017-05-24\",\"2017-05-25\",\"2017-05-26\",\"2017-05-30\",\"2017-05-31\",\"2017-06-01\",\"2017-06-02\",\"2017-06-05\",\"2017-06-06\",\"2017-06-07\",\"2017-06-08\",\"2017-06-09\",\"2017-06-12\",\"2017-06-13\",\"2017-06-14\",\"2017-06-15\",\"2017-06-16\",\"2017-06-19\",\"2017-06-20\",\"2017-06-21\",\"2017-06-22\",\"2017-06-23\",\"2017-06-26\",\"2017-06-27\",\"2017-06-28\",\"2017-06-29\",\"2017-06-30\",\"2017-07-03\",\"2017-07-05\",\"2017-07-06\",\"2017-07-07\",\"2017-07-10\",\"2017-07-11\",\"2017-07-12\",\"2017-07-13\",\"2017-07-14\",\"2017-07-17\",\"2017-07-18\",\"2017-07-19\",\"2017-07-20\",\"2017-07-21\",\"2017-07-24\",\"2017-07-25\",\"2017-07-26\",\"2017-07-27\",\"2017-07-28\",\"2017-07-31\",\"2017-08-01\",\"2017-08-02\",\"2017-08-03\",\"2017-08-04\",\"2017-08-07\",\"2017-08-08\",\"2017-08-09\",\"2017-08-10\",\"2017-08-11\",\"2017-08-14\",\"2017-08-15\",\"2017-08-16\",\"2017-08-17\",\"2017-08-18\",\"2017-08-21\",\"2017-08-22\",\"2017-08-23\",\"2017-08-24\",\"2017-08-25\",\"2017-08-28\",\"2017-08-29\",\"2017-08-30\",\"2017-08-31\",\"2017-09-01\",\"2017-09-05\",\"2017-09-06\",\"2017-09-07\",\"2017-09-08\",\"2017-09-11\",\"2017-09-12\",\"2017-09-13\",\"2017-09-14\",\"2017-09-15\",\"2017-09-18\",\"2017-09-19\",\"2017-09-20\",\"2017-09-21\",\"2017-09-22\",\"2017-09-25\",\"2017-09-26\",\"2017-09-27\",\"2017-09-28\",\"2017-09-29\",\"2017-10-02\",\"2017-10-03\",\"2017-10-04\",\"2017-10-05\",\"2017-10-06\",\"2017-10-09\",\"2017-10-10\",\"2017-10-11\",\"2017-10-12\",\"2017-10-13\",\"2017-10-16\",\"2017-10-17\",\"2017-10-18\",\"2017-10-19\",\"2017-10-20\",\"2017-10-23\",\"2017-10-24\",\"2017-10-25\",\"2017-10-26\",\"2017-10-27\",\"2017-10-30\",\"2017-10-31\",\"2017-11-01\",\"2017-11-02\",\"2017-11-03\",\"2017-11-06\",\"2017-11-07\",\"2017-11-08\",\"2017-11-09\",\"2017-11-10\",\"2017-11-13\",\"2017-11-14\",\"2017-11-15\",\"2017-11-16\",\"2017-11-17\",\"2017-11-20\",\"2017-11-21\",\"2017-11-22\",\"2017-11-24\",\"2017-11-27\",\"2017-11-28\",\"2017-11-29\",\"2017-11-30\",\"2017-12-01\",\"2017-12-04\",\"2017-12-05\",\"2017-12-06\",\"2017-12-07\",\"2017-12-08\",\"2017-12-11\",\"2017-12-12\",\"2017-12-13\",\"2017-12-14\",\"2017-12-15\",\"2017-12-18\",\"2017-12-19\",\"2017-12-20\",\"2017-12-21\",\"2017-12-22\",\"2017-12-26\",\"2017-12-27\",\"2017-12-28\",\"2017-12-29\",\"2018-01-02\",\"2018-01-03\",\"2018-01-04\",\"2018-01-05\",\"2018-01-08\",\"2018-01-09\",\"2018-01-10\",\"2018-01-11\",\"2018-01-12\",\"2018-01-16\",\"2018-01-17\",\"2018-01-18\",\"2018-01-19\",\"2018-01-22\",\"2018-01-23\",\"2018-01-24\",\"2018-01-25\",\"2018-01-26\",\"2018-01-29\",\"2018-01-30\",\"2018-01-31\",\"2018-02-01\",\"2018-02-02\",\"2018-02-05\",\"2018-02-06\",\"2018-02-07\",\"2018-02-08\",\"2018-02-09\",\"2018-02-12\",\"2018-02-13\",\"2018-02-14\",\"2018-02-15\",\"2018-02-16\",\"2018-02-20\",\"2018-02-21\",\"2018-02-22\",\"2018-02-23\",\"2018-02-26\",\"2018-02-27\",\"2018-02-28\",\"2018-03-01\",\"2018-03-02\",\"2018-03-05\",\"2018-03-06\",\"2018-03-07\",\"2018-03-08\",\"2018-03-09\",\"2018-03-12\",\"2018-03-13\",\"2018-03-14\",\"2018-03-15\",\"2018-03-16\",\"2018-03-19\",\"2018-03-20\",\"2018-03-21\",\"2018-03-22\",\"2018-03-23\",\"2018-03-26\",\"2018-03-27\",\"2018-03-28\",\"2018-03-29\",\"2018-04-02\",\"2018-04-03\",\"2018-04-04\",\"2018-04-05\",\"2018-04-06\",\"2018-04-09\",\"2018-04-10\",\"2018-04-11\",\"2018-04-12\",\"2018-04-13\",\"2018-04-16\",\"2018-04-17\",\"2018-04-18\",\"2018-04-19\",\"2018-04-20\",\"2018-04-23\",\"2018-04-24\",\"2018-04-25\",\"2018-04-26\",\"2018-04-27\",\"2018-04-30\",\"2018-05-01\",\"2018-05-02\",\"2018-05-03\",\"2018-05-04\",\"2018-05-07\",\"2018-05-08\",\"2018-05-09\",\"2018-05-10\",\"2018-05-11\",\"2018-05-14\",\"2018-05-15\",\"2018-05-16\",\"2018-05-17\",\"2018-05-18\",\"2018-05-21\",\"2018-05-22\",\"2018-05-23\",\"2018-05-24\",\"2018-05-25\",\"2018-05-29\",\"2018-05-30\",\"2018-05-31\",\"2018-06-01\",\"2018-06-04\",\"2018-06-05\",\"2018-06-06\",\"2018-06-07\",\"2018-06-08\",\"2018-06-11\",\"2018-06-12\",\"2018-06-13\",\"2018-06-14\",\"2018-06-15\",\"2018-06-18\",\"2018-06-19\",\"2018-06-20\",\"2018-06-21\",\"2018-06-22\",\"2018-06-25\",\"2018-06-26\",\"2018-06-27\",\"2018-06-28\",\"2018-06-29\",\"2018-07-02\",\"2018-07-03\",\"2018-07-05\",\"2018-07-06\",\"2018-07-09\",\"2018-07-10\",\"2018-07-11\",\"2018-07-12\",\"2018-07-13\",\"2018-07-16\",\"2018-07-17\",\"2018-07-18\",\"2018-07-19\",\"2018-07-20\",\"2018-07-23\",\"2018-07-24\",\"2018-07-25\",\"2018-07-26\",\"2018-07-27\",\"2018-07-30\",\"2018-07-31\",\"2018-08-01\",\"2018-08-02\",\"2018-08-03\",\"2018-08-06\",\"2018-08-07\",\"2018-08-08\",\"2018-08-09\",\"2018-08-10\",\"2018-08-13\",\"2018-08-14\",\"2018-08-15\",\"2018-08-16\",\"2018-08-17\",\"2018-08-20\",\"2018-08-21\",\"2018-08-22\",\"2018-08-23\",\"2018-08-24\",\"2018-08-27\",\"2018-08-28\",\"2018-08-29\",\"2018-08-30\",\"2018-08-31\",\"2018-09-04\",\"2018-09-05\",\"2018-09-06\",\"2018-09-07\",\"2018-09-10\",\"2018-09-11\",\"2018-09-12\",\"2018-09-13\",\"2018-09-14\",\"2018-09-17\",\"2018-09-18\",\"2018-09-19\",\"2018-09-20\",\"2018-09-21\",\"2018-09-24\",\"2018-09-25\",\"2018-09-26\",\"2018-09-27\",\"2018-09-28\",\"2018-10-01\",\"2018-10-02\",\"2018-10-03\",\"2018-10-04\",\"2018-10-05\",\"2018-10-08\",\"2018-10-09\",\"2018-10-10\",\"2018-10-11\",\"2018-10-12\",\"2018-10-15\",\"2018-10-16\",\"2018-10-17\",\"2018-10-18\",\"2018-10-19\",\"2018-10-22\",\"2018-10-23\",\"2018-10-24\",\"2018-10-25\",\"2018-10-26\",\"2018-10-29\",\"2018-10-30\",\"2018-10-31\",\"2018-11-01\",\"2018-11-02\",\"2018-11-05\",\"2018-11-06\",\"2018-11-07\",\"2018-11-08\",\"2018-11-09\",\"2018-11-12\",\"2018-11-13\",\"2018-11-14\",\"2018-11-15\",\"2018-11-16\",\"2018-11-19\",\"2018-11-20\",\"2018-11-21\",\"2018-11-23\",\"2018-11-26\",\"2018-11-27\",\"2018-11-28\",\"2018-11-29\",\"2018-11-30\",\"2018-12-03\",\"2018-12-04\",\"2018-12-06\",\"2018-12-07\",\"2018-12-10\",\"2018-12-11\",\"2018-12-12\",\"2018-12-13\",\"2018-12-14\",\"2018-12-17\",\"2018-12-18\",\"2018-12-19\",\"2018-12-20\",\"2018-12-21\",\"2018-12-24\",\"2018-12-26\",\"2018-12-27\",\"2018-12-28\",\"2018-12-31\",\"2019-01-02\",\"2019-01-03\",\"2019-01-04\",\"2019-01-07\",\"2019-01-08\",\"2019-01-09\",\"2019-01-10\",\"2019-01-11\",\"2019-01-14\",\"2019-01-15\",\"2019-01-16\",\"2019-01-17\",\"2019-01-18\",\"2019-01-22\",\"2019-01-23\",\"2019-01-24\",\"2019-01-25\",\"2019-01-28\",\"2019-01-29\",\"2019-01-30\",\"2019-01-31\",\"2019-02-01\",\"2019-02-04\",\"2019-02-05\",\"2019-02-06\",\"2019-02-07\",\"2019-02-08\",\"2019-02-11\",\"2019-02-12\",\"2019-02-13\",\"2019-02-14\",\"2019-02-15\",\"2019-02-19\",\"2019-02-20\",\"2019-02-21\",\"2019-02-22\",\"2019-02-25\",\"2019-02-26\",\"2019-02-27\",\"2019-02-28\",\"2019-03-01\",\"2019-03-04\",\"2019-03-05\",\"2019-03-06\",\"2019-03-07\",\"2019-03-08\",\"2019-03-11\",\"2019-03-12\",\"2019-03-13\",\"2019-03-14\",\"2019-03-15\",\"2019-03-18\",\"2019-03-19\",\"2019-03-20\",\"2019-03-21\",\"2019-03-22\",\"2019-03-25\",\"2019-03-26\",\"2019-03-27\",\"2019-03-28\",\"2019-03-29\",\"2019-04-01\",\"2019-04-02\",\"2019-04-03\",\"2019-04-04\",\"2019-04-05\",\"2019-04-08\",\"2019-04-09\",\"2019-04-10\",\"2019-04-11\",\"2019-04-12\",\"2019-04-15\",\"2019-04-16\",\"2019-04-17\",\"2019-04-18\",\"2019-04-22\",\"2019-04-23\",\"2019-04-24\",\"2019-04-25\",\"2019-04-26\",\"2019-04-29\",\"2019-04-30\",\"2019-05-01\",\"2019-05-02\",\"2019-05-03\",\"2019-05-06\",\"2019-05-07\",\"2019-05-08\",\"2019-05-09\",\"2019-05-10\",\"2019-05-13\",\"2019-05-14\",\"2019-05-15\",\"2019-05-16\",\"2019-05-17\",\"2019-05-20\",\"2019-05-21\",\"2019-05-22\",\"2019-05-23\",\"2019-05-24\",\"2019-05-28\",\"2019-05-29\",\"2019-05-30\",\"2019-05-31\",\"2019-06-03\",\"2019-06-04\",\"2019-06-05\",\"2019-06-06\",\"2019-06-07\",\"2019-06-10\",\"2019-06-11\",\"2019-06-12\",\"2019-06-13\",\"2019-06-14\",\"2019-06-17\",\"2019-06-18\",\"2019-06-19\",\"2019-06-20\",\"2019-06-21\",\"2019-06-24\",\"2019-06-25\",\"2019-06-26\",\"2019-06-27\",\"2019-06-28\",\"2019-07-01\",\"2019-07-02\",\"2019-07-03\",\"2019-07-05\",\"2019-07-08\",\"2019-07-09\",\"2019-07-10\",\"2019-07-11\",\"2019-07-12\",\"2019-07-15\",\"2019-07-16\",\"2019-07-17\",\"2019-07-18\",\"2019-07-19\",\"2019-07-22\",\"2019-07-23\",\"2019-07-24\",\"2019-07-25\",\"2019-07-26\",\"2019-07-29\",\"2019-07-30\",\"2019-07-31\",\"2019-08-01\",\"2019-08-02\",\"2019-08-05\",\"2019-08-06\",\"2019-08-07\",\"2019-08-08\",\"2019-08-09\",\"2019-08-12\",\"2019-08-13\",\"2019-08-14\",\"2019-08-15\",\"2019-08-16\",\"2019-08-19\",\"2019-08-20\",\"2019-08-21\",\"2019-08-22\",\"2019-08-23\",\"2019-08-26\",\"2019-08-27\",\"2019-08-28\",\"2019-08-29\",\"2019-08-30\",\"2019-09-03\",\"2019-09-04\",\"2019-09-05\",\"2019-09-06\",\"2019-09-09\",\"2019-09-10\",\"2019-09-11\",\"2019-09-12\",\"2019-09-13\",\"2019-09-16\",\"2019-09-17\",\"2019-09-18\",\"2019-09-19\",\"2019-09-20\",\"2019-09-23\",\"2019-09-24\",\"2019-09-25\",\"2019-09-26\",\"2019-09-27\",\"2019-09-30\",\"2019-10-01\",\"2019-10-02\",\"2019-10-03\",\"2019-10-04\",\"2019-10-07\",\"2019-10-08\",\"2019-10-09\",\"2019-10-10\",\"2019-10-11\",\"2019-10-14\",\"2019-10-15\",\"2019-10-16\",\"2019-10-17\",\"2019-10-18\",\"2019-10-21\",\"2019-10-22\",\"2019-10-23\",\"2019-10-24\",\"2019-10-25\",\"2019-10-28\",\"2019-10-29\",\"2019-10-30\",\"2019-10-31\",\"2019-11-01\",\"2019-11-04\",\"2019-11-05\",\"2019-11-06\",\"2019-11-07\",\"2019-11-08\",\"2019-11-11\",\"2019-11-12\",\"2019-11-13\",\"2019-11-14\",\"2019-11-15\",\"2019-11-18\",\"2019-11-19\",\"2019-11-20\",\"2019-11-21\",\"2019-11-22\",\"2019-11-25\",\"2019-11-26\",\"2019-11-27\",\"2019-11-29\",\"2019-12-02\",\"2019-12-03\",\"2019-12-04\",\"2019-12-05\",\"2019-12-06\",\"2019-12-09\",\"2019-12-10\",\"2019-12-11\",\"2019-12-12\",\"2019-12-13\",\"2019-12-16\",\"2019-12-17\",\"2019-12-18\",\"2019-12-19\",\"2019-12-20\",\"2019-12-23\",\"2019-12-24\",\"2019-12-26\",\"2019-12-27\",\"2019-12-30\",\"2019-12-31\",\"2020-01-02\",\"2020-01-03\",\"2020-01-06\",\"2020-01-07\",\"2020-01-08\",\"2020-01-09\",\"2020-01-10\",\"2020-01-13\",\"2020-01-14\",\"2020-01-15\",\"2020-01-16\",\"2020-01-17\",\"2020-01-21\",\"2020-01-22\",\"2020-01-23\",\"2020-01-24\",\"2020-01-27\",\"2020-01-28\",\"2020-01-29\",\"2020-01-30\",\"2020-01-31\",\"2020-02-03\",\"2020-02-04\",\"2020-02-05\",\"2020-02-06\",\"2020-02-07\",\"2020-02-10\",\"2020-02-11\",\"2020-02-12\",\"2020-02-13\",\"2020-02-14\",\"2020-02-18\",\"2020-02-19\",\"2020-02-20\",\"2020-02-21\",\"2020-02-24\",\"2020-02-25\",\"2020-02-26\",\"2020-02-27\",\"2020-02-28\",\"2020-03-02\",\"2020-03-03\",\"2020-03-04\",\"2020-03-05\",\"2020-03-06\",\"2020-03-09\",\"2020-03-10\",\"2020-03-11\",\"2020-03-12\",\"2020-03-13\",\"2020-03-16\",\"2020-03-17\",\"2020-03-18\",\"2020-03-19\",\"2020-03-20\",\"2020-03-23\",\"2020-03-24\",\"2020-03-25\",\"2020-03-26\",\"2020-03-27\",\"2020-03-30\",\"2020-03-31\",\"2020-04-01\",\"2020-04-02\",\"2020-04-03\",\"2020-04-06\",\"2020-04-07\",\"2020-04-08\",\"2020-04-09\",\"2020-04-13\",\"2020-04-14\",\"2020-04-15\",\"2020-04-16\",\"2020-04-17\",\"2020-04-20\",\"2020-04-21\",\"2020-04-22\",\"2020-04-23\",\"2020-04-24\",\"2020-04-27\",\"2020-04-28\",\"2020-04-29\",\"2020-04-30\",\"2020-05-01\",\"2020-05-04\",\"2020-05-05\",\"2020-05-06\",\"2020-05-07\",\"2020-05-08\",\"2020-05-11\",\"2020-05-12\",\"2020-05-13\",\"2020-05-14\",\"2020-05-15\",\"2020-05-18\",\"2020-05-19\",\"2020-05-20\",\"2020-05-21\",\"2020-05-22\",\"2020-05-26\",\"2020-05-27\",\"2020-05-28\",\"2020-05-29\",\"2020-06-01\",\"2020-06-02\",\"2020-06-03\",\"2020-06-04\",\"2020-06-05\",\"2020-06-08\",\"2020-06-09\",\"2020-06-10\",\"2020-06-11\",\"2020-06-12\",\"2020-06-15\",\"2020-06-16\",\"2020-06-17\",\"2020-06-18\",\"2020-06-19\",\"2020-06-22\",\"2020-06-23\",\"2020-06-24\",\"2020-06-25\",\"2020-06-26\",\"2020-06-29\",\"2020-06-30\",\"2020-07-01\",\"2020-07-02\",\"2020-07-06\",\"2020-07-07\",\"2020-07-08\",\"2020-07-09\",\"2020-07-10\",\"2020-07-13\",\"2020-07-14\",\"2020-07-15\",\"2020-07-16\",\"2020-07-17\",\"2020-07-20\",\"2020-07-21\",\"2020-07-22\",\"2020-07-23\",\"2020-07-24\",\"2020-07-27\",\"2020-07-28\",\"2020-07-29\",\"2020-07-30\",\"2020-07-31\",\"2020-08-03\",\"2020-08-04\",\"2020-08-05\",\"2020-08-06\",\"2020-08-07\",\"2020-08-10\",\"2020-08-11\",\"2020-08-12\",\"2020-08-13\",\"2020-08-14\",\"2020-08-17\",\"2020-08-18\",\"2020-08-19\",\"2020-08-20\",\"2020-08-21\",\"2020-08-24\",\"2020-08-25\",\"2020-08-26\",\"2020-08-27\",\"2020-08-28\",\"2020-08-31\",\"2020-09-01\",\"2020-09-02\",\"2020-09-03\",\"2020-09-04\",\"2020-09-08\",\"2020-09-09\",\"2020-09-10\",\"2020-09-11\",\"2020-09-14\",\"2020-09-15\",\"2020-09-16\",\"2020-09-17\",\"2020-09-18\",\"2020-09-21\",\"2020-09-22\",\"2020-09-23\",\"2020-09-24\",\"2020-09-25\",\"2020-09-28\",\"2020-09-29\",\"2020-09-30\",\"2020-10-01\",\"2020-10-02\",\"2020-10-05\",\"2020-10-06\",\"2020-10-07\",\"2020-10-08\",\"2020-10-09\",\"2020-10-12\",\"2020-10-13\",\"2020-10-14\",\"2020-10-15\",\"2020-10-16\",\"2020-10-19\",\"2020-10-20\",\"2020-10-21\",\"2020-10-22\",\"2020-10-23\",\"2020-10-26\",\"2020-10-27\",\"2020-10-28\",\"2020-10-29\",\"2020-10-30\",\"2020-11-02\",\"2020-11-03\",\"2020-11-04\",\"2020-11-05\",\"2020-11-06\",\"2020-11-09\",\"2020-11-10\",\"2020-11-11\",\"2020-11-12\",\"2020-11-13\",\"2020-11-16\",\"2020-11-17\",\"2020-11-18\",\"2020-11-19\",\"2020-11-20\",\"2020-11-23\",\"2020-11-24\",\"2020-11-25\",\"2020-11-27\",\"2020-11-30\",\"2020-12-01\",\"2020-12-02\"],\"y\":[3343017728.917694,2450121891.1079407,2587995709.5458984,3743866645.2789307,3993530409.3040466,2913680745.930481,3303734850.0,3230029350.0,3108360599.9061584,4132776000.0,2845322819.343567,3066044562.753296,3911748000.0,2647788056.375122,2784623698.33374,3946181799.0722656,3211607008.3007812,2507645592.2470093,3694815241.5657043,5970541274.925232,14418068750.0,4332797670.849609,3163402328.8742065,3497752130.760193,5022315167.388916,3037461209.553528,3754093706.0897827,2651053762.023926,3070388311.343384,4486201665.957642,4827286085.316467,3056825747.845459,3012739731.097412,3350134165.209961,2856947371.7178345,2838212920.6237793,2975990235.748291,2773845633.630371,3216922599.9954224,5090396689.517212,3642280735.977173,2950490192.2332764,3030644920.349121,2434107850.5386353,2600300800.0,3072580049.725342,2728924980.029297,2425100586.833191,2127811893.095398,3608670400.491333,2705750126.953125,6143461391.067505,3047331464.630127,5527861071.237183,3657149436.6485596,2867200558.744812,3149717170.3308105,3321260203.112793,4799296341.851807,4206862657.470703,3052366533.6730957,2824599894.003296,2871945029.008484,2879678062.9852295,3991932076.423645,3038265417.449951,2389793086.94458,2710694843.331909,4302634570.336914,2885630062.1032715,2513920099.3911743,2351839273.362732,2075286955.1467896,2437759185.083008,3321643880.932617,2464244517.0028687,2461170841.542053,2727497871.963501,2879519469.213867,2048475381.352234,2996596332.6782227,4925513143.528748,6689902772.872925,6720200708.435059,3424684478.4698486,4070734375.4745483,7459604456.195068,6025690510.949707,3954981440.245056,4195922561.8240356,5077464898.529053,4049710210.624695,3116940319.4732666,7627846925.0,5120493002.627563,4126619982.1777344,3536596062.158203,3063526880.7876587,2940754449.7680664,2959781678.076172,3368298649.383545,3092900686.1465454,3735165177.685547,2512779917.852783,4316955230.250549,3899308395.465088,4112215723.7472534,3273583649.1210938,3293661608.734131,9666224368.791199,10514927433.60138,5008305860.882568,4577069107.470703,4641145350.045776,7164873912.1658325,4762108356.829834,3610763364.2196655,3102042142.163086,2782450562.2924805,5184075388.739014,3746465956.176758,3559027781.2057495,3220276432.434082,4525833561.291504,3315930980.369568,2048864300.0,3107963585.0097656,3443903520.9106445,2768500965.362549,3059402384.5092773,2878845329.852295,3626667166.694641,3723715445.663452,3000488048.8357544,3558555801.9104004,2681749536.71875,3159791549.3927,2592417794.8516846,3944978314.163208,3268900709.289551,2879744789.567566,2421752365.951538,4889631648.712158,2573448150.0,2951680622.2091675,5307058537.936401,10989868709.313965,4215527159.4665527,3215362748.451233,3473222289.605713,5795840538.294983,4208739326.2023926,6337724174.859619,4134967995.817566,3536313730.026245,4761624979.84314,4453743935.5529785,4410703133.053589,4319925750.0,4145392062.034607,3451982961.6271973,3103467935.118103,3156556287.675476,4073248801.551819,4192730051.6967773,4808598287.094116,4454489326.44043,4392756400.0,2721770005.632019,4776254533.958435,3505626826.2908936,3536189789.543152,4538642384.70459,5100299200.0,11535914083.770752,7169466135.906982,3760843566.9952393,7852442487.817383,4485505646.237183,3303266449.0875244,8264125385.827637,5753919640.104675,7084969777.529907,6682508150.45929,5614112377.624512,3933512657.0343018,3373003013.1378174,4053325047.583008,2876062382.348633,2507256674.6566772,3094739937.850952,3307289669.0093994,2703400333.1237793,2534410276.4434814,2434690204.6813965,2646571731.591797,2515515600.0,2573725548.0560303,3856545537.7807617,3048496754.1900635,2615942102.053833,6642283334.060669,3745953125.0,3433288090.7455444,2789656228.3813477,3317002588.6627197,2676048767.2576904,7248257445.663452,7452517430.566406,6093350829.986572,5613812421.469116,6958644499.264526,10246258500.0,6103332775.0,4258633755.5236816,4301930414.085388,5185399831.958008,4392164438.957214,2954375957.7301025,4246233459.2437744,4930051601.390076,4044376394.2718506,3726199791.3360596,2764282682.5195312,4351233266.661072,4477034115.800476,2454251716.1224365,3606587636.1328125,4574032609.5703125,7061621293.981934,7136449573.461914,6800828386.335754,5525699619.311523,4639687911.306763,4826925443.115234,4347003344.036865,3955670109.9609375,6090726981.411743,3332559580.7678223,4103195869.7631836,3526462854.9957275,6988253170.03479,5190470408.128357,4788749071.795654,4092971003.2836914,3666441883.918762,2861308404.1900635,5660450978.057861,3667593051.2145996,2819432646.1761475,4399962965.916443,4402259193.617249,5083867790.885925,3881858810.6140137,4140500000.0,3585996055.5358887,3762738759.5214844,4175970810.1364136,3272074433.2122803,4501291235.916138,5209215993.182373,6158676089.880371,5591728712.649536,5786583563.697815,4798222200.0,5787278044.529724,8903530584.384155,7106027215.34729,6713415714.981079,8505561923.99292,7688668010.211182,5437941989.117432,7924383566.345215,13898304900.0,11382848264.564514,11125786630.69458,8233635697.506714,8438685743.026733,11053901624.810791,9895941253.334045,5349135408.80127,6802736714.538574,8847954408.95996,6927564628.741455,5830956632.095337,6410266886.450195,5346102750.0,5934076200.0,6829888980.584717,6944383735.240173,6729747467.51709,8540350000.0,6775979598.175049,5021935756.018066,4202714251.4419556,5549063566.299438,4206589312.0422363,5792692158.48999,5852674251.315308,5703879233.6883545,5240497367.700195,4063179731.1828613,7014824862.3550415,5863224142.071533,3443360963.937378,6346392881.315613,7005721833.239746,6767290372.167969,6485993284.393311,6888910334.136963,6936971701.972961,6442500283.126831,6264967548.706055,5098512401.519775,5938649876.121521,4654057042.1936035,5894192584.924316,4934459973.554993,4921789950.0,3868105158.7646484,3985942688.02948,4389968831.65741,3793914446.044922,4742146642.147827,3690980203.994751,6014960746.228027,10853185171.94519,6033821420.585632,5489774562.255859,4644730491.769409,4592083894.1345215,5787649717.150879,7011551890.939331,9058585866.96167,11748862345.349121,6026323877.206421,10331485081.907654,7860301379.46167,5284341026.678467,4348850446.166992,5319086384.083557,4943358702.008057,3909531093.1762695,4417733145.849609,3609875617.4987793,3233805154.9987793,3409044442.327881,3452542193.8476562,2852449467.8131104,3778200236.242676,4371476958.190918,3292795411.972046,4230399252.584839,3504468750.0,5135710701.806641,4459701328.773499,5038645194.094849,4168923407.348633,4060699638.5620117,4129829455.3222656,5110108478.649902,3501134376.777649,3251666287.3565674,4126442813.9648438,4123207145.9487915,11655053501.97754,3488840127.5405884,6235191746.97876,3847252550.0,4768529146.626282,5029897918.19458,5768066869.023132,4531297376.049805,4656540940.597534,3221244600.0,4208975660.8779907,3318944604.13208,2566566790.447998,3078418578.656006,3286693065.3442383,3765212864.175415,3034007782.284546,3538062311.9506836,3446391310.977173,2394284509.9136353,2871878276.0894775,2974079977.5924683,3121303259.942627,3892631283.0566406,3958251778.479004,3063728943.7591553,3608694700.0,3255422840.386963,3704750088.0737305,4588103417.358398,3993712422.012329,7492287905.654907,13689043550.0,12941965521.911621,6956724909.732056,5315688564.221191,5299406429.61731,4668409875.0,4907134402.709961,5107562305.957031,5407832156.57959,4351893000.0,6056509982.244873,6079705536.743164,7708206724.868774,6525788045.347595,5625403216.366577,4089842463.0386353,4069140871.7285156,3993858691.6625977,4473240344.110107,5004062890.490723,6077275187.554932,10980068754.437256,9865507174.621582,6254803252.71759,7562257547.241211,7650099209.289551,8325261854.806519,8627637517.356873,8002413868.19458,10894042569.927979,9442746176.733398,7162723194.815063,8104068569.616699,6890207981.428528,5923024073.55957,5854734231.518555,20949057074.465942,6114425600.07019,5455742195.947266,5286707530.082703,6789260847.894287,5176082881.954956,5363517678.356934,5683438465.740967,6649919645.874023,7305255756.011963,7531770119.544983,6637891029.737854,6100761038.696289,9085086241.629028,11392527417.877197,8959450993.6203,6692731778.793335,6483225421.875,5062021681.872559,7038212565.202332,7254489616.241455,6352976689.266968,8634751928.366089,8802665645.126343,6562304931.112671,10221992064.221191,9749350772.331238,7819578111.877441,8395228877.412415,12960581575.195312,18948878285.801697,13337940040.701294,6496778669.218445,7017452677.996826,5287848613.320923,7026775167.950439,9928979941.368103,9012299666.694641,11357626985.549927,8896507278.21045,7146733853.921509,7792236283.589172,12003703606.219482,5502136038.006592,4070178801.3916016,7857637850.280762,7211340803.347778,8334548862.457275,7499803627.471924,7059535342.384338,7541118348.846436,7305124467.938232,7530152500.610352,7124027016.259766,10519609978.57666,7973113301.867676,6024644287.454224,5453065572.653198,6735648102.095032,7260558434.124756,5620058152.862549,7891220067.063904,10158349708.602905,14431583148.934937,5457553704.058838,9207411417.732239,8294234840.79895,6607185241.3116455,5521452282.279968,5849309356.178284,12983681940.930176,8689088324.061584,8103279552.79541,6184563975.0,6914142910.894775,5503071769.194031,4115362946.569824,4865880000.0,4394777673.284912,4736469392.633057,4647932250.201416,5292832067.199707,4659400292.755127,3560261909.6466064,3884916972.3587036,5290560295.783997,4093825309.931946,6432707791.40625,10098394450.0,6780699123.461914,5439892151.573181,5393604375.0,6288176423.583984,4920468059.124756,5425926275.494385,4059166287.2314453,3556911608.239746,3808027301.399231,3827382071.2768555,3729537626.637268,4196899210.9069824,3243020565.0390625,4492460200.12207,2950733639.8864746,3271416227.0874023,3811002388.546753,2975847997.2564697,4867576262.084961,4885496337.786865,4529308445.599365,4824655937.457275,3464505797.906494,3631831096.911621,4277379000.0,4149736341.8884277,5726767704.620361,5873713634.899902,5638915783.3480835,4332261434.257507,7266664357.36084,4929846908.023071,5903002953.369141,5839583345.654297,9956261891.107178,8101991214.41803,8275362162.849426,9302235060.646057,5625527984.436035,3921677113.366699,4475981728.088379,5328329033.050537,4417001211.265564,4546146272.039795,3740477413.6657715,3649740200.0,5178928327.96936,7135755900.0,4352510980.065918,4158214096.2158203,5520770273.449707,3493816743.0755615,5120007700.0,5871838425.146484,4932555802.767944,3975960911.2701416,4839055940.353394,3633710760.2355957,3806548073.364258,3810011186.9125366,4543303680.552673,9338158297.792053,13647443472.972107,6692025949.710083,4423965700.0,6763737349.388123,7863604205.659485,5344284389.23645,7006854234.613037,8125531164.178467,10666011102.105713,6891693335.775757,5067914075.395203,6278608572.4823,6214149900.0,7069525865.597534,5292871853.125,5437449071.685791,6562926035.775757,4244219887.9486084,4981207566.592407,5051995395.068359,3783240784.753418,4734523250.073242,7000644253.279114,5563091501.098633,5434836236.105347,4172321313.497925,5834638472.717285,5049620970.011902,5246798183.24585,3544588952.5634766,4208123457.70874,3616091613.0599976,2844191790.046692,5269045868.972778,4179845350.854492,4291182584.4421387,9501803209.649658,3618207065.362549,4120718725.3234863,5208286579.551697,4174506192.805481,6157409895.03479,5492842233.169556,3433273023.6450195,2322506461.6088867,3526132991.2338257,5068226880.258179,4141116833.03833,3637227556.5353394,4073695650.0,3577104213.696289,3477776067.782593,3449260600.0,2868760211.1053467,3813059863.897705,4240066810.3546143,4616426465.194702,3833299900.78125,3128297144.5495605,2879565451.4282227,3660150382.7835083,4544478353.259277,7085095404.574585,14759708990.853882,11258950501.361084,8336685816.581726,10129662428.131104,7057485600.0,6640849951.99585,5494542387.176514,4948313638.240051,4507171215.94696,9867250002.63977,7409985350.0,5492855825.564575,5703612600.0,5135400909.008789,5655381364.4088745,4579287442.855835,4728021251.408386,9487199491.42456,5377743107.061768,5282293022.7508545,3275901544.543457,4387224289.69574,4413473432.144165,4118731038.8946533,4013958685.8459473,5100313906.808472,4129203991.6397095,5848854147.994995,6886270833.021545,9902711501.80664,7189454384.9823,8698221875.0,4652666060.861206,4042937034.095764,5644991908.26416,4874510324.111938,12065094026.249695,4191878183.3953857,6789613115.551758,4841308475.262451,4141298303.504944,5547524825.683594,5818158309.710693,7817034494.5373535,7578709440.382385,6316887539.520264,7859017906.828308,6942700015.350342,6273101829.376221,4243780955.181885,6500824702.532959,9849697448.960876,5686094385.290527,5139388959.9609375,4330173155.786133,3975361443.374634,5758569433.203125,5245955898.184204,4936793202.127075,4610011757.15332,4218513335.71167,4529502027.635193,6012864033.679199,8687861331.248474,7572805258.995056,8654484588.890076,9665212442.718506,6648135000.0,5136017569.53125,4878839378.78418,6157596819.158936,4551565780.297852,5363379909.698486,5723092325.317383,6792541723.352051,5855742974.597168,6657713460.644531,5789606312.298584,5070641084.710693,6989957998.840332,7951689384.375,4275207694.064331,5595128384.436035,6951329375.747681,4368175716.275024,3114638400.0,6239934774.505615,7422242169.213867,4396027831.982422,4941407788.162231,7178931192.398071,8544269781.829834,6069017496.347046,5331244467.687988,9318570002.67334,9189156831.161499,8968533020.568848,8002789340.515137,8114445870.727539,6886335575.820923,19279823248.443604,6998612000.0,3445266985.848999,6749191858.255005,10596971253.631592,10503057076.177979,7400390956.182861,10172884741.726685,10880197333.074951,8873120278.710938,8121579418.701172,10011273242.614746,13167666180.651855,10911574723.864746,9630195420.379639,12659975151.452637,9489923294.37561,8576828986.303711,10981555671.524048,8772408158.95996,8088038680.767822,8337649426.940918,11661095774.560547,12507841244.20166,12885029964.019775,17532944484.036255,10262079891.28418,15443651908.276367,13425598983.288574,10890034993.460083,9549219077.630615,8571364618.786621,9415602594.085693,8790276326.293945,7536659142.578125,9303147067.077637,7695163087.341309,6508228824.487305,12164363200.0,7603775405.2734375,8052822143.096924,10139219529.632568,16563540777.148438,16613111897.644043,14490184002.792358,21923010047.43042,29173305668.70117,25503224124.627686,23107670732.977295,16588516668.896484,13735956773.669434,16342970056.976318,19080716816.583252,20351161888.809204,17599893902.98462,25969449808.021545,25763093623.138428,19523555580.177307,20485200089.44702,18514655390.563965,16636301271.035767,23021037843.641663,18889306022.924805,17746426014.990234,18635091084.28192,16287354145.861816,12648167788.449097,10700516518.475342,12523909314.338684,10613193847.332764,10160553351.165771,7838582818.908691,13242950158.590698,13158756202.502441,11234486775.256348,10861393113.208008,8950495025.0,13993313739.923096,9326061257.849121,11261555992.901611,15218174343.10913,9001277095.935059,12143178702.062988,8079873408.615112,8581926069.909668,8949548822.607422,8288924316.055298,7800573920.007324,9874951523.052979,13446050241.333008,4347193758.64563,2447299710.571289,2747802919.454956,2674359428.9367676,2187216482.6782227,2598269180.908203,2873411055.5786133,3158888580.3977966,3857592508.468628,3074684120.37735,3199191546.41037,2664805621.7033386,1990975527.1362305,2224729908.06427,2033559181.6726685,1630388977.8930664,2484786527.4391174,2245562244.845581,2656607787.5,3052184280.937195,1625165513.319397,1764595696.0144043,8493044608.447266,7055617192.327881,11374626900.0,7974228851.660156,12702896758.374023,14700337483.425903,16934599732.287598,16952365589.20288,11902507239.111328,14561042420.666504,10056036439.257812,8513660088.925171,23123136760.71167,12151804565.661621,19440347952.25525,17338977230.43213,12543417978.094482,18146240796.557617,11816277430.130005,12788355412.072754,10080130067.468262,10380921326.367188,11089849196.054077,10474862477.618408,11163843867.06543,12030612513.745117,8657470458.73413,18298186668.460083,16595784748.635864,14971274316.238403,10673226294.763184,8880123920.733643,8883452519.622803,10053662000.0,8657408054.516602,18290873758.483887,17174414065.859985,11492299044.067383,9663346516.992188,8584887250.698853,15210525086.05957,39777029167.66968,33569221350.0,18979897172.451782,13426744500.0,23057145650.683594,22005342334.387207,23943727013.461304,20551825000.0,18753422202.496338,24161531268.78357,19024683421.105957,13702655853.076172,12207282900.0,16839837646.438599,15009949273.64502,42043876404.49524,43538840858.569336,26399937624.56665,20626001454.748535,19445605856.295776,23417631740.341187,29124674892.66205,20458436901.275635,26295635378.570557,31138638940.481567,40232166607.48901,26102779741.392517,20758659406.002045,20686321266.619873,20256353600.0,16167715621.540833,21333536849.0448,17344155845.161438,19641733088.104248,30674286464.590454,21544175462.36267,20467423827.087402,16144987557.961273,18153180130.76477,16839911408.917236,15826818977.957153,11338514834.051514,16523214563.671875,13561701622.311401,16355349754.211426,12377402700.0,18275136903.424072,11145383097.335815,9597373785.900879,11756292215.689087,29884214286.557007,31768223149.715424,18307240505.804443,13587020928.948975,13734169688.630676,13991746418.978119,14621029252.797699,10511989267.044067,11805111000.0,9499151979.597473,12868423376.341248,10759474739.196777,16005882920.736694,16851619299.404907,20713075352.13318,13364232300.543976,11886038998.754883,15890170303.138733,15043856358.718872,13585008430.438232,17973219648.845673,16006573866.485596,13418129310.112,12297977688.552094,9729457568.27774,10969315178.268433,8867214644.66858,9008297369.833374,8792766274.765015,8611746607.232666,14568166109.749603,13114891405.490112,8876202082.617188,5443738496.011353,20168284826.9989,15674804859.918213,3216456736.3099365],\"type\":\"scatter\"},{\"mode\":\"lines\",\"name\":\"Other Value\",\"x\":[\"2019-04-18\",\"2019-04-22\",\"2019-04-23\",\"2019-04-24\",\"2019-04-25\",\"2019-04-26\",\"2019-04-29\",\"2019-04-30\",\"2019-05-01\",\"2019-05-02\",\"2019-05-03\",\"2019-05-06\",\"2019-05-07\",\"2019-05-08\",\"2019-05-09\",\"2019-05-10\",\"2019-05-13\",\"2019-05-14\",\"2019-05-15\",\"2019-05-16\",\"2019-05-17\",\"2019-05-20\",\"2019-05-21\",\"2019-05-22\",\"2019-05-23\",\"2019-05-24\",\"2019-05-28\",\"2019-05-29\",\"2019-05-30\",\"2019-05-31\",\"2019-06-03\",\"2019-06-04\",\"2019-06-05\",\"2019-06-06\",\"2019-06-07\",\"2019-06-10\",\"2019-06-11\",\"2019-06-12\",\"2019-06-13\",\"2019-06-14\",\"2019-06-17\",\"2019-06-18\",\"2019-06-19\",\"2019-06-20\",\"2019-06-21\",\"2019-06-24\",\"2019-06-25\",\"2019-06-26\",\"2019-06-27\",\"2019-06-28\",\"2019-07-01\",\"2019-07-02\",\"2019-07-03\",\"2019-07-05\",\"2019-07-08\",\"2019-07-09\",\"2019-07-10\",\"2019-07-11\",\"2019-07-12\",\"2019-07-15\",\"2019-07-16\",\"2019-07-17\",\"2019-07-18\",\"2019-07-19\",\"2019-07-22\",\"2019-07-23\",\"2019-07-24\",\"2019-07-25\",\"2019-07-26\",\"2019-07-29\",\"2019-07-30\",\"2019-07-31\",\"2019-08-01\",\"2019-08-02\",\"2019-08-05\",\"2019-08-06\",\"2019-08-07\",\"2019-08-08\",\"2019-08-09\",\"2019-08-12\",\"2019-08-13\",\"2019-08-14\",\"2019-08-15\",\"2019-08-16\",\"2019-08-19\",\"2019-08-20\",\"2019-08-21\",\"2019-08-22\",\"2019-08-23\",\"2019-08-26\",\"2019-08-27\",\"2019-08-28\",\"2019-08-29\",\"2019-08-30\",\"2019-09-03\",\"2019-09-04\",\"2019-09-05\",\"2019-09-06\",\"2019-09-09\",\"2019-09-10\",\"2019-09-11\",\"2019-09-12\",\"2019-09-13\",\"2019-09-16\",\"2019-09-17\",\"2019-09-18\",\"2019-09-19\",\"2019-09-20\",\"2019-09-23\",\"2019-09-24\",\"2019-09-25\",\"2019-09-26\",\"2019-09-27\",\"2019-09-30\",\"2019-10-01\",\"2019-10-02\",\"2019-10-03\",\"2019-10-04\",\"2019-10-07\",\"2019-10-08\",\"2019-10-09\",\"2019-10-10\",\"2019-10-11\",\"2019-10-14\",\"2019-10-15\",\"2019-10-16\",\"2019-10-17\",\"2019-10-18\",\"2019-10-21\",\"2019-10-22\",\"2019-10-23\",\"2019-10-24\",\"2019-10-25\",\"2019-10-28\",\"2019-10-29\",\"2019-10-30\",\"2019-10-31\",\"2019-11-01\",\"2019-11-04\",\"2019-11-05\",\"2019-11-06\",\"2019-11-07\",\"2019-11-08\",\"2019-11-11\",\"2019-11-12\",\"2019-11-13\",\"2019-11-14\",\"2019-11-15\",\"2019-11-18\",\"2019-11-19\",\"2019-11-20\",\"2019-11-21\",\"2019-11-22\",\"2019-11-25\",\"2019-11-26\",\"2019-11-27\",\"2019-11-29\",\"2019-12-02\",\"2019-12-03\",\"2019-12-04\",\"2019-12-05\",\"2019-12-06\",\"2019-12-09\",\"2019-12-10\",\"2019-12-11\",\"2019-12-12\",\"2019-12-13\",\"2019-12-16\",\"2019-12-17\",\"2019-12-18\",\"2019-12-19\",\"2019-12-20\",\"2019-12-23\",\"2019-12-24\",\"2019-12-26\",\"2019-12-27\",\"2019-12-30\",\"2019-12-31\",\"2020-01-02\",\"2020-01-03\",\"2020-01-06\",\"2020-01-07\",\"2020-01-08\",\"2020-01-09\",\"2020-01-10\",\"2020-01-13\",\"2020-01-14\",\"2020-01-15\",\"2020-01-16\",\"2020-01-17\",\"2020-01-21\",\"2020-01-22\",\"2020-01-23\",\"2020-01-24\",\"2020-01-27\",\"2020-01-28\",\"2020-01-29\",\"2020-01-30\",\"2020-01-31\",\"2020-02-03\",\"2020-02-04\",\"2020-02-05\",\"2020-02-06\",\"2020-02-07\",\"2020-02-10\",\"2020-02-11\",\"2020-02-12\",\"2020-02-13\",\"2020-02-14\",\"2020-02-18\",\"2020-02-19\",\"2020-02-20\",\"2020-02-21\",\"2020-02-24\",\"2020-02-25\",\"2020-02-26\",\"2020-02-27\",\"2020-02-28\",\"2020-03-02\",\"2020-03-03\",\"2020-03-04\",\"2020-03-05\",\"2020-03-06\",\"2020-03-09\",\"2020-03-10\",\"2020-03-11\",\"2020-03-12\",\"2020-03-13\",\"2020-03-16\",\"2020-03-17\",\"2020-03-18\",\"2020-03-19\",\"2020-03-20\",\"2020-03-23\",\"2020-03-24\",\"2020-03-25\",\"2020-03-26\",\"2020-03-27\",\"2020-03-30\",\"2020-03-31\",\"2020-04-01\",\"2020-04-02\",\"2020-04-03\",\"2020-04-06\",\"2020-04-07\",\"2020-04-08\",\"2020-04-09\",\"2020-04-13\",\"2020-04-14\",\"2020-04-15\",\"2020-04-16\",\"2020-04-17\",\"2020-04-20\",\"2020-04-21\",\"2020-04-22\",\"2020-04-23\",\"2020-04-24\",\"2020-04-27\",\"2020-04-28\",\"2020-04-29\",\"2020-04-30\",\"2020-05-01\",\"2020-05-04\",\"2020-05-05\",\"2020-05-06\",\"2020-05-07\",\"2020-05-08\",\"2020-05-11\",\"2020-05-12\",\"2020-05-13\",\"2020-05-14\",\"2020-05-15\",\"2020-05-18\",\"2020-05-19\",\"2020-05-20\",\"2020-05-21\",\"2020-05-22\",\"2020-05-26\",\"2020-05-27\",\"2020-05-28\",\"2020-05-29\",\"2020-06-01\",\"2020-06-02\",\"2020-06-03\",\"2020-06-04\",\"2020-06-05\",\"2020-06-08\",\"2020-06-09\",\"2020-06-10\",\"2020-06-11\",\"2020-06-12\",\"2020-06-15\",\"2020-06-16\",\"2020-06-17\",\"2020-06-18\",\"2020-06-19\",\"2020-06-22\",\"2020-06-23\",\"2020-06-24\",\"2020-06-25\",\"2020-06-26\",\"2020-06-29\",\"2020-06-30\",\"2020-07-01\",\"2020-07-02\",\"2020-07-06\",\"2020-07-07\",\"2020-07-08\",\"2020-07-09\",\"2020-07-10\",\"2020-07-13\",\"2020-07-14\",\"2020-07-15\",\"2020-07-16\",\"2020-07-17\",\"2020-07-20\",\"2020-07-21\",\"2020-07-22\",\"2020-07-23\",\"2020-07-24\",\"2020-07-27\",\"2020-07-28\",\"2020-07-29\",\"2020-07-30\",\"2020-07-31\",\"2020-08-03\",\"2020-08-04\",\"2020-08-05\",\"2020-08-06\",\"2020-08-07\",\"2020-08-10\",\"2020-08-11\",\"2020-08-12\",\"2020-08-13\",\"2020-08-14\",\"2020-08-17\",\"2020-08-18\",\"2020-08-19\",\"2020-08-20\",\"2020-08-21\",\"2020-08-24\",\"2020-08-25\",\"2020-08-26\",\"2020-08-27\",\"2020-08-28\",\"2020-08-31\",\"2020-09-01\",\"2020-09-02\",\"2020-09-03\",\"2020-09-04\",\"2020-09-08\",\"2020-09-09\",\"2020-09-10\",\"2020-09-11\",\"2020-09-14\",\"2020-09-15\",\"2020-09-16\",\"2020-09-17\",\"2020-09-18\",\"2020-09-21\",\"2020-09-22\",\"2020-09-23\",\"2020-09-24\",\"2020-09-25\",\"2020-09-28\",\"2020-09-29\",\"2020-09-30\",\"2020-10-01\",\"2020-10-02\",\"2020-10-05\",\"2020-10-06\",\"2020-10-07\",\"2020-10-08\",\"2020-10-09\",\"2020-10-12\",\"2020-10-13\",\"2020-10-14\",\"2020-10-15\",\"2020-10-16\",\"2020-10-19\",\"2020-10-20\",\"2020-10-21\",\"2020-10-22\",\"2020-10-23\",\"2020-10-26\",\"2020-10-27\",\"2020-10-28\",\"2020-10-29\",\"2020-10-30\",\"2020-11-02\",\"2020-11-03\",\"2020-11-04\",\"2020-11-05\",\"2020-11-06\",\"2020-11-09\",\"2020-11-10\",\"2020-11-11\",\"2020-11-12\",\"2020-11-13\",\"2020-11-16\",\"2020-11-17\",\"2020-11-18\",\"2020-11-19\",\"2020-11-20\",\"2020-11-23\",\"2020-11-24\",\"2020-11-25\",\"2020-11-27\",\"2020-11-30\",\"2020-12-01\",\"2020-12-02\"],\"y\":[1597411400.0,653695259.6359253,468268500.0,314325203.79447937,251114500.0,101144429.86450195,124226187.66326904,298076362.020874,240246251.05361938,190660150.0,205099954.79049683,160532827.61688232,144841419.61669922,175984040.69137573,101398120.76568604,123832608.72879028,208421930.63049316,142652254.8095703,193537645.18356323,382030386.9895935,309756161.5562439,310467949.2858887,220093446.2890625,131591252.48718262,224938566.10107422,224693500.0,127643895.4902649,114571811.92398071,160518316.34521484,127113544.35195923,119200952.39639282,89362023.57559204,101124233.18634033,240196320.92285156,892327618.9544678,494985600.0,414809600.0091553,323900198.4199524,321939635.26763916,189477898.7297058,208827136.2991333,226421934.6130371,265466551.4175415,251729617.50946045,298647078.62854004,537461414.0136719,318394830.42907715,231364404.90722656,272570254.863739,286640759.9555969,462685851.2512207,158852574.87487793,244766736.74163818,237298468.9064026,162759911.8309021,141614382.47528076,190938298.51379395,163112442.7230835,250949018.208313,382792891.70532227,205861706.76498413,230785200.76828003,193768768.96972656,163200221.19979858,143361607.2845459,218319161.6317749,123158181.1340332,181624834.14154053,310759530.72052,408097046.1639404,156173891.50619507,144669000.2357483,145541037.66479492,104627590.09094238,159145940.33203125,93025341.31393433,92089441.96014404,88644708.89282227,75407097.55706787,71820290.85388184,111409236.43798828,117267106.93130493,97873071.34094238,116523027.46276855,114226417.75512695,68201003.7322998,70687601.62353516,82896037.57476807,125386488.24157715,63993425.48980713,75750636.77215576,103530732.2052002,77403068.33953857,108729784.82818604,142286692.59109497,224537468.069458,462689954.1870117,622613303.6956787,528040380.2444458,226040615.70739746,162517654.15649414,159399300.61340332,111714677.83813477,131500164.01519775,214977134.44976807,155183075.6011963,107179695.4788208,169399757.36923218,55933741.859436035,171674900.79803467,153158357.0640564,73370000.0,178496298.1491089,103365295.86029053,104473757.63549805,102555492.88101196,200203618.7713623,137715732.80334473,110265074.94049072,232294182.44018555,108568686.90948486,162059026.87530518,170654926.35040283,157041486.769104,752102032.4554443,410296180.79833984,234390499.7314453,318465960.82458496,202341394.6723938,284251400.0,222745756.9290161,221516504.4746399,121944556.46629333,233578999.43237305,119538893.10073853,326921000.0,237996414.92156982,250715099.8260498,109604576.29318237,120796649.89776611,88710144.43054199,75375039.24560547,102847137.7532959,70954624.36676025,129948000.0,135135874.24468994,63167548.00796509,161849122.9385376,117454083.06884766,118715306.95953369,197401887.05978394,78799837.93640137,223277015.1763916,144358625.90942383,138031346.72546387,100445074.48272705,38188700.0,216343698.9578247,171142875.7949829,145271938.09890747,255870035.27526855,706050882.888794,345136566.77856445,251545347.8111267,234109313.6871338,207298082.5679779,158176478.27911377,217813774.99084473,152257165.78674316,151221196.5866089,109803890.4914856,147339702.67181396,110040527.53829956,37390395.48492432,93593615.76538086,63667855.41687012,77656734.06448364,91949257.23724365,90401161.60583496,75885110.62316895,221620511.038208,502250270.6588745,180090872.57537842,201302647.6135254,120971252.93884277,247785808.91418457,139699026.99279785,304951699.6765137,228200614.8300171,102565140.68603516,123282096.3935852,113430865.37475586,95247131.5612793,121194600.0,123319312.27416992,114287285.41412354,101054774.51477051,106249317.30499268,192405717.69561768,1141631291.6931152,910317699.7146606,445980321.04797363,210366413.1500244,233708222.39074707,185760368.2067871,242264892.83370972,147524705.960083,306099106.07910156,208730242.99621582,540574394.5770264,810009636.378479,1189061038.3392334,561633803.7902832,1278265754.0039062,1437645396.5835571,733998381.1378479,1534264931.2347412,2279655000.0,1148903520.199585,1296128752.468872,1413583716.934204,3518675000.0,2626582016.988373,1657485375.0,1111371538.116455,1387210048.3810425,1324357127.7679443,992324256.2713623,1856346112.5045776,2079958621.433258,1613779340.5540466,2011064413.4552002,1811067972.3358154,4416860072.418213,3028207569.9279785,2036155738.998413,1306018548.526001,2013347189.4973755,2378200812.963867,1464662995.0561523,1569102100.0,3330371642.3355103,1568924382.6522827,3120082027.960205,2293905250.0,3091723108.9294434,1931523663.1393433,2094758235.7803345,1657261003.8711548,2151136513.3483887,2274665848.843384,1699939676.3427734,1671474174.6261597,1391022798.4817505,984558200.0,3747000500.8483887,6995060734.428406,3256397140.750122,2112240832.4523926,3227437689.8635864,2254946460.4537964,1913097886.291504,1317453390.423584,1068235820.0256348,902192226.9134521,1323768445.600891,1100092096.7926025,1688556652.6657104,1143802656.314087,1852128475.2365112,1130118279.6478271,1493135630.6381226,1587084615.5273438,1473761577.8503418,1212566770.477295,950517352.255249,735934321.496582,1097110800.0,1632123111.3006592,1044561159.4909668,2748072058.583069,4980116611.108398,7424835473.336792,7251171528.845215,4251720533.36792,3383610219.47937,2194297244.1482544,1545203318.9086914,2705527974.2996216,3911940835.0219727,1924312357.4523926,3336504141.6397095,2749005220.3308105,2768055799.7772217,2256481281.414795,2453669656.944275,2787514046.3974,2222579093.536377,2523890459.802246,1943859728.149414,4402296510.736084,2096951563.4033203,1598696427.6657104,1762939162.2192383,1473334405.0292969,3197302200.0,2049543417.7276611,1601355572.039795,1454329860.7177734,1753098644.9707031,2418967786.5600586,2265493216.088867,1556177799.4140625,1347111617.6101685,1140641932.937622,2628028310.610962,1240215291.6259766,1196622254.4433594,1154234100.0,1060996981.4941406,839905644.0948486,848888291.3452148,841392540.965271,1981525000.0,858495113.381958,1816852400.0,825358770.6939697,1232116182.4432373,966477925.0,1300040686.203003,1428500000.0,2248134654.6707153,930854060.8001709,1174363325.0,897056361.4135742,2384491025.317383,1803905520.4467773,1278385785.6445312,2708765718.75,1520848929.5471191,1824516772.1099854,1336866287.2375488,1680706304.4647217,1638597567.2729492,1602111959.185791,7629479453.237915,24416297022.24121,7991221761.938477,7742435824.713135,4893681882.800293,2795285558.898926,6750997864.251709,4587653939.089966,3560980800.0,3213190558.7646484,3491181884.741211,2750984256.500244,3825702750.0,9790567306.167603,7890815006.561279,8098639660.345459,13539987155.978394,8321561264.61792,6408226200.0,8593203222.531128,7080860150.0,4204569686.9873047,3795963230.2490234,6168541631.533813,3657117302.2094727,2916225025.0,2138474129.8217773,2006607953.8146973,4293667508.932495,3430703489.639282,4638760588.531494,4240881225.0,8861650243.33496,7683902200.0,8634903696.020508,6496975600.292969,4729251148.498535,4216842308.001709,2750494132.925415,5219737210.498047,3895604053.4179688,4546099787.036133,4508777500.561523,4008903029.852295,3647510700.0,2933460533.4472656,3893059548.248291,3169087797.091675,2133469197.5097656,7452163363.891602,7802922121.655273,6899099212.875366,6391022618.408203,4734881118.463135,4811513686.425781,2800204557.043457,4554732061.773682,3317220098.4191895,5520452916.647339,3651356069.6411133,2628748344.946289,3888628974.697876,3431622897.4121094,7963019496.154785,8466484574.127197,2494011555.6569824],\"type\":\"scatter\"},{\"mode\":\"lines\",\"name\":\"Other Value\",\"x\":[\"2017-01-03\",\"2017-01-04\",\"2017-01-05\",\"2017-01-06\",\"2017-01-09\",\"2017-01-10\",\"2017-01-11\",\"2017-01-12\",\"2017-01-13\",\"2017-01-17\",\"2017-01-18\",\"2017-01-19\",\"2017-01-20\",\"2017-01-23\",\"2017-01-24\",\"2017-01-25\",\"2017-01-26\",\"2017-01-27\",\"2017-01-30\",\"2017-01-31\",\"2017-02-01\",\"2017-02-02\",\"2017-02-03\",\"2017-02-06\",\"2017-02-07\",\"2017-02-08\",\"2017-02-09\",\"2017-02-10\",\"2017-02-13\",\"2017-02-14\",\"2017-02-15\",\"2017-02-16\",\"2017-02-17\",\"2017-02-21\",\"2017-02-22\",\"2017-02-23\",\"2017-02-24\",\"2017-02-27\",\"2017-02-28\",\"2017-03-01\",\"2017-03-02\",\"2017-03-03\",\"2017-03-06\",\"2017-03-07\",\"2017-03-08\",\"2017-03-09\",\"2017-03-10\",\"2017-03-13\",\"2017-03-14\",\"2017-03-15\",\"2017-03-16\",\"2017-03-17\",\"2017-03-20\",\"2017-03-21\",\"2017-03-22\",\"2017-03-23\",\"2017-03-24\",\"2017-03-27\",\"2017-03-28\",\"2017-03-29\",\"2017-03-30\",\"2017-03-31\",\"2017-04-03\",\"2017-04-04\",\"2017-04-05\",\"2017-04-06\",\"2017-04-07\",\"2017-04-10\",\"2017-04-11\",\"2017-04-12\",\"2017-04-13\",\"2017-04-17\",\"2017-04-18\",\"2017-04-19\",\"2017-04-20\",\"2017-04-21\",\"2017-04-24\",\"2017-04-25\",\"2017-04-26\",\"2017-04-27\",\"2017-04-28\",\"2017-05-01\",\"2017-05-02\",\"2017-05-03\",\"2017-05-04\",\"2017-05-05\",\"2017-05-08\",\"2017-05-09\",\"2017-05-10\",\"2017-05-11\",\"2017-05-12\",\"2017-05-15\",\"2017-05-16\",\"2017-05-17\",\"2017-05-18\",\"2017-05-19\",\"2017-05-22\",\"2017-05-23\",\"2017-05-24\",\"2017-05-25\",\"2017-05-26\",\"2017-05-30\",\"2017-05-31\",\"2017-06-01\",\"2017-06-02\",\"2017-06-05\",\"2017-06-06\",\"2017-06-07\",\"2017-06-08\",\"2017-06-09\",\"2017-06-12\",\"2017-06-13\",\"2017-06-14\",\"2017-06-15\",\"2017-06-16\",\"2017-06-19\",\"2017-06-20\",\"2017-06-21\",\"2017-06-22\",\"2017-06-23\",\"2017-06-26\",\"2017-06-27\",\"2017-06-28\",\"2017-06-29\",\"2017-06-30\",\"2017-07-03\",\"2017-07-05\",\"2017-07-06\",\"2017-07-07\",\"2017-07-10\",\"2017-07-11\",\"2017-07-12\",\"2017-07-13\",\"2017-07-14\",\"2017-07-17\",\"2017-07-18\",\"2017-07-19\",\"2017-07-20\",\"2017-07-21\",\"2017-07-24\",\"2017-07-25\",\"2017-07-26\",\"2017-07-27\",\"2017-07-28\",\"2017-07-31\",\"2017-08-01\",\"2017-08-02\",\"2017-08-03\",\"2017-08-04\",\"2017-08-07\",\"2017-08-08\",\"2017-08-09\",\"2017-08-10\",\"2017-08-11\",\"2017-08-14\",\"2017-08-15\",\"2017-08-16\",\"2017-08-17\",\"2017-08-18\",\"2017-08-21\",\"2017-08-22\",\"2017-08-23\",\"2017-08-24\",\"2017-08-25\",\"2017-08-28\",\"2017-08-29\",\"2017-08-30\",\"2017-08-31\",\"2017-09-01\",\"2017-09-05\",\"2017-09-06\",\"2017-09-07\",\"2017-09-08\",\"2017-09-11\",\"2017-09-12\",\"2017-09-13\",\"2017-09-14\",\"2017-09-15\",\"2017-09-18\",\"2017-09-19\",\"2017-09-20\",\"2017-09-21\",\"2017-09-22\",\"2017-09-25\",\"2017-09-26\",\"2017-09-27\",\"2017-09-28\",\"2017-09-29\",\"2017-10-02\",\"2017-10-03\",\"2017-10-04\",\"2017-10-05\",\"2017-10-06\",\"2017-10-09\",\"2017-10-10\",\"2017-10-11\",\"2017-10-12\",\"2017-10-13\",\"2017-10-16\",\"2017-10-17\",\"2017-10-18\",\"2017-10-19\",\"2017-10-20\",\"2017-10-23\",\"2017-10-24\",\"2017-10-25\",\"2017-10-26\",\"2017-10-27\",\"2017-10-30\",\"2017-10-31\",\"2017-11-01\",\"2017-11-02\",\"2017-11-03\",\"2017-11-06\",\"2017-11-07\",\"2017-11-08\",\"2017-11-09\",\"2017-11-10\",\"2017-11-13\",\"2017-11-14\",\"2017-11-15\",\"2017-11-16\",\"2017-11-17\",\"2017-11-20\",\"2017-11-21\",\"2017-11-22\",\"2017-11-24\",\"2017-11-27\",\"2017-11-28\",\"2017-11-29\",\"2017-11-30\",\"2017-12-01\",\"2017-12-04\",\"2017-12-05\",\"2017-12-06\",\"2017-12-07\",\"2017-12-08\",\"2017-12-11\",\"2017-12-12\",\"2017-12-13\",\"2017-12-14\",\"2017-12-15\",\"2017-12-18\",\"2017-12-19\",\"2017-12-20\",\"2017-12-21\",\"2017-12-22\",\"2017-12-26\",\"2017-12-27\",\"2017-12-28\",\"2017-12-29\",\"2018-01-02\",\"2018-01-03\",\"2018-01-04\",\"2018-01-05\",\"2018-01-08\",\"2018-01-09\",\"2018-01-10\",\"2018-01-11\",\"2018-01-12\",\"2018-01-16\",\"2018-01-17\",\"2018-01-18\",\"2018-01-19\",\"2018-01-22\",\"2018-01-23\",\"2018-01-24\",\"2018-01-25\",\"2018-01-26\",\"2018-01-29\",\"2018-01-30\",\"2018-01-31\",\"2018-02-01\",\"2018-02-02\",\"2018-02-05\",\"2018-02-06\",\"2018-02-07\",\"2018-02-08\",\"2018-02-09\",\"2018-02-12\",\"2018-02-13\",\"2018-02-14\",\"2018-02-15\",\"2018-02-16\",\"2018-02-20\",\"2018-02-21\",\"2018-02-22\",\"2018-02-23\",\"2018-02-26\",\"2018-02-27\",\"2018-02-28\",\"2018-03-01\",\"2018-03-02\",\"2018-03-05\",\"2018-03-06\",\"2018-03-07\",\"2018-03-08\",\"2018-03-09\",\"2018-03-12\",\"2018-03-13\",\"2018-03-14\",\"2018-03-15\",\"2018-03-16\",\"2018-03-19\",\"2018-03-20\",\"2018-03-21\",\"2018-03-22\",\"2018-03-23\",\"2018-03-26\",\"2018-03-27\",\"2018-03-28\",\"2018-03-29\",\"2018-04-02\",\"2018-04-03\",\"2018-04-04\",\"2018-04-05\",\"2018-04-06\",\"2018-04-09\",\"2018-04-10\",\"2018-04-11\",\"2018-04-12\",\"2018-04-13\",\"2018-04-16\",\"2018-04-17\",\"2018-04-18\",\"2018-04-19\",\"2018-04-20\",\"2018-04-23\",\"2018-04-24\",\"2018-04-25\",\"2018-04-26\",\"2018-04-27\",\"2018-04-30\",\"2018-05-01\",\"2018-05-02\",\"2018-05-03\",\"2018-05-04\",\"2018-05-07\",\"2018-05-08\",\"2018-05-09\",\"2018-05-10\",\"2018-05-11\",\"2018-05-14\",\"2018-05-15\",\"2018-05-16\",\"2018-05-17\",\"2018-05-18\",\"2018-05-21\",\"2018-05-22\",\"2018-05-23\",\"2018-05-24\",\"2018-05-25\",\"2018-05-29\",\"2018-05-30\",\"2018-05-31\",\"2018-06-01\",\"2018-06-04\",\"2018-06-05\",\"2018-06-06\",\"2018-06-07\",\"2018-06-08\",\"2018-06-11\",\"2018-06-12\",\"2018-06-13\",\"2018-06-14\",\"2018-06-15\",\"2018-06-18\",\"2018-06-19\",\"2018-06-20\",\"2018-06-21\",\"2018-06-22\",\"2018-06-25\",\"2018-06-26\",\"2018-06-27\",\"2018-06-28\",\"2018-06-29\",\"2018-07-02\",\"2018-07-03\",\"2018-07-05\",\"2018-07-06\",\"2018-07-09\",\"2018-07-10\",\"2018-07-11\",\"2018-07-12\",\"2018-07-13\",\"2018-07-16\",\"2018-07-17\",\"2018-07-18\",\"2018-07-19\",\"2018-07-20\",\"2018-07-23\",\"2018-07-24\",\"2018-07-25\",\"2018-07-26\",\"2018-07-27\",\"2018-07-30\",\"2018-07-31\",\"2018-08-01\",\"2018-08-02\",\"2018-08-03\",\"2018-08-06\",\"2018-08-07\",\"2018-08-08\",\"2018-08-09\",\"2018-08-10\",\"2018-08-13\",\"2018-08-14\",\"2018-08-15\",\"2018-08-16\",\"2018-08-17\",\"2018-08-20\",\"2018-08-21\",\"2018-08-22\",\"2018-08-23\",\"2018-08-24\",\"2018-08-27\",\"2018-08-28\",\"2018-08-29\",\"2018-08-30\",\"2018-08-31\",\"2018-09-04\",\"2018-09-05\",\"2018-09-06\",\"2018-09-07\",\"2018-09-10\",\"2018-09-11\",\"2018-09-12\",\"2018-09-13\",\"2018-09-14\",\"2018-09-17\",\"2018-09-18\",\"2018-09-19\",\"2018-09-20\",\"2018-09-21\",\"2018-09-24\",\"2018-09-25\",\"2018-09-26\",\"2018-09-27\",\"2018-09-28\",\"2018-10-01\",\"2018-10-02\",\"2018-10-03\",\"2018-10-04\",\"2018-10-05\",\"2018-10-08\",\"2018-10-09\",\"2018-10-10\",\"2018-10-11\",\"2018-10-12\",\"2018-10-15\",\"2018-10-16\",\"2018-10-17\",\"2018-10-18\",\"2018-10-19\",\"2018-10-22\",\"2018-10-23\",\"2018-10-24\",\"2018-10-25\",\"2018-10-26\",\"2018-10-29\",\"2018-10-30\",\"2018-10-31\",\"2018-11-01\",\"2018-11-02\",\"2018-11-05\",\"2018-11-06\",\"2018-11-07\",\"2018-11-08\",\"2018-11-09\",\"2018-11-12\",\"2018-11-13\",\"2018-11-14\",\"2018-11-15\",\"2018-11-16\",\"2018-11-19\",\"2018-11-20\",\"2018-11-21\",\"2018-11-23\",\"2018-11-26\",\"2018-11-27\",\"2018-11-28\",\"2018-11-29\",\"2018-11-30\",\"2018-12-03\",\"2018-12-04\",\"2018-12-06\",\"2018-12-07\",\"2018-12-10\",\"2018-12-11\",\"2018-12-12\",\"2018-12-13\",\"2018-12-14\",\"2018-12-17\",\"2018-12-18\",\"2018-12-19\",\"2018-12-20\",\"2018-12-21\",\"2018-12-24\",\"2018-12-26\",\"2018-12-27\",\"2018-12-28\",\"2018-12-31\",\"2019-01-02\",\"2019-01-03\",\"2019-01-04\",\"2019-01-07\",\"2019-01-08\",\"2019-01-09\",\"2019-01-10\",\"2019-01-11\",\"2019-01-14\",\"2019-01-15\",\"2019-01-16\",\"2019-01-17\",\"2019-01-18\",\"2019-01-22\",\"2019-01-23\",\"2019-01-24\",\"2019-01-25\",\"2019-01-28\",\"2019-01-29\",\"2019-01-30\",\"2019-01-31\",\"2019-02-01\",\"2019-02-04\",\"2019-02-05\",\"2019-02-06\",\"2019-02-07\",\"2019-02-08\",\"2019-02-11\",\"2019-02-12\",\"2019-02-13\",\"2019-02-14\",\"2019-02-15\",\"2019-02-19\",\"2019-02-20\",\"2019-02-21\",\"2019-02-22\",\"2019-02-25\",\"2019-02-26\",\"2019-02-27\",\"2019-02-28\",\"2019-03-01\",\"2019-03-04\",\"2019-03-05\",\"2019-03-06\",\"2019-03-07\",\"2019-03-08\",\"2019-03-11\",\"2019-03-12\",\"2019-03-13\",\"2019-03-14\",\"2019-03-15\",\"2019-03-18\",\"2019-03-19\",\"2019-03-20\",\"2019-03-21\",\"2019-03-22\",\"2019-03-25\",\"2019-03-26\",\"2019-03-27\",\"2019-03-28\",\"2019-03-29\",\"2019-04-01\",\"2019-04-02\",\"2019-04-03\",\"2019-04-04\",\"2019-04-05\",\"2019-04-08\",\"2019-04-09\",\"2019-04-10\",\"2019-04-11\",\"2019-04-12\",\"2019-04-15\",\"2019-04-16\",\"2019-04-17\",\"2019-04-18\",\"2019-04-22\",\"2019-04-23\",\"2019-04-24\",\"2019-04-25\",\"2019-04-26\",\"2019-04-29\",\"2019-04-30\",\"2019-05-01\",\"2019-05-02\",\"2019-05-03\",\"2019-05-06\",\"2019-05-07\",\"2019-05-08\",\"2019-05-09\",\"2019-05-10\",\"2019-05-13\",\"2019-05-14\",\"2019-05-15\",\"2019-05-16\",\"2019-05-17\",\"2019-05-20\",\"2019-05-21\",\"2019-05-22\",\"2019-05-23\",\"2019-05-24\",\"2019-05-28\",\"2019-05-29\",\"2019-05-30\",\"2019-05-31\",\"2019-06-03\",\"2019-06-04\",\"2019-06-05\",\"2019-06-06\",\"2019-06-07\",\"2019-06-10\",\"2019-06-11\",\"2019-06-12\",\"2019-06-13\",\"2019-06-14\",\"2019-06-17\",\"2019-06-18\",\"2019-06-19\",\"2019-06-20\",\"2019-06-21\",\"2019-06-24\",\"2019-06-25\",\"2019-06-26\",\"2019-06-27\",\"2019-06-28\",\"2019-07-01\",\"2019-07-02\",\"2019-07-03\",\"2019-07-05\",\"2019-07-08\",\"2019-07-09\",\"2019-07-10\",\"2019-07-11\",\"2019-07-12\",\"2019-07-15\",\"2019-07-16\",\"2019-07-17\",\"2019-07-18\",\"2019-07-19\",\"2019-07-22\",\"2019-07-23\",\"2019-07-24\",\"2019-07-25\",\"2019-07-26\",\"2019-07-29\",\"2019-07-30\",\"2019-07-31\",\"2019-08-01\",\"2019-08-02\",\"2019-08-05\",\"2019-08-06\",\"2019-08-07\",\"2019-08-08\",\"2019-08-09\",\"2019-08-12\",\"2019-08-13\",\"2019-08-14\",\"2019-08-15\",\"2019-08-16\",\"2019-08-19\",\"2019-08-20\",\"2019-08-21\",\"2019-08-22\",\"2019-08-23\",\"2019-08-26\",\"2019-08-27\",\"2019-08-28\",\"2019-08-29\",\"2019-08-30\",\"2019-09-03\",\"2019-09-04\",\"2019-09-05\",\"2019-09-06\",\"2019-09-09\",\"2019-09-10\",\"2019-09-11\",\"2019-09-12\",\"2019-09-13\",\"2019-09-16\",\"2019-09-17\",\"2019-09-18\",\"2019-09-19\",\"2019-09-20\",\"2019-09-23\",\"2019-09-24\",\"2019-09-25\",\"2019-09-26\",\"2019-09-27\",\"2019-09-30\",\"2019-10-01\",\"2019-10-02\",\"2019-10-03\",\"2019-10-04\",\"2019-10-07\",\"2019-10-08\",\"2019-10-09\",\"2019-10-10\",\"2019-10-11\",\"2019-10-14\",\"2019-10-15\",\"2019-10-16\",\"2019-10-17\",\"2019-10-18\",\"2019-10-21\",\"2019-10-22\",\"2019-10-23\",\"2019-10-24\",\"2019-10-25\",\"2019-10-28\",\"2019-10-29\",\"2019-10-30\",\"2019-10-31\",\"2019-11-01\",\"2019-11-04\",\"2019-11-05\",\"2019-11-06\",\"2019-11-07\",\"2019-11-08\",\"2019-11-11\",\"2019-11-12\",\"2019-11-13\",\"2019-11-14\",\"2019-11-15\",\"2019-11-18\",\"2019-11-19\",\"2019-11-20\",\"2019-11-21\",\"2019-11-22\",\"2019-11-25\",\"2019-11-26\",\"2019-11-27\",\"2019-11-29\",\"2019-12-02\",\"2019-12-03\",\"2019-12-04\",\"2019-12-05\",\"2019-12-06\",\"2019-12-09\",\"2019-12-10\",\"2019-12-11\",\"2019-12-12\",\"2019-12-13\",\"2019-12-16\",\"2019-12-17\",\"2019-12-18\",\"2019-12-19\",\"2019-12-20\",\"2019-12-23\",\"2019-12-24\",\"2019-12-26\",\"2019-12-27\",\"2019-12-30\",\"2019-12-31\",\"2020-01-02\",\"2020-01-03\",\"2020-01-06\",\"2020-01-07\",\"2020-01-08\",\"2020-01-09\",\"2020-01-10\",\"2020-01-13\",\"2020-01-14\",\"2020-01-15\",\"2020-01-16\",\"2020-01-17\",\"2020-01-21\",\"2020-01-22\",\"2020-01-23\",\"2020-01-24\",\"2020-01-27\",\"2020-01-28\",\"2020-01-29\",\"2020-01-30\",\"2020-01-31\",\"2020-02-03\",\"2020-02-04\",\"2020-02-05\",\"2020-02-06\",\"2020-02-07\",\"2020-02-10\",\"2020-02-11\",\"2020-02-12\",\"2020-02-13\",\"2020-02-14\",\"2020-02-18\",\"2020-02-19\",\"2020-02-20\",\"2020-02-21\",\"2020-02-24\",\"2020-02-25\",\"2020-02-26\",\"2020-02-27\",\"2020-02-28\",\"2020-03-02\",\"2020-03-03\",\"2020-03-04\",\"2020-03-05\",\"2020-03-06\",\"2020-03-09\",\"2020-03-10\",\"2020-03-11\",\"2020-03-12\",\"2020-03-13\",\"2020-03-16\",\"2020-03-17\",\"2020-03-18\",\"2020-03-19\",\"2020-03-20\",\"2020-03-23\",\"2020-03-24\",\"2020-03-25\",\"2020-03-26\",\"2020-03-27\",\"2020-03-30\",\"2020-03-31\",\"2020-04-01\",\"2020-04-02\",\"2020-04-03\",\"2020-04-06\",\"2020-04-07\",\"2020-04-08\",\"2020-04-09\",\"2020-04-13\",\"2020-04-14\",\"2020-04-15\",\"2020-04-16\",\"2020-04-17\",\"2020-04-20\",\"2020-04-21\",\"2020-04-22\",\"2020-04-23\",\"2020-04-24\",\"2020-04-27\",\"2020-04-28\",\"2020-04-29\",\"2020-04-30\",\"2020-05-01\",\"2020-05-04\",\"2020-05-05\",\"2020-05-06\",\"2020-05-07\",\"2020-05-08\",\"2020-05-11\",\"2020-05-12\",\"2020-05-13\",\"2020-05-14\",\"2020-05-15\",\"2020-05-18\",\"2020-05-19\",\"2020-05-20\",\"2020-05-21\",\"2020-05-22\",\"2020-05-26\",\"2020-05-27\",\"2020-05-28\",\"2020-05-29\",\"2020-06-01\",\"2020-06-02\",\"2020-06-03\",\"2020-06-04\",\"2020-06-05\",\"2020-06-08\",\"2020-06-09\",\"2020-06-10\",\"2020-06-11\",\"2020-06-12\",\"2020-06-15\",\"2020-06-16\",\"2020-06-17\",\"2020-06-18\",\"2020-06-19\",\"2020-06-22\",\"2020-06-23\",\"2020-06-24\",\"2020-06-25\",\"2020-06-26\",\"2020-06-29\",\"2020-06-30\",\"2020-07-01\",\"2020-07-02\",\"2020-07-06\",\"2020-07-07\",\"2020-07-08\",\"2020-07-09\",\"2020-07-10\",\"2020-07-13\",\"2020-07-14\",\"2020-07-15\",\"2020-07-16\",\"2020-07-17\",\"2020-07-20\",\"2020-07-21\",\"2020-07-22\",\"2020-07-23\",\"2020-07-24\",\"2020-07-27\",\"2020-07-28\",\"2020-07-29\",\"2020-07-30\",\"2020-07-31\",\"2020-08-03\",\"2020-08-04\",\"2020-08-05\",\"2020-08-06\",\"2020-08-07\",\"2020-08-10\",\"2020-08-11\",\"2020-08-12\",\"2020-08-13\",\"2020-08-14\",\"2020-08-17\",\"2020-08-18\",\"2020-08-19\",\"2020-08-20\",\"2020-08-21\",\"2020-08-24\",\"2020-08-25\",\"2020-08-26\",\"2020-08-27\",\"2020-08-28\",\"2020-08-31\",\"2020-09-01\",\"2020-09-02\",\"2020-09-03\",\"2020-09-04\",\"2020-09-08\",\"2020-09-09\",\"2020-09-10\",\"2020-09-11\",\"2020-09-14\",\"2020-09-15\",\"2020-09-16\",\"2020-09-17\",\"2020-09-18\",\"2020-09-21\",\"2020-09-22\",\"2020-09-23\",\"2020-09-24\",\"2020-09-25\",\"2020-09-28\",\"2020-09-29\",\"2020-09-30\",\"2020-10-01\",\"2020-10-02\",\"2020-10-05\",\"2020-10-06\",\"2020-10-07\",\"2020-10-08\",\"2020-10-09\",\"2020-10-12\",\"2020-10-13\",\"2020-10-14\",\"2020-10-15\",\"2020-10-16\",\"2020-10-19\",\"2020-10-20\",\"2020-10-21\",\"2020-10-22\",\"2020-10-23\",\"2020-10-26\",\"2020-10-27\",\"2020-10-28\",\"2020-10-29\",\"2020-10-30\",\"2020-11-02\",\"2020-11-03\",\"2020-11-04\",\"2020-11-05\",\"2020-11-06\",\"2020-11-09\",\"2020-11-10\",\"2020-11-11\",\"2020-11-12\",\"2020-11-13\",\"2020-11-16\",\"2020-11-17\",\"2020-11-18\",\"2020-11-19\",\"2020-11-20\",\"2020-11-23\",\"2020-11-24\",\"2020-11-25\",\"2020-11-27\",\"2020-11-30\",\"2020-12-01\",\"2020-12-02\"],\"y\":[1285296831.7508698,2545352298.269272,1340477929.8973083,1265944327.5470734,920378770.3227997,841324182.1289062,838698268.4020996,870192004.119873,1448610726.7570496,1087790676.0692596,898378856.678009,1884825405.5252075,1028918321.0372925,1558961080.423355,1264265976.97258,1308637447.89505,795936753.6849976,800915587.4156952,952669682.559967,1036969105.6594849,986691303.5430908,628824707.1647644,549583298.3207703,918305640.2206421,1092951069.6716309,1030760647.2015381,2105197845.966339,974531843.1510925,1972505722.4578857,2063854264.61792,1384224495.6951141,1903439867.3973083,1703370306.2667847,1574659831.1901093,2394580035.305023,3818142186.8286133,2100101262.3443604,2821992691.3146973,1519464252.3880005,1202471228.8951874,839558875.25177,734433445.9724426,842935164.7281647,859997079.1339874,919640134.2315674,950040561.1209869,747226631.0920715,744073459.526062,1960387142.0288086,1363245481.5597534,1868993004.5585632,1699096225.2140045,946657435.5945587,1731847902.8167725,1035162070.7015991,845920577.2781372,1486143467.1382904,1683686736.0687256,2216159687.034607,1019704387.9737854,1152923320.4040527,916887177.4864197,4146024772.3960876,3077878105.052948,2324865500.0,1649003266.330719,1385512170.7229614,2394313179.5597076,1767241282.5965881,1796089788.9232635,2822518364.582062,1247569690.7405853,911468913.4197235,1190916961.7843628,1860254960.220337,1378194855.9150696,1565870479.402542,2114222863.4662628,1456248159.313202,1070514048.1681824,1415042366.437912,2850459851.5319824,1716521088.7145996,2218630016.8418884,4181349853.0578613,2521470380.1345825,2152326725.3780365,3108672336.845398,1867283115.2038574,1535952845.2835083,1338736854.4921875,2407637309.989929,1316384033.870697,2054579713.0966187,1769978614.1967773,1457046716.583252,1343567213.394165,1312189010.1623535,1561430293.7431335,1588585648.3078003,2536807303.237915,2608049659.3666077,3397619207.3135376,2589534864.807129,1899829504.119873,2356357702.407837,3911977363.0828857,3379990714.34021,3352755000.0,6167843179.344177,3775959579.711914,4439180149.139404,4879452386.535645,3913482551.3648987,2499893358.9172363,2421931110.019684,2768981615.3564453,1853092449.9511719,2880976897.491455,2471642088.684082,2492981745.277405,2535285433.8378906,2339740134.6206665,2965725812.7212524,2114876043.9491272,2223410213.4246826,5575805040.57312,5967985222.949982,4440488689.386368,4368095381.732941,3782466882.1105957,3409246837.2688293,2779547210.9031677,1843828049.1333008,3156361005.340576,2092103371.6392517,2067677882.0800781,1704432733.9553833,1609685447.479248,2958379397.1099854,2373532256.011963,1657631999.0844727,2776820633.0566406,1635275626.51062,2760848807.4188232,2653421727.8137207,4266389026.889801,4697863100.43335,3308163274.3759155,2246272556.915283,2720815908.256531,2505485157.169342,2520816724.937439,1562388791.3742065,1644085008.2702637,1117824335.723877,1238902170.501709,1769348251.51062,1879133084.526062,2194535798.4085083,1475314627.456665,1747798986.1679077,1618078137.4206543,1212606210.6323242,1301064311.2182617,1415040434.4863892,1205368049.079895,1449509526.2145996,1083792327.9190063,1340712594.9554443,1409610005.7907104,1486305946.9299316,1120685904.9797058,2788447559.223175,2166669566.139221,1532745841.9799805,2719952095.603943,2058760050.4112244,2767380000.0,2420107581.7070007,1839300623.954773,1692477881.034851,2864683840.6219482,2623959482.7804565,2470712684.196472,2066380498.3978271,1806536111.2976074,1742031841.1712646,1805600797.5463867,3534874220.336914,2898124090.156555,1482330200.466156,1533691788.1965637,2569889381.9503784,2481484682.9605103,1595983638.7939453,1453664192.4285889,1258895556.9076538,1884650373.8212585,1171591500.125885,1776347322.5364685,1780791845.6420898,1701480957.244873,1936955026.7066956,1515230130.0888062,2800301512.527466,1638515024.1279602,2239576464.6720886,1361748327.331543,1880537612.0758057,2715470028.5339355,5922774481.777191,2722364393.5012817,1963831072.0825195,1620320490.764618,1438334028.0647278,1650416817.363739,1401449936.1190796,2392277529.4418335,1752212117.635727,1861169259.8247528,1819406250.0,4327243139.7304535,2546394943.305969,2307713762.971878,1537241771.2554932,1023675764.9002075,1443354667.8771973,1571713683.462143,2696326170.5818176,1343991669.960022,1315902631.7596436,1780872546.710968,1411142088.9949799,2253999693.370819,1487913970.26062,1093028421.9360352,2610887487.9455566,2978283251.968384,2109275137.4053955,1959728295.9594727,2381207624.633789,1855719950.8209229,2259757541.656494,1958681053.138733,1454395448.059082,1370978179.2984009,1389222540.008545,1468478823.1487274,1361188337.7037048,1176031228.6453247,1395010727.0965576,1434445892.2481537,3129304895.3762054,1453482139.4348145,3316800639.6636963,2384748916.923523,1442954500.2708435,2245846603.3172607,1622295201.5151978,2201650491.5885925,2466051031.81839,1959156147.644043,1711002712.2955322,2183328114.074707,1928138429.3060303,1828893412.1131897,2275794887.8860474,1556333283.0734253,1659253820.9877014,1631475048.5534668,2201717755.8288574,1466046692.9740906,1273525000.0,1487125620.7389832,1699372915.3900146,2404374000.0,3251471431.9725037,4014879130.317688,1966303291.1491394,1475954383.491516,1273350077.2132874,1975322591.41922,1893035861.946106,1342226885.7192993,1073092738.9526367,2412735706.413269,2048015776.5197754,1551202825.164795,1683839379.1503906,2082271267.1813965,2278651505.0354004,1706699188.8427734,1274663694.9920654,1406566726.9210815,1663925767.0783997,1173636414.5584106,1801659703.9031982,2855294531.555176,2039348959.121704,2602391718.5440063,2137498970.1538086,1965794252.3231506,2346777175.3787994,1479553379.5394897,1886012344.7265625,1526892172.4624634,2006718501.3198853,2547568274.658203,3872784858.3984375,5413740866.363525,4037378522.9473114,4068462589.6835327,5041442380.882263,5709159146.575928,5845702788.282394,4046625831.260681,2968957027.3361206,3348591984.539032,2251829127.828598,2237595975.982666,2200651277.069092,1845834603.3763885,2013829936.9812012,1923701234.9624634,1827667212.6846313,1633441705.4462433,1386642752.773285,1611555176.1703491,1126577393.7988281,1243550894.6228027,1283541609.2910767,1242667954.1931152,1387309978.8208008,2701435939.468384,4935804792.045593,2520174879.9972534,2627498651.0772705,1790682129.8599243,1757452659.412384,1723851077.7053833,1408840418.1289673,2127527032.6919556,2705166186.279297,1625487560.6918335,1257837544.910431,2007470900.4592896,2612357819.355011,2460184408.859253,1670261832.3421478,1160496088.6268616,1080571643.8694,1607954384.8724365,2184895350.2845764,1685516155.708313,1582948364.9597168,1423699161.7507935,1745382628.1433105,5996152493.183136,4534405769.742966,2606463893.348694,4378240229.301453,7660018393.478394,3264997704.689026,3928123249.6261597,3885535756.668091,4477104778.106689,4499207981.311798,3036743824.234009,2768646877.2354126,3425078836.479187,2308192122.0436096,2548755056.8580627,2870959713.581085,2938712142.562866,2226568461.1206055,6285846180.274963,3818169090.3511047,5403003888.000488,2738552895.889282,2419656755.2490234,3054274761.0855103,1557832531.528473,1811961224.937439,1871703074.9473572,2424578887.895584,2257603848.4573364,1821397075.5996704,1894256448.5969543,1618762665.7600403,3333047246.4523315,2852591646.92688,2184459034.866333,1419942867.3934937,1694906717.496872,1977247410.516739,1513626924.167633,3047328658.9050293,8114570767.021179,4754783788.3758545,2928905069.3855286,11719527632.141113,9099698305.480957,6056430126.457214,4106620455.3222656,3729438477.6535034,2428752091.73584,3082519249.7825623,2034168688.9648438,5791852155.357361,5367565388.101578,4240130999.107361,1912471527.0996094,1647650643.6042786,1162991385.8718872,4175828116.9872284,2385448389.026642,2271531433.09021,2187742643.541336,1621452685.684204,2412877013.2255554,2167537346.054077,2101730708.6334229,5920767622.1523285,4077939141.025543,2562464822.3876953,2909874401.5808105,1835263183.8226318,1997205150.970459,2030739932.5027466,4715375647.974014,2480341033.439636,2192546515.4571533,1510604542.2935486,1451350259.9525452,1348946924.715042,2428097870.361328,2616718500.814438,8909430827.676773,6766300253.540039,3535028285.779953,2356925963.4017944,2765936041.408539,4700561720.237732,3375719679.107666,3169525762.813568,3291994228.8017273,2060138936.1038208,1863578310.6803894,1609457977.2949219,2634907013.7939453,2352391746.416092,1430708932.5332642,2437630000.0,1461398246.5457916,5596837007.801056,5786819626.516342,6561902814.720154,9075097991.847992,4850637188.415527,3010898483.188629,2571828757.335663,2754274540.3060913,2704769189.453125,2673503352.203369,2306554605.8921814,2567506059.5321655,2491671936.7218018,1787180321.0906982,2299580005.607605,1845604337.8601074,1733863276.9088745,1611778989.8757935,2553228704.4067383,3431804894.8516846,2781553246.9711304,1585028903.4423828,1369333165.6951904,2765266478.050232,2186746427.3376465,1435868160.3546143,1051042436.8629456,1972886986.896515,2977797103.881836,3043745533.2946777,2847298030.8532715,4120664365.875244,2414919484.6343994,2313815405.2124023,1842898192.3294067,2775397523.94104,2317723641.845703,2673775007.4005127,2392912937.1643066,2755060447.227478,2861095831.6898346,2563532078.5064697,1642338836.397171,2661905373.664856,2710846437.582016,3318334033.126831,2097405363.067627,3615564930.5992126,2092067423.110962,2349031562.433243,2529349829.864502,2350300464.3058777,1839199671.8177795,2089276407.8063965,1749877953.655243,1754697047.9393005,2086074786.0565186,1623562763.5231018,1276954639.9726868,7299820767.463684,3606977987.93602,3603502797.5082397,2335636347.4235535,2153421218.2922363,1903737685.3637695,1374770895.3990936,3473755221.982956,3858995741.8060303,2273950362.8997803,2300398536.4665985,2166798666.824341,1598312976.1505127,2005149670.1812744,1787156355.5412292,2230455376.285553,1720442842.5292969,1584486842.9718018,1579847058.0596924,1202240616.1708832,1274029741.6534424,2160913813.053131,2594626243.94989,1691812264.541626,1979799458.5895538,2556383389.7590637,3520020790.0981903,3365361607.503891,6754051626.976013,4878742727.996826,5189190012.016296,2855078576.774597,2611701112.46109,2506001104.9728394,2150567846.0655212,2126361809.206009,1977844505.73349,2059701884.5939636,4072370156.7077637,2770626628.818512,3156306451.3893127,1890083562.1643066,1629624367.4087524,2313473490.600586,2660190281.2957764,1968350524.406433,2412787518.585205,1887399708.9233398,1676725221.6567993,2345365412.5976562,1566307896.0514069,2310960094.6655273,6351929017.044067,3585011005.800247,2844121248.2299805,1607718293.1518555,1949342541.5706635,2640152184.9479675,1805904230.8807373,2674082317.0166016,1988119976.1829376,1390460553.5411835,1605757750.553131,3191650478.662491,2888095143.2037354,2774775066.5187836,5410567028.686523,5257894984.352112,4036050207.8819275,2259105324.897766,2504936544.364929,4432685102.291107,6045945265.4953,2766328068.9811707,2503063620.616913,1512229729.8202515,1624024568.927765,1678627992.4736023,2459607971.14563,1684805109.2910767,1692307177.734375,1708661902.7023315,3753527414.9894714,4215260287.92572,3692239707.6072693,3601198730.003357,5189692522.289276,2694860019.1726685,1946044316.5493011,2272358403.3050537,1491925869.9131012,1926904649.8088837,2338135584.274292,2673132084.274292,2656088225.6011963,4168880951.007843,3272715872.0970154,2253334811.3059998,2529974743.309021,3180228940.4392242,1747281114.0727997,1597586371.1013794,2771649535.949707,2857749010.356903,1488799869.9245453,2605461857.328415,1819717973.5832214,1286108930.4275513,1358578285.6235504,1865373747.894287,1412738773.1513977,1531013889.9993896,1865838000.2975464,2079108442.9359436,3335838357.4962616,1647014632.265091,1354514393.3296204,1424255480.1177979,2185090662.1418,1792935885.8642578,2254858486.6523743,2788525391.9620514,2056644690.876007,2488631447.9599,1206495448.3566284,1819755967.9260254,1749464886.291504,1306859936.964035,2932963360.305786,5129755399.158478,2286716793.685913,2186365909.8701477,1964486326.3893127,2217544837.57782,1931484093.9044952,1438027410.9363556,1604701507.4768066,1283939192.451477,1114930584.8121643,1256865685.9760284,916115960.5865479,1068079695.5890656,1139303500.0,2100138201.7860413,1759536076.7669678,1121364063.5490417,1204376597.9766846,931717690.2542114,1721215283.2717896,1457081860.0082397,1805059987.8845215,1086158500.0,1159500147.239685,695385545.4921722,1148346920.4998016,2102820642.7993774,1204726011.5890503,1271337525.7110596,1697812987.5411987,952879065.158844,1113217874.0386963,1150306739.730835,2481575788.05542,2109859634.8342896,1302772144.3214417,1148029967.4930573,946211269.5388794,1015402036.8156433,1182644272.68219,1528658877.4490356,1046986410.900116,2877511604.8431396,2155977849.1153717,2882704381.6566467,2691613859.062195,1416267419.719696,1507926585.5369568,1369162266.532898,3515140959.043503,1850282821.9413757,1917021572.3190308,2083201837.1696472,1685887570.9838867,1537774900.484085,2100966868.4959412,2622276712.7990723,1658954763.534546,1736195000.497818,1249413545.015335,1477411092.453003,1272646069.1509247,1175872489.9749756,1339896969.675064,8906759434.446335,9845901510.585785,6183985995.723724,4011029313.097,3037263365.0360107,1595699669.380188,2000139669.0616608,2789608867.2065735,2202585356.47583,2593339197.124481,4854357965.621948,2046170130.5999756,3446310190.235138,2575274844.2459106,2914280816.139221,2258512903.781891,1693585484.5046997,1540096020.1721191,2777220070.0683594,2368714730.2093506,2168011404.4189453,5618584768.157959,4150267290.6684875,2614058672.180176,1840514813.8580322,813500051.2084961,2034167785.3393555,2210077869.785309,1842655067.6727295,1230496055.3970337,2556929089.4317627,3063613063.144684,3079664072.315216,2432854091.5756226,2792519435.901642,2354944897.1214294,6933457577.316284,3220202084.197998,5551670956.077576,7315992562.431335,5983547313.865662,5583842829.879761,3425261297.9049683,4582573054.222107,4280430186.9239807,5219580233.642578,4302816899.833679,4101281439.086914,7876053051.700592,4575454751.968384,8387777509.483337,15327356020.60318,13689501814.865112,6196584747.028351,13918027552.185059,15597635850.906372,9005722534.973145,11161577870.72754,6957655446.018219,9742075417.32788,17866528042.06848,11244302439.880371,8107200128.601074,7593591708.6753845,6682900488.109589,10342493311.157227,18587142988.77716,10226504876.274109,36842130000.0,54056372709.07593,35576966451.11084,29869125452.819824,12764692309.60846,19042285769.13452,9058310464.09607,9224743577.384949,21136597601.142883,12555430552.375793,14062050680.084229,23323567837.600708,15861005742.668152,12897634581.573486,12667104104.187012,13830843390.655518,10969787013.130188,16484219170.440674,16408640842.575073,15017405801.391602,19222230485.229492,11279225040.740967,7863215516.334534,8908096837.898254,10380809469.738007,10063533704.650879,8449529219.722748,10599496062.705994,12375640502.71988,9119261758.7471,10322477029.838562,8592051555.984497,12912803601.57013,12092899348.869324,7146024945.602417,11562076000.0,11444340813.083649,9179790840.85846,7395159582.4661255,6024606103.122711,9312266271.17157,6430366755.645752,9025046769.226074,2166006699.4125366,1538581062.7716064,1954870916.3757324,1389223779.4189453,1564289979.171753,2926072380.871582,4341190219.955444,3441440462.585449,3078894885.624695,1979443737.9974365,2201254522.003174,2775598511.9873047,2082823623.9257812,1868042617.91687,1919849111.8408203,3303853650.0,2341509006.0424805,2596214113.1591797,4452322035.983276,4563040641.4123535,2928617756.6070557,2610638742.36145,1740958843.1640625,1798413370.941162,2643465351.7181396,2680437184.2041016,2575040845.994568,3016009601.600647,2198264350.2105713,1681197941.7480469,1903584996.3241577,1557277721.2295532,1192234538.0310059,2028381444.3572998,1631717870.7122803,1324882544.5877075,1894649337.6235962,1169327025.7995605,1972687500.0,2683432917.0532227,2388692559.239197,7019090330.7724,7682350440.628052,6918687501.8081665,13464830565.467834,10712538246.917725,19028412660.14099,15484207315.979004,15678472731.536865,15554354905.151367,13800006482.803345,9809596616.516113,9790517887.077332,8687511412.139893,6326261517.51709,6376630323.356628,10530531559.661865,9124751870.46051,8498401639.526367,9110796619.628906,18268765960.006714,14921196705.368042,20849505402.74048,28213264421.279907,29867672815.582275,22279278025.863647,16337614598.510742,36048422985.35156,58363480449.34082,35520572364.80713,25304782138.33618,21460351848.632812,14002837165.83252,28130460722.503662,25340462791.3208,22549144605.010986,36810725158.081055,27484981608.062744,24708579597.488403,23341387791.0614,14131959633.224487,11336160750.427246,17522518213.34839,13081810500.0,12513104743.19458,7392429505.310059,8926009787.79602,12923888896.484375,10670908706.970215,11855212861.877441,34047377833.55713,33109412546.661377,20761969988.52539,37157574633.02612,31088864144.66858,22928021821.624756,41261319317.230225,44053250444.0918,40412102752.62451,21566578686.965942,30659849089.20288,53042703750.0,44447727344.60449,58988331875.0,42811219869.90967,43026301387.39014,35651612700.0,46149858016.02173,38127927810.354614,29106733126.99585,31538128692.974854,22630626674.118042,34837103766.62598,43760839382.177734,31930104273.85254,32510616093.652344,38204766092.614746,49197780755.66406,33760563658.30078,36162421319.31152,37445429794.107056,27376710143.875122,20941896126.92871,21045402418.81714,20654944326.171875,22740310825.820923,29649878438.415527,19037601176.44043,20345585813.937378,18342210283.53882,17216155454.763794,12553753800.0,17157303056.47583,15393211394.650269,22163342433.5083,16012627086.18164,14410580393.10608,15633872386.73706,13357059299.285889,13681068594.177246,17028704969.73877,14182381874.63379,11868370941.52832,9634502653.839111,10333777148.382568,9307476594.79065,16496085215.255737,11623241044.40918,14561685420.333862,13531602591.134644,12448108200.942993,9332494964.96582,14673749920.166016,12427423868.38379,7240417485.754395,8175536169.897461,8076494350.0,10952564175.714111,27021364266.68701,37979333303.22266,31192042344.625854,16062781672.424316,26228336327.941895,29795304191.955566,28085934800.0,22001790302.807617,35760558021.83838,23450923051.635742,11311680896.671875],\"type\":\"scatter\"}],                        {\"template\":{\"data\":{\"histogram2dcontour\":[{\"type\":\"histogram2dcontour\",\"colorbar\":{\"outlinewidth\":0,\"ticks\":\"\"},\"colorscale\":[[0.0,\"#0d0887\"],[0.1111111111111111,\"#46039f\"],[0.2222222222222222,\"#7201a8\"],[0.3333333333333333,\"#9c179e\"],[0.4444444444444444,\"#bd3786\"],[0.5555555555555556,\"#d8576b\"],[0.6666666666666666,\"#ed7953\"],[0.7777777777777778,\"#fb9f3a\"],[0.8888888888888888,\"#fdca26\"],[1.0,\"#f0f921\"]]}],\"choropleth\":[{\"type\":\"choropleth\",\"colorbar\":{\"outlinewidth\":0,\"ticks\":\"\"}}],\"histogram2d\":[{\"type\":\"histogram2d\",\"colorbar\":{\"outlinewidth\":0,\"ticks\":\"\"},\"colorscale\":[[0.0,\"#0d0887\"],[0.1111111111111111,\"#46039f\"],[0.2222222222222222,\"#7201a8\"],[0.3333333333333333,\"#9c179e\"],[0.4444444444444444,\"#bd3786\"],[0.5555555555555556,\"#d8576b\"],[0.6666666666666666,\"#ed7953\"],[0.7777777777777778,\"#fb9f3a\"],[0.8888888888888888,\"#fdca26\"],[1.0,\"#f0f921\"]]}],\"heatmap\":[{\"type\":\"heatmap\",\"colorbar\":{\"outlinewidth\":0,\"ticks\":\"\"},\"colorscale\":[[0.0,\"#0d0887\"],[0.1111111111111111,\"#46039f\"],[0.2222222222222222,\"#7201a8\"],[0.3333333333333333,\"#9c179e\"],[0.4444444444444444,\"#bd3786\"],[0.5555555555555556,\"#d8576b\"],[0.6666666666666666,\"#ed7953\"],[0.7777777777777778,\"#fb9f3a\"],[0.8888888888888888,\"#fdca26\"],[1.0,\"#f0f921\"]]}],\"heatmapgl\":[{\"type\":\"heatmapgl\",\"colorbar\":{\"outlinewidth\":0,\"ticks\":\"\"},\"colorscale\":[[0.0,\"#0d0887\"],[0.1111111111111111,\"#46039f\"],[0.2222222222222222,\"#7201a8\"],[0.3333333333333333,\"#9c179e\"],[0.4444444444444444,\"#bd3786\"],[0.5555555555555556,\"#d8576b\"],[0.6666666666666666,\"#ed7953\"],[0.7777777777777778,\"#fb9f3a\"],[0.8888888888888888,\"#fdca26\"],[1.0,\"#f0f921\"]]}],\"contourcarpet\":[{\"type\":\"contourcarpet\",\"colorbar\":{\"outlinewidth\":0,\"ticks\":\"\"}}],\"contour\":[{\"type\":\"contour\",\"colorbar\":{\"outlinewidth\":0,\"ticks\":\"\"},\"colorscale\":[[0.0,\"#0d0887\"],[0.1111111111111111,\"#46039f\"],[0.2222222222222222,\"#7201a8\"],[0.3333333333333333,\"#9c179e\"],[0.4444444444444444,\"#bd3786\"],[0.5555555555555556,\"#d8576b\"],[0.6666666666666666,\"#ed7953\"],[0.7777777777777778,\"#fb9f3a\"],[0.8888888888888888,\"#fdca26\"],[1.0,\"#f0f921\"]]}],\"surface\":[{\"type\":\"surface\",\"colorbar\":{\"outlinewidth\":0,\"ticks\":\"\"},\"colorscale\":[[0.0,\"#0d0887\"],[0.1111111111111111,\"#46039f\"],[0.2222222222222222,\"#7201a8\"],[0.3333333333333333,\"#9c179e\"],[0.4444444444444444,\"#bd3786\"],[0.5555555555555556,\"#d8576b\"],[0.6666666666666666,\"#ed7953\"],[0.7777777777777778,\"#fb9f3a\"],[0.8888888888888888,\"#fdca26\"],[1.0,\"#f0f921\"]]}],\"mesh3d\":[{\"type\":\"mesh3d\",\"colorbar\":{\"outlinewidth\":0,\"ticks\":\"\"}}],\"scatter\":[{\"fillpattern\":{\"fillmode\":\"overlay\",\"size\":10,\"solidity\":0.2},\"type\":\"scatter\"}],\"parcoords\":[{\"type\":\"parcoords\",\"line\":{\"colorbar\":{\"outlinewidth\":0,\"ticks\":\"\"}}}],\"scatterpolargl\":[{\"type\":\"scatterpolargl\",\"marker\":{\"colorbar\":{\"outlinewidth\":0,\"ticks\":\"\"}}}],\"bar\":[{\"error_x\":{\"color\":\"#2a3f5f\"},\"error_y\":{\"color\":\"#2a3f5f\"},\"marker\":{\"line\":{\"color\":\"#E5ECF6\",\"width\":0.5},\"pattern\":{\"fillmode\":\"overlay\",\"size\":10,\"solidity\":0.2}},\"type\":\"bar\"}],\"scattergeo\":[{\"type\":\"scattergeo\",\"marker\":{\"colorbar\":{\"outlinewidth\":0,\"ticks\":\"\"}}}],\"scatterpolar\":[{\"type\":\"scatterpolar\",\"marker\":{\"colorbar\":{\"outlinewidth\":0,\"ticks\":\"\"}}}],\"histogram\":[{\"marker\":{\"pattern\":{\"fillmode\":\"overlay\",\"size\":10,\"solidity\":0.2}},\"type\":\"histogram\"}],\"scattergl\":[{\"type\":\"scattergl\",\"marker\":{\"colorbar\":{\"outlinewidth\":0,\"ticks\":\"\"}}}],\"scatter3d\":[{\"type\":\"scatter3d\",\"line\":{\"colorbar\":{\"outlinewidth\":0,\"ticks\":\"\"}},\"marker\":{\"colorbar\":{\"outlinewidth\":0,\"ticks\":\"\"}}}],\"scattermapbox\":[{\"type\":\"scattermapbox\",\"marker\":{\"colorbar\":{\"outlinewidth\":0,\"ticks\":\"\"}}}],\"scatterternary\":[{\"type\":\"scatterternary\",\"marker\":{\"colorbar\":{\"outlinewidth\":0,\"ticks\":\"\"}}}],\"scattercarpet\":[{\"type\":\"scattercarpet\",\"marker\":{\"colorbar\":{\"outlinewidth\":0,\"ticks\":\"\"}}}],\"carpet\":[{\"aaxis\":{\"endlinecolor\":\"#2a3f5f\",\"gridcolor\":\"white\",\"linecolor\":\"white\",\"minorgridcolor\":\"white\",\"startlinecolor\":\"#2a3f5f\"},\"baxis\":{\"endlinecolor\":\"#2a3f5f\",\"gridcolor\":\"white\",\"linecolor\":\"white\",\"minorgridcolor\":\"white\",\"startlinecolor\":\"#2a3f5f\"},\"type\":\"carpet\"}],\"table\":[{\"cells\":{\"fill\":{\"color\":\"#EBF0F8\"},\"line\":{\"color\":\"white\"}},\"header\":{\"fill\":{\"color\":\"#C8D4E3\"},\"line\":{\"color\":\"white\"}},\"type\":\"table\"}],\"barpolar\":[{\"marker\":{\"line\":{\"color\":\"#E5ECF6\",\"width\":0.5},\"pattern\":{\"fillmode\":\"overlay\",\"size\":10,\"solidity\":0.2}},\"type\":\"barpolar\"}],\"pie\":[{\"automargin\":true,\"type\":\"pie\"}]},\"layout\":{\"autotypenumbers\":\"strict\",\"colorway\":[\"#636efa\",\"#EF553B\",\"#00cc96\",\"#ab63fa\",\"#FFA15A\",\"#19d3f3\",\"#FF6692\",\"#B6E880\",\"#FF97FF\",\"#FECB52\"],\"font\":{\"color\":\"#2a3f5f\"},\"hovermode\":\"closest\",\"hoverlabel\":{\"align\":\"left\"},\"paper_bgcolor\":\"white\",\"plot_bgcolor\":\"#E5ECF6\",\"polar\":{\"bgcolor\":\"#E5ECF6\",\"angularaxis\":{\"gridcolor\":\"white\",\"linecolor\":\"white\",\"ticks\":\"\"},\"radialaxis\":{\"gridcolor\":\"white\",\"linecolor\":\"white\",\"ticks\":\"\"}},\"ternary\":{\"bgcolor\":\"#E5ECF6\",\"aaxis\":{\"gridcolor\":\"white\",\"linecolor\":\"white\",\"ticks\":\"\"},\"baxis\":{\"gridcolor\":\"white\",\"linecolor\":\"white\",\"ticks\":\"\"},\"caxis\":{\"gridcolor\":\"white\",\"linecolor\":\"white\",\"ticks\":\"\"}},\"coloraxis\":{\"colorbar\":{\"outlinewidth\":0,\"ticks\":\"\"}},\"colorscale\":{\"sequential\":[[0.0,\"#0d0887\"],[0.1111111111111111,\"#46039f\"],[0.2222222222222222,\"#7201a8\"],[0.3333333333333333,\"#9c179e\"],[0.4444444444444444,\"#bd3786\"],[0.5555555555555556,\"#d8576b\"],[0.6666666666666666,\"#ed7953\"],[0.7777777777777778,\"#fb9f3a\"],[0.8888888888888888,\"#fdca26\"],[1.0,\"#f0f921\"]],\"sequentialminus\":[[0.0,\"#0d0887\"],[0.1111111111111111,\"#46039f\"],[0.2222222222222222,\"#7201a8\"],[0.3333333333333333,\"#9c179e\"],[0.4444444444444444,\"#bd3786\"],[0.5555555555555556,\"#d8576b\"],[0.6666666666666666,\"#ed7953\"],[0.7777777777777778,\"#fb9f3a\"],[0.8888888888888888,\"#fdca26\"],[1.0,\"#f0f921\"]],\"diverging\":[[0,\"#8e0152\"],[0.1,\"#c51b7d\"],[0.2,\"#de77ae\"],[0.3,\"#f1b6da\"],[0.4,\"#fde0ef\"],[0.5,\"#f7f7f7\"],[0.6,\"#e6f5d0\"],[0.7,\"#b8e186\"],[0.8,\"#7fbc41\"],[0.9,\"#4d9221\"],[1,\"#276419\"]]},\"xaxis\":{\"gridcolor\":\"white\",\"linecolor\":\"white\",\"ticks\":\"\",\"title\":{\"standoff\":15},\"zerolinecolor\":\"white\",\"automargin\":true,\"zerolinewidth\":2},\"yaxis\":{\"gridcolor\":\"white\",\"linecolor\":\"white\",\"ticks\":\"\",\"title\":{\"standoff\":15},\"zerolinecolor\":\"white\",\"automargin\":true,\"zerolinewidth\":2},\"scene\":{\"xaxis\":{\"backgroundcolor\":\"#E5ECF6\",\"gridcolor\":\"white\",\"linecolor\":\"white\",\"showbackground\":true,\"ticks\":\"\",\"zerolinecolor\":\"white\",\"gridwidth\":2},\"yaxis\":{\"backgroundcolor\":\"#E5ECF6\",\"gridcolor\":\"white\",\"linecolor\":\"white\",\"showbackground\":true,\"ticks\":\"\",\"zerolinecolor\":\"white\",\"gridwidth\":2},\"zaxis\":{\"backgroundcolor\":\"#E5ECF6\",\"gridcolor\":\"white\",\"linecolor\":\"white\",\"showbackground\":true,\"ticks\":\"\",\"zerolinecolor\":\"white\",\"gridwidth\":2}},\"shapedefaults\":{\"line\":{\"color\":\"#2a3f5f\"}},\"annotationdefaults\":{\"arrowcolor\":\"#2a3f5f\",\"arrowhead\":0,\"arrowwidth\":1},\"geo\":{\"bgcolor\":\"white\",\"landcolor\":\"#E5ECF6\",\"subunitcolor\":\"white\",\"showland\":true,\"showlakes\":true,\"lakecolor\":\"white\"},\"title\":{\"x\":0.05},\"mapbox\":{\"style\":\"light\"}}},\"title\":{\"text\":\"Stocks over timme span\"},\"xaxis\":{\"title\":{\"text\":\"Date\"}},\"yaxis\":{\"title\":{\"text\":\"Close\"}}},                        {\"responsive\": true}                    ).then(function(){\n",
              "                            \n",
              "var gd = document.getElementById('57423113-fada-4120-9648-233967c14098');\n",
              "var x = new MutationObserver(function (mutations, observer) {{\n",
              "        var display = window.getComputedStyle(gd).display;\n",
              "        if (!display || display === 'none') {{\n",
              "            console.log([gd, 'removed!']);\n",
              "            Plotly.purge(gd);\n",
              "            observer.disconnect();\n",
              "        }}\n",
              "}});\n",
              "\n",
              "// Listen for the removal of the full notebook cells\n",
              "var notebookContainer = gd.closest('#notebook-container');\n",
              "if (notebookContainer) {{\n",
              "    x.observe(notebookContainer, {childList: true});\n",
              "}}\n",
              "\n",
              "// Listen for the clearing of the current output cell\n",
              "var outputEl = gd.closest('.output');\n",
              "if (outputEl) {{\n",
              "    x.observe(outputEl, {childList: true});\n",
              "}}\n",
              "\n",
              "                        })                };                            </script>        </div>\n",
              "</body>\n",
              "</html>"
            ]
          },
          "metadata": {}
        }
      ]
    },
    {
      "cell_type": "code",
      "source": [
        "import plotly.express as px\n",
        "import plotly.graph_objects as go\n",
        "\n",
        "pandas_df = dataset.toPandas()\n",
        "pandas_df2 = dataset2.toPandas()\n",
        "\n",
        "fig = go.Figure()\n",
        "\n",
        "fig.add_trace(go.Scatter(x=pandas_df['Date'], y=pandas_df['trading_value'], mode='lines', name='Dataset 1'))\n",
        "\n",
        "fig.add_trace(go.Scatter(x=pandas_df2['Date'], y=pandas_df2['trading_value'], mode='lines', name='Dataset 2'))\n",
        "\n",
        "fig.update_layout(title='Time Series Plot', xaxis_title='Date', yaxis_title='Close')\n",
        "fig.show()"
      ],
      "metadata": {
        "id": "Hami0Xruz3wO",
        "colab": {
          "base_uri": "https://localhost:8080/",
          "height": 542
        },
        "outputId": "2f728d97-e7ce-4083-d3c9-da9ebc0c62d1"
      },
      "execution_count": 45,
      "outputs": [
        {
          "output_type": "display_data",
          "data": {
            "text/html": [
              "<html>\n",
              "<head><meta charset=\"utf-8\" /></head>\n",
              "<body>\n",
              "    <div>            <script src=\"https://cdnjs.cloudflare.com/ajax/libs/mathjax/2.7.5/MathJax.js?config=TeX-AMS-MML_SVG\"></script><script type=\"text/javascript\">if (window.MathJax && window.MathJax.Hub && window.MathJax.Hub.Config) {window.MathJax.Hub.Config({SVG: {font: \"STIX-Web\"}});}</script>                <script type=\"text/javascript\">window.PlotlyConfig = {MathJaxConfig: 'local'};</script>\n",
              "        <script charset=\"utf-8\" src=\"https://cdn.plot.ly/plotly-2.35.2.min.js\"></script>                <div id=\"c3c938a8-1985-41a2-8c1f-2f91634f2339\" class=\"plotly-graph-div\" style=\"height:525px; width:100%;\"></div>            <script type=\"text/javascript\">                                    window.PLOTLYENV=window.PLOTLYENV || {};                                    if (document.getElementById(\"c3c938a8-1985-41a2-8c1f-2f91634f2339\")) {                    Plotly.newPlot(                        \"c3c938a8-1985-41a2-8c1f-2f91634f2339\",                        [{\"mode\":\"lines\",\"name\":\"Dataset 1\",\"x\":[\"2017-01-03\",\"2017-01-04\",\"2017-01-05\",\"2017-01-06\",\"2017-01-09\",\"2017-01-10\",\"2017-01-11\",\"2017-01-12\",\"2017-01-13\",\"2017-01-17\",\"2017-01-18\",\"2017-01-19\",\"2017-01-20\",\"2017-01-23\",\"2017-01-24\",\"2017-01-25\",\"2017-01-26\",\"2017-01-27\",\"2017-01-30\",\"2017-01-31\",\"2017-02-01\",\"2017-02-02\",\"2017-02-03\",\"2017-02-06\",\"2017-02-07\",\"2017-02-08\",\"2017-02-09\",\"2017-02-10\",\"2017-02-13\",\"2017-02-14\",\"2017-02-15\",\"2017-02-16\",\"2017-02-17\",\"2017-02-21\",\"2017-02-22\",\"2017-02-23\",\"2017-02-24\",\"2017-02-27\",\"2017-02-28\",\"2017-03-01\",\"2017-03-02\",\"2017-03-03\",\"2017-03-06\",\"2017-03-07\",\"2017-03-08\",\"2017-03-09\",\"2017-03-10\",\"2017-03-13\",\"2017-03-14\",\"2017-03-15\",\"2017-03-16\",\"2017-03-17\",\"2017-03-20\",\"2017-03-21\",\"2017-03-22\",\"2017-03-23\",\"2017-03-24\",\"2017-03-27\",\"2017-03-28\",\"2017-03-29\",\"2017-03-30\",\"2017-03-31\",\"2017-04-03\",\"2017-04-04\",\"2017-04-05\",\"2017-04-06\",\"2017-04-07\",\"2017-04-10\",\"2017-04-11\",\"2017-04-12\",\"2017-04-13\",\"2017-04-17\",\"2017-04-18\",\"2017-04-19\",\"2017-04-20\",\"2017-04-21\",\"2017-04-24\",\"2017-04-25\",\"2017-04-26\",\"2017-04-27\",\"2017-04-28\",\"2017-05-01\",\"2017-05-02\",\"2017-05-03\",\"2017-05-04\",\"2017-05-05\",\"2017-05-08\",\"2017-05-09\",\"2017-05-10\",\"2017-05-11\",\"2017-05-12\",\"2017-05-15\",\"2017-05-16\",\"2017-05-17\",\"2017-05-18\",\"2017-05-19\",\"2017-05-22\",\"2017-05-23\",\"2017-05-24\",\"2017-05-25\",\"2017-05-26\",\"2017-05-30\",\"2017-05-31\",\"2017-06-01\",\"2017-06-02\",\"2017-06-05\",\"2017-06-06\",\"2017-06-07\",\"2017-06-08\",\"2017-06-09\",\"2017-06-12\",\"2017-06-13\",\"2017-06-14\",\"2017-06-15\",\"2017-06-16\",\"2017-06-19\",\"2017-06-20\",\"2017-06-21\",\"2017-06-22\",\"2017-06-23\",\"2017-06-26\",\"2017-06-27\",\"2017-06-28\",\"2017-06-29\",\"2017-06-30\",\"2017-07-03\",\"2017-07-05\",\"2017-07-06\",\"2017-07-07\",\"2017-07-10\",\"2017-07-11\",\"2017-07-12\",\"2017-07-13\",\"2017-07-14\",\"2017-07-17\",\"2017-07-18\",\"2017-07-19\",\"2017-07-20\",\"2017-07-21\",\"2017-07-24\",\"2017-07-25\",\"2017-07-26\",\"2017-07-27\",\"2017-07-28\",\"2017-07-31\",\"2017-08-01\",\"2017-08-02\",\"2017-08-03\",\"2017-08-04\",\"2017-08-07\",\"2017-08-08\",\"2017-08-09\",\"2017-08-10\",\"2017-08-11\",\"2017-08-14\",\"2017-08-15\",\"2017-08-16\",\"2017-08-17\",\"2017-08-18\",\"2017-08-21\",\"2017-08-22\",\"2017-08-23\",\"2017-08-24\",\"2017-08-25\",\"2017-08-28\",\"2017-08-29\",\"2017-08-30\",\"2017-08-31\",\"2017-09-01\",\"2017-09-05\",\"2017-09-06\",\"2017-09-07\",\"2017-09-08\",\"2017-09-11\",\"2017-09-12\",\"2017-09-13\",\"2017-09-14\",\"2017-09-15\",\"2017-09-18\",\"2017-09-19\",\"2017-09-20\",\"2017-09-21\",\"2017-09-22\",\"2017-09-25\",\"2017-09-26\",\"2017-09-27\",\"2017-09-28\",\"2017-09-29\",\"2017-10-02\",\"2017-10-03\",\"2017-10-04\",\"2017-10-05\",\"2017-10-06\",\"2017-10-09\",\"2017-10-10\",\"2017-10-11\",\"2017-10-12\",\"2017-10-13\",\"2017-10-16\",\"2017-10-17\",\"2017-10-18\",\"2017-10-19\",\"2017-10-20\",\"2017-10-23\",\"2017-10-24\",\"2017-10-25\",\"2017-10-26\",\"2017-10-27\",\"2017-10-30\",\"2017-10-31\",\"2017-11-01\",\"2017-11-02\",\"2017-11-03\",\"2017-11-06\",\"2017-11-07\",\"2017-11-08\",\"2017-11-09\",\"2017-11-10\",\"2017-11-13\",\"2017-11-14\",\"2017-11-15\",\"2017-11-16\",\"2017-11-17\",\"2017-11-20\",\"2017-11-21\",\"2017-11-22\",\"2017-11-24\",\"2017-11-27\",\"2017-11-28\",\"2017-11-29\",\"2017-11-30\",\"2017-12-01\",\"2017-12-04\",\"2017-12-05\",\"2017-12-06\",\"2017-12-07\",\"2017-12-08\",\"2017-12-11\",\"2017-12-12\",\"2017-12-13\",\"2017-12-14\",\"2017-12-15\",\"2017-12-18\",\"2017-12-19\",\"2017-12-20\",\"2017-12-21\",\"2017-12-22\",\"2017-12-26\",\"2017-12-27\",\"2017-12-28\",\"2017-12-29\",\"2018-01-02\",\"2018-01-03\",\"2018-01-04\",\"2018-01-05\",\"2018-01-08\",\"2018-01-09\",\"2018-01-10\",\"2018-01-11\",\"2018-01-12\",\"2018-01-16\",\"2018-01-17\",\"2018-01-18\",\"2018-01-19\",\"2018-01-22\",\"2018-01-23\",\"2018-01-24\",\"2018-01-25\",\"2018-01-26\",\"2018-01-29\",\"2018-01-30\",\"2018-01-31\",\"2018-02-01\",\"2018-02-02\",\"2018-02-05\",\"2018-02-06\",\"2018-02-07\",\"2018-02-08\",\"2018-02-09\",\"2018-02-12\",\"2018-02-13\",\"2018-02-14\",\"2018-02-15\",\"2018-02-16\",\"2018-02-20\",\"2018-02-21\",\"2018-02-22\",\"2018-02-23\",\"2018-02-26\",\"2018-02-27\",\"2018-02-28\",\"2018-03-01\",\"2018-03-02\",\"2018-03-05\",\"2018-03-06\",\"2018-03-07\",\"2018-03-08\",\"2018-03-09\",\"2018-03-12\",\"2018-03-13\",\"2018-03-14\",\"2018-03-15\",\"2018-03-16\",\"2018-03-19\",\"2018-03-20\",\"2018-03-21\",\"2018-03-22\",\"2018-03-23\",\"2018-03-26\",\"2018-03-27\",\"2018-03-28\",\"2018-03-29\",\"2018-04-02\",\"2018-04-03\",\"2018-04-04\",\"2018-04-05\",\"2018-04-06\",\"2018-04-09\",\"2018-04-10\",\"2018-04-11\",\"2018-04-12\",\"2018-04-13\",\"2018-04-16\",\"2018-04-17\",\"2018-04-18\",\"2018-04-19\",\"2018-04-20\",\"2018-04-23\",\"2018-04-24\",\"2018-04-25\",\"2018-04-26\",\"2018-04-27\",\"2018-04-30\",\"2018-05-01\",\"2018-05-02\",\"2018-05-03\",\"2018-05-04\",\"2018-05-07\",\"2018-05-08\",\"2018-05-09\",\"2018-05-10\",\"2018-05-11\",\"2018-05-14\",\"2018-05-15\",\"2018-05-16\",\"2018-05-17\",\"2018-05-18\",\"2018-05-21\",\"2018-05-22\",\"2018-05-23\",\"2018-05-24\",\"2018-05-25\",\"2018-05-29\",\"2018-05-30\",\"2018-05-31\",\"2018-06-01\",\"2018-06-04\",\"2018-06-05\",\"2018-06-06\",\"2018-06-07\",\"2018-06-08\",\"2018-06-11\",\"2018-06-12\",\"2018-06-13\",\"2018-06-14\",\"2018-06-15\",\"2018-06-18\",\"2018-06-19\",\"2018-06-20\",\"2018-06-21\",\"2018-06-22\",\"2018-06-25\",\"2018-06-26\",\"2018-06-27\",\"2018-06-28\",\"2018-06-29\",\"2018-07-02\",\"2018-07-03\",\"2018-07-05\",\"2018-07-06\",\"2018-07-09\",\"2018-07-10\",\"2018-07-11\",\"2018-07-12\",\"2018-07-13\",\"2018-07-16\",\"2018-07-17\",\"2018-07-18\",\"2018-07-19\",\"2018-07-20\",\"2018-07-23\",\"2018-07-24\",\"2018-07-25\",\"2018-07-26\",\"2018-07-27\",\"2018-07-30\",\"2018-07-31\",\"2018-08-01\",\"2018-08-02\",\"2018-08-03\",\"2018-08-06\",\"2018-08-07\",\"2018-08-08\",\"2018-08-09\",\"2018-08-10\",\"2018-08-13\",\"2018-08-14\",\"2018-08-15\",\"2018-08-16\",\"2018-08-17\",\"2018-08-20\",\"2018-08-21\",\"2018-08-22\",\"2018-08-23\",\"2018-08-24\",\"2018-08-27\",\"2018-08-28\",\"2018-08-29\",\"2018-08-30\",\"2018-08-31\",\"2018-09-04\",\"2018-09-05\",\"2018-09-06\",\"2018-09-07\",\"2018-09-10\",\"2018-09-11\",\"2018-09-12\",\"2018-09-13\",\"2018-09-14\",\"2018-09-17\",\"2018-09-18\",\"2018-09-19\",\"2018-09-20\",\"2018-09-21\",\"2018-09-24\",\"2018-09-25\",\"2018-09-26\",\"2018-09-27\",\"2018-09-28\",\"2018-10-01\",\"2018-10-02\",\"2018-10-03\",\"2018-10-04\",\"2018-10-05\",\"2018-10-08\",\"2018-10-09\",\"2018-10-10\",\"2018-10-11\",\"2018-10-12\",\"2018-10-15\",\"2018-10-16\",\"2018-10-17\",\"2018-10-18\",\"2018-10-19\",\"2018-10-22\",\"2018-10-23\",\"2018-10-24\",\"2018-10-25\",\"2018-10-26\",\"2018-10-29\",\"2018-10-30\",\"2018-10-31\",\"2018-11-01\",\"2018-11-02\",\"2018-11-05\",\"2018-11-06\",\"2018-11-07\",\"2018-11-08\",\"2018-11-09\",\"2018-11-12\",\"2018-11-13\",\"2018-11-14\",\"2018-11-15\",\"2018-11-16\",\"2018-11-19\",\"2018-11-20\",\"2018-11-21\",\"2018-11-23\",\"2018-11-26\",\"2018-11-27\",\"2018-11-28\",\"2018-11-29\",\"2018-11-30\",\"2018-12-03\",\"2018-12-04\",\"2018-12-06\",\"2018-12-07\",\"2018-12-10\",\"2018-12-11\",\"2018-12-12\",\"2018-12-13\",\"2018-12-14\",\"2018-12-17\",\"2018-12-18\",\"2018-12-19\",\"2018-12-20\",\"2018-12-21\",\"2018-12-24\",\"2018-12-26\",\"2018-12-27\",\"2018-12-28\",\"2018-12-31\",\"2019-01-02\",\"2019-01-03\",\"2019-01-04\",\"2019-01-07\",\"2019-01-08\",\"2019-01-09\",\"2019-01-10\",\"2019-01-11\",\"2019-01-14\",\"2019-01-15\",\"2019-01-16\",\"2019-01-17\",\"2019-01-18\",\"2019-01-22\",\"2019-01-23\",\"2019-01-24\",\"2019-01-25\",\"2019-01-28\",\"2019-01-29\",\"2019-01-30\",\"2019-01-31\",\"2019-02-01\",\"2019-02-04\",\"2019-02-05\",\"2019-02-06\",\"2019-02-07\",\"2019-02-08\",\"2019-02-11\",\"2019-02-12\",\"2019-02-13\",\"2019-02-14\",\"2019-02-15\",\"2019-02-19\",\"2019-02-20\",\"2019-02-21\",\"2019-02-22\",\"2019-02-25\",\"2019-02-26\",\"2019-02-27\",\"2019-02-28\",\"2019-03-01\",\"2019-03-04\",\"2019-03-05\",\"2019-03-06\",\"2019-03-07\",\"2019-03-08\",\"2019-03-11\",\"2019-03-12\",\"2019-03-13\",\"2019-03-14\",\"2019-03-15\",\"2019-03-18\",\"2019-03-19\",\"2019-03-20\",\"2019-03-21\",\"2019-03-22\",\"2019-03-25\",\"2019-03-26\",\"2019-03-27\",\"2019-03-28\",\"2019-03-29\",\"2019-04-01\",\"2019-04-02\",\"2019-04-03\",\"2019-04-04\",\"2019-04-05\",\"2019-04-08\",\"2019-04-09\",\"2019-04-10\",\"2019-04-11\",\"2019-04-12\",\"2019-04-15\",\"2019-04-16\",\"2019-04-17\",\"2019-04-18\",\"2019-04-22\",\"2019-04-23\",\"2019-04-24\",\"2019-04-25\",\"2019-04-26\",\"2019-04-29\",\"2019-04-30\",\"2019-05-01\",\"2019-05-02\",\"2019-05-03\",\"2019-05-06\",\"2019-05-07\",\"2019-05-08\",\"2019-05-09\",\"2019-05-10\",\"2019-05-13\",\"2019-05-14\",\"2019-05-15\",\"2019-05-16\",\"2019-05-17\",\"2019-05-20\",\"2019-05-21\",\"2019-05-22\",\"2019-05-23\",\"2019-05-24\",\"2019-05-28\",\"2019-05-29\",\"2019-05-30\",\"2019-05-31\",\"2019-06-03\",\"2019-06-04\",\"2019-06-05\",\"2019-06-06\",\"2019-06-07\",\"2019-06-10\",\"2019-06-11\",\"2019-06-12\",\"2019-06-13\",\"2019-06-14\",\"2019-06-17\",\"2019-06-18\",\"2019-06-19\",\"2019-06-20\",\"2019-06-21\",\"2019-06-24\",\"2019-06-25\",\"2019-06-26\",\"2019-06-27\",\"2019-06-28\",\"2019-07-01\",\"2019-07-02\",\"2019-07-03\",\"2019-07-05\",\"2019-07-08\",\"2019-07-09\",\"2019-07-10\",\"2019-07-11\",\"2019-07-12\",\"2019-07-15\",\"2019-07-16\",\"2019-07-17\",\"2019-07-18\",\"2019-07-19\",\"2019-07-22\",\"2019-07-23\",\"2019-07-24\",\"2019-07-25\",\"2019-07-26\",\"2019-07-29\",\"2019-07-30\",\"2019-07-31\",\"2019-08-01\",\"2019-08-02\",\"2019-08-05\",\"2019-08-06\",\"2019-08-07\",\"2019-08-08\",\"2019-08-09\",\"2019-08-12\",\"2019-08-13\",\"2019-08-14\",\"2019-08-15\",\"2019-08-16\",\"2019-08-19\",\"2019-08-20\",\"2019-08-21\",\"2019-08-22\",\"2019-08-23\",\"2019-08-26\",\"2019-08-27\",\"2019-08-28\",\"2019-08-29\",\"2019-08-30\",\"2019-09-03\",\"2019-09-04\",\"2019-09-05\",\"2019-09-06\",\"2019-09-09\",\"2019-09-10\",\"2019-09-11\",\"2019-09-12\",\"2019-09-13\",\"2019-09-16\",\"2019-09-17\",\"2019-09-18\",\"2019-09-19\",\"2019-09-20\",\"2019-09-23\",\"2019-09-24\",\"2019-09-25\",\"2019-09-26\",\"2019-09-27\",\"2019-09-30\",\"2019-10-01\",\"2019-10-02\",\"2019-10-03\",\"2019-10-04\",\"2019-10-07\",\"2019-10-08\",\"2019-10-09\",\"2019-10-10\",\"2019-10-11\",\"2019-10-14\",\"2019-10-15\",\"2019-10-16\",\"2019-10-17\",\"2019-10-18\",\"2019-10-21\",\"2019-10-22\",\"2019-10-23\",\"2019-10-24\",\"2019-10-25\",\"2019-10-28\",\"2019-10-29\",\"2019-10-30\",\"2019-10-31\",\"2019-11-01\",\"2019-11-04\",\"2019-11-05\",\"2019-11-06\",\"2019-11-07\",\"2019-11-08\",\"2019-11-11\",\"2019-11-12\",\"2019-11-13\",\"2019-11-14\",\"2019-11-15\",\"2019-11-18\",\"2019-11-19\",\"2019-11-20\",\"2019-11-21\",\"2019-11-22\",\"2019-11-25\",\"2019-11-26\",\"2019-11-27\",\"2019-11-29\",\"2019-12-02\",\"2019-12-03\",\"2019-12-04\",\"2019-12-05\",\"2019-12-06\",\"2019-12-09\",\"2019-12-10\",\"2019-12-11\",\"2019-12-12\",\"2019-12-13\",\"2019-12-16\",\"2019-12-17\",\"2019-12-18\",\"2019-12-19\",\"2019-12-20\",\"2019-12-23\",\"2019-12-24\",\"2019-12-26\",\"2019-12-27\",\"2019-12-30\",\"2019-12-31\",\"2020-01-02\",\"2020-01-03\",\"2020-01-06\",\"2020-01-07\",\"2020-01-08\",\"2020-01-09\",\"2020-01-10\",\"2020-01-13\",\"2020-01-14\",\"2020-01-15\",\"2020-01-16\",\"2020-01-17\",\"2020-01-21\",\"2020-01-22\",\"2020-01-23\",\"2020-01-24\",\"2020-01-27\",\"2020-01-28\",\"2020-01-29\",\"2020-01-30\",\"2020-01-31\",\"2020-02-03\",\"2020-02-04\",\"2020-02-05\",\"2020-02-06\",\"2020-02-07\",\"2020-02-10\",\"2020-02-11\",\"2020-02-12\",\"2020-02-13\",\"2020-02-14\",\"2020-02-18\",\"2020-02-19\",\"2020-02-20\",\"2020-02-21\",\"2020-02-24\",\"2020-02-25\",\"2020-02-26\",\"2020-02-27\",\"2020-02-28\",\"2020-03-02\",\"2020-03-03\",\"2020-03-04\",\"2020-03-05\",\"2020-03-06\",\"2020-03-09\",\"2020-03-10\",\"2020-03-11\",\"2020-03-12\",\"2020-03-13\",\"2020-03-16\",\"2020-03-17\",\"2020-03-18\",\"2020-03-19\",\"2020-03-20\",\"2020-03-23\",\"2020-03-24\",\"2020-03-25\",\"2020-03-26\",\"2020-03-27\",\"2020-03-30\",\"2020-03-31\",\"2020-04-01\",\"2020-04-02\",\"2020-04-03\",\"2020-04-06\",\"2020-04-07\",\"2020-04-08\",\"2020-04-09\",\"2020-04-13\",\"2020-04-14\",\"2020-04-15\",\"2020-04-16\",\"2020-04-17\",\"2020-04-20\",\"2020-04-21\",\"2020-04-22\",\"2020-04-23\",\"2020-04-24\",\"2020-04-27\",\"2020-04-28\",\"2020-04-29\",\"2020-04-30\",\"2020-05-01\",\"2020-05-04\",\"2020-05-05\",\"2020-05-06\",\"2020-05-07\",\"2020-05-08\",\"2020-05-11\",\"2020-05-12\",\"2020-05-13\",\"2020-05-14\",\"2020-05-15\",\"2020-05-18\",\"2020-05-19\",\"2020-05-20\",\"2020-05-21\",\"2020-05-22\",\"2020-05-26\",\"2020-05-27\",\"2020-05-28\",\"2020-05-29\",\"2020-06-01\",\"2020-06-02\",\"2020-06-03\",\"2020-06-04\",\"2020-06-05\",\"2020-06-08\",\"2020-06-09\",\"2020-06-10\",\"2020-06-11\",\"2020-06-12\",\"2020-06-15\",\"2020-06-16\",\"2020-06-17\",\"2020-06-18\",\"2020-06-19\",\"2020-06-22\",\"2020-06-23\",\"2020-06-24\",\"2020-06-25\",\"2020-06-26\",\"2020-06-29\",\"2020-06-30\",\"2020-07-01\",\"2020-07-02\",\"2020-07-06\",\"2020-07-07\",\"2020-07-08\",\"2020-07-09\",\"2020-07-10\",\"2020-07-13\",\"2020-07-14\",\"2020-07-15\",\"2020-07-16\",\"2020-07-17\",\"2020-07-20\",\"2020-07-21\",\"2020-07-22\",\"2020-07-23\",\"2020-07-24\",\"2020-07-27\",\"2020-07-28\",\"2020-07-29\",\"2020-07-30\",\"2020-07-31\",\"2020-08-03\",\"2020-08-04\",\"2020-08-05\",\"2020-08-06\",\"2020-08-07\",\"2020-08-10\",\"2020-08-11\",\"2020-08-12\",\"2020-08-13\",\"2020-08-14\",\"2020-08-17\",\"2020-08-18\",\"2020-08-19\",\"2020-08-20\",\"2020-08-21\",\"2020-08-24\",\"2020-08-25\",\"2020-08-26\",\"2020-08-27\",\"2020-08-28\",\"2020-08-31\",\"2020-09-01\",\"2020-09-02\",\"2020-09-03\",\"2020-09-04\",\"2020-09-08\",\"2020-09-09\",\"2020-09-10\",\"2020-09-11\",\"2020-09-14\",\"2020-09-15\",\"2020-09-16\",\"2020-09-17\",\"2020-09-18\",\"2020-09-21\",\"2020-09-22\",\"2020-09-23\",\"2020-09-24\",\"2020-09-25\",\"2020-09-28\",\"2020-09-29\",\"2020-09-30\",\"2020-10-01\",\"2020-10-02\",\"2020-10-05\",\"2020-10-06\",\"2020-10-07\",\"2020-10-08\",\"2020-10-09\",\"2020-10-12\",\"2020-10-13\",\"2020-10-14\",\"2020-10-15\",\"2020-10-16\",\"2020-10-19\",\"2020-10-20\",\"2020-10-21\",\"2020-10-22\",\"2020-10-23\",\"2020-10-26\",\"2020-10-27\",\"2020-10-28\",\"2020-10-29\",\"2020-10-30\",\"2020-11-02\",\"2020-11-03\",\"2020-11-04\",\"2020-11-05\",\"2020-11-06\",\"2020-11-09\",\"2020-11-10\",\"2020-11-11\",\"2020-11-12\",\"2020-11-13\",\"2020-11-16\",\"2020-11-17\",\"2020-11-18\",\"2020-11-19\",\"2020-11-20\",\"2020-11-23\",\"2020-11-24\",\"2020-11-25\",\"2020-11-27\",\"2020-11-30\",\"2020-12-01\",\"2020-12-02\"],\"y\":[2653747376.824951,1900900371.6125488,4550101616.168213,4764955279.541016,2746265953.1066895,2036230622.4609375,2391307114.453125,3965600067.3950195,3098513221.54541,2972077152.4658203,1900969370.0195312,2055608776.171875,2729083803.6987305,2288019313.659668,2444044955.255127,3281333428.6132812,3009443732.5561523,2506223557.5683594,3111682992.2973633,2583421394.7265625,3204713876.0009766,6174052564.727783,8805901892.675781,3147615429.0893555,2816206250.0,2342731242.7978516,2040997427.6000977,2010396869.3847656,3490505200.2441406,2335535476.904297,2501892066.241455,2291586897.7661133,2630111383.795166,3004134596.5637207,2239131331.665039,2950281788.4521484,3117245083.984375,2302869543.75,2360788186.61499,2354586155.1696777,1809960953.741455,1649702077.4780273,2209990705.7617188,1901514595.8984375,1944668250.0,1747114600.0,2076933597.5341797,1632010574.2858887,1816400480.4199219,2185479658.935547,1572255634.5153809,2884557955.7373047,1956205352.1240234,3695661333.5021973,2254737115.509033,1654933149.5361328,1808167831.677246,2333666576.184082,2603609600.0,3922024688.8549805,2421064592.1936035,3508570617.0410156,3051014706.4208984,4520275586.187744,6827238171.972656,5698778333.862305,3320810210.119629,2888287402.0324707,2718539927.8686523,2201230455.029297,2808473327.746582,2574910825.1220703,2710617063.8671875,2580883875.036621,2538757657.1289062,2174891935.913086,2833750605.1330566,3068300155.493164,2372246623.675537,4872465115.905762,6812273781.079102,5183499188.232422,3644582681.3964844,3371428285.961914,2267322622.8515625,2677647629.9804688,3241635852.947998,3108194145.892334,1989473700.592041,2079173031.286621,3485758876.477051,4091106556.8847656,3020031449.89624,4861357106.25,3775779618.5302734,3812580570.6726074,2564704228.845215,2346851970.9228516,2397936040.283203,4790078383.544922,3454560077.6367188,3252331809.8327637,3892047502.8930664,2444858089.9658203,3777552905.7128906,2750743739.0441895,3356439200.0,2851427630.6762695,2796326387.060547,7481821368.328857,9115697498.291016,4492018099.365234,3881370486.5478516,5181353071.160889,11331700769.085693,5019040291.809082,4046591021.484375,2929017117.919922,2256329392.492676,2889867805.883789,3365815009.8632812,3694572782.8125,3701457471.875,4199426758.4838867,3281810400.0,2774292227.874756,3548524289.1845703,3145970391.748047,2587254209.814453,3533781457.104492,2965191565.563965,3632092021.2402344,2882614918.0664062,2106305519.8669434,3749874422.4243164,4105585624.3164062,3043642665.5273438,3186398098.754883,2804797302.1728516,3416067439.453125,2545185800.048828,3075544782.6416016,11497318200.0,7863896206.604004,7262257553.393555,4555178405.163574,4053272359.6191406,3213214080.3588867,2696389720.6604004,2655909934.2773438,2873307629.9560547,3505481131.8603516,5439228874.859619,3356989286.1328125,3119912531.2683105,2505299057.104492,3063757555.0598145,3373906093.725586,3148382159.765625,3016686135.4675293,2658975067.138672,2556231400.0,4948644528.424072,3142800480.46875,2456530184.716797,2742254650.982666,2810461992.0043945,3266868818.664551,2480744175.0,2783066520.3125,2061317194.0002441,2514103520.8007812,2516459333.605957,2138505180.0476074,2437879280.4016113,3373350037.6098633,3882815478.9855957,3710527675.378418,3323254355.328369,2590593006.8725586,2811409111.4746094,2254965897.0703125,2523183115.5029297,4815483847.412109,3345921192.96875,2994194527.6245117,2412614701.586914,2445482067.895508,2343205256.9641113,2552202794.897461,2440078360.852051,3167360741.1621094,3742690582.635498,2912123185.3027344,3045413317.6574707,2325414500.0,4071082559.210205,2438648615.9362793,2021636479.9499512,2340878872.32666,2492200900.0,3066581156.4697266,2324680377.484131,3376348787.347412,2658254076.501465,2950933239.5446777,5463792399.847412,18237235941.16211,7346161973.547363,3843058661.8652344,4144870441.711426,4032091170.0439453,4170167308.4106445,3789063641.5649414,3020204248.1689453,2924529732.6049805,4214703569.226074,2453150411.779785,3295369856.25,3567858548.7304688,4426426772.802734,2517164043.4570312,2726852403.7841797,2437222335.7910156,2825251481.7871094,4110495769.519043,4184208000.0,8064677223.6328125,5442099728.686523,10750457205.810547,5306201100.0,4773887584.729004,6726477715.356445,4657377066.870117,3288000185.3393555,2912928662.109375,3544216200.0,2762742523.864746,2605002273.742676,3046295396.7773438,3774423949.3896484,5634638473.999023,3509353478.466797,3072701976.635742,2792372532.421875,2494132976.7333984,1851967412.7807617,2359639171.5820312,2207515890.234375,2184440325.036621,3144003069.2382812,3203787471.3134766,3743616808.203125,3655501835.7055664,4356932609.924316,5335980144.104004,4586510331.225586,3369130261.9628906,3989625167.8466797,7105116974.194336,9422002496.228027,6803671000.0,5208070091.711426,5927234328.796387,5495196373.583984,7043378223.925781,9241249391.479492,6549396117.919922,6810177702.172852,8083469898.254395,8442734942.614746,9321533077.111816,12668182000.0,15909194171.75293,15978050000.0,15967621333.740234,10147970315.844727,11585399300.0,18943953054.748535,9341665215.38086,8370928786.791992,8647097450.976562,8262890807.202148,6479410631.933594,9543100161.328125,9348921125.048828,7215930087.95166,6627150000.0,7541262008.056641,7270809330.078125,6828711529.541016,10208029106.25,9883046900.0,7974422302.331543,7014252454.821777,6448984500.0,5994214379.418945,7159160993.42041,8270389613.793945,10373833292.834473,6776705400.0,6439567485.412598,8526364291.381836,10166875697.460938,7268754260.7421875,7515100418.408203,9764821629.760742,11973453829.101562,8751245659.606934,10478751521.777344,19618041128.28369,18209128843.981934,14355954461.816406,14242342459.570312,9849022535.974121,9310798625.0,8265984314.111328,5917065671.069336,6109823377.368164,5112406799.926758,4541047500.0,5272890530.957031,4048596900.0,7691187927.246094,7986783421.325684,10156813989.978027,8464738529.8828125,6777851978.588867,10942936266.833496,9618578130.480957,13359717412.207031,20527723320.26367,8557490959.680176,7234250990.649414,6844275938.195801,6684326765.148926,5444159251.855469,6083572321.691895,4885293325.939941,5848778400.0,4533582776.184082,3628828026.3793945,4019064728.0273438,8002749275.20752,4080262043.310547,3396987796.9726562,4160430149.0966797,4637787477.734375,3345609891.6503906,5385293084.753418,5498529915.771484,4344828825.878906,6203904436.218262,4724205228.588867,5159865790.539551,5439078765.4296875,5308381241.259766,8112284853.24707,9281178900.0,6361397193.87207,4976358820.141602,3944939748.5961914,3837816000.0,5672921601.257324,5472221137.5,8198218132.03125,5357022304.394531,7442379803.686523,7582396417.602539,8549189897.241211,6991526996.081543,12492252463.378906,7418135244.067383,8090336869.580078,7707057843.823242,7723041521.850586,5459589039.331055,3688259022.9492188,5070464504.736328,4533682701.940918,5237928298.828125,5234264741.711426,5633199000.0,8143539451.867676,7946873224.4140625,9962094784.61914,10478870102.233887,8960092961.657715,8479079255.981445,7045136090.332031,7007077000.0,7826769146.21582,6966546847.241211,17943315200.0,17592991059.08203,11675775213.745117,10200194591.748047,7463826909.509277,7987956659.631348,6309495180.175781,6267198450.0,6290526134.033203,7476278837.402344,9227566702.929688,6865943547.729492,10488830029.907227,7651916962.316895,14497491796.398926,7465148369.287109,7725195425.756836,5371143908.203125,5849149288.4765625,5868044525.20752,6780032786.987305,5336806892.028809,6879890111.694336,5993094807.458496,13051189420.532227,14571920009.533691,8462237759.765625,11668240716.870117,16398616850.463867,14665196535.791016,9550697419.213867,8812412692.382812,10002518362.890625,8783860000.0,7206314187.316895,7175431766.6015625,13451993312.548828,8285760343.432617,7815100834.277344,6134072224.047852,13129117125.952148,8150812670.275879,8961297941.601562,8518515369.689941,8714995527.441406,8182455300.0,6936087729.309082,10646454233.447266,10258043607.299805,13856661258.911133,12891759361.560059,13784030268.896484,8926850071.643066,19288266725.0,23960828819.86084,16892705867.651367,11335587025.683594,10664783375.097656,9699376592.578125,10401209107.910156,10420478189.0625,8051850219.7265625,11892561601.68457,11530242941.699219,18330866421.0083,24582681154.785156,21338264035.705566,19069186789.56299,15005633593.701172,13549919553.344727,11584594118.774414,9155886934.643555,6994099543.457031,14381325097.998047,11468161582.36084,10107104663.012695,11140728303.833008,9678221221.740723,10372618032.348633,13647506218.21289,9665784608.337402,11780739404.296875,16268809823.046875,8670841952.34375,4066977814.6484375,9895488466.003418,9145668398.144531,14191583925.0,11067652768.798828,9738421759.204102,12162465927.478027,14505904012.268066,14934860070.996094,12342451829.992676,12299191863.574219,10261540767.016602,10976037177.734375,8741818519.73877,10136009569.628906,13429331419.799805,10120303912.597656,13145041989.624023,14596320754.907227,18788830568.969727,9703390917.96875,15314716874.194336,14210064222.41211,13049438752.441406,10445450161.254883,12287028741.97998,10465353372.363281,14466176348.510742,13024999410.058594,14712749221.704102,10535325975.0,10778182703.344727,7687992546.582031,9712801304.394531,10044848511.47461,10720459068.530273,7126593534.692383,10211971806.030273,10473308737.988281,8569432606.0546875,6768498426.672363,8262471897.351074,7923620523.864746,7384127286.621094,9661433344.65332,18751859705.908203,18711727401.26953,8050748609.814453,7386847071.923828,6462460412.475586,7469044219.40918,8985354484.25293,5277824300.0,7958435433.447266,5838892000.0,6686129425.598145,6984773792.895508,5992261124.206543,5413920878.515625,5641157091.894531,5051636253.417969,5200288500.0,4362315185.083008,5167464084.375,4961961464.025879,8316689479.833984,10460959129.02832,6230681242.736816,6669124004.8828125,8059833907.958984,7564273827.880859,6475991349.072266,6047419861.755371,6005757328.125,4968615765.673828,12929859013.391113,9458306697.546387,11212765614.624023,11260975034.375,10493127884.326172,11229231634.277344,9055468237.841797,8679597831.518555,7636299148.828125,5396517193.725586,5913514600.0,7689988323.6328125,6254784370.654297,7247478225.634766,6591366700.915527,6688617946.655273,6942154553.027344,6819043969.042969,5475485989.746094,4895636893.408203,5740026246.484375,6871033809.814453,5672211702.9296875,5395856514.587402,5119461169.873047,6367406675.683594,8927062398.632812,6990452650.0,11602012975.0,16448882579.174805,7795008774.987793,6754379188.4765625,5958207900.878906,7532759365.148926,12523634486.71875,10567690054.541016,11337934100.0,7821816801.660156,10085079895.080566,10806905528.320312,10541287822.631836,8518099469.396973,8780558604.56543,8980457793.139648,8852705400.0,7060739742.724609,7439553430.224609,5461136445.727539,8032228077.587891,6143906714.72168,5876576171.875,7784313759.277344,5715777238.977051,8198693067.919922,15401277969.873047,9822344528.759766,7370892300.0,6472360293.95752,8674137186.865234,9993443756.225586,7534379792.602539,4962053196.350098,5228984876.513672,5330803229.296875,4968368906.176758,7407167089.978027,5526519800.097656,6171200679.4921875,7518289872.0703125,4369433755.737305,5657912779.833984,4634310969.689941,4078396538.745117,5751711776.831055,6157351039.306641,5117990984.033203,3277491700.0,5106744733.837891,5629319333.129883,8640555522.192383,9949664547.5708,8640219814.086914,5046202300.0,6025177457.885742,5262320243.920898,5097206438.964844,6931155055.554199,6258174974.21875,5758327014.160156,5392103688.598633,5264731507.177734,8164706207.824707,9573601895.581055,8593020120.605469,5526431062.280273,8345813476.977539,8744679502.844238,9036342039.59961,10693510595.581055,9064834226.184082,8118542570.52002,6783892522.216797,5205468757.446289,5186085187.683105,7286413823.486328,8627220864.84375,6676612673.64502,5409976097.900391,5114738742.248535,3475762719.4213867,3705068651.3671875,4788665400.695801,9221897070.263672,5448119584.9609375,5320197918.29834,4268955725.0,5386174713.61084,5433138342.480469,6341402998.901367,4184820930.6518555,6094255679.003906,4578091143.383789,5493134251.77002,4758735772.631836,4434970048.2421875,5205263562.866211,3625890874.621582,6644715794.372559,3613023216.796875,4553827678.125,3700377250.0,9584223486.584473,5217182332.69043,8039271692.3828125,6177130202.490234,6153465991.113281,6741678049.21875,4590961267.39502,5353612500.305176,5655543488.525391,5980633596.411133,4300240895.349121,3733362575.6469727,4335406444.824219,3518886545.0439453,4430013577.1484375,5637399743.041992,3316928688.598633,5499556361.193848,4911750210.424805,4732174500.292969,5909627407.836914,3804170136.8164062,3728691999.7558594,3767871987.963867,7917526088.256836,16955266688.964844,6591011849.01123,4013514310.0585938,4359907482.080078,4941246887.060547,4998834012.5,5002337148.742676,3397124131.3476562,3645053985.6445312,4740696890.551758,3791959014.367676,3447630947.5097656,3622852800.0,5240922301.208496,3973818024.7070312,6832020885.644531,4976309018.188477,3980235620.703125,4870028781.738281,4619359154.980469,4327814379.370117,6183960888.842773,5716425341.6015625,5502083885.546875,3463658813.9160156,6993848864.160156,5984057631.933594,4701218212.548828,4914767368.847656,5460437763.891602,4273703051.8554688,4372895604.785156,3668115010.546875,5449805510.949707,4835012797.119141,5564519169.140625,6525881428.564453,5978998240.185547,4754560461.71875,9201904200.0,3830565200.0,1576830738.5742188,11222711475.292969,11567704982.080078,6786766736.828613,4631610874.328613,7647082329.345703,7058136957.714844,7729118003.833008,7713057954.748535,6637030657.2265625,6021195819.65332,5373973789.538574,5259327175.78125,6432555894.384766,5393527188.574219,4994381274.169922,7453845138.891602,7015157600.0,6070637472.363281,4682427358.813477,7011308623.168945,6451297569.396973,5203926000.0,3879504000.0,11836540971.850586,31270346399.926758,11822975931.958008,10841319117.773438,8926879072.631836,6525882027.832031,10594555533.276367,10789475297.607422,12358497080.566406,7202088000.0,6517976221.2890625,5563898499.4140625,6349741321.875,5558367388.964844,6742002335.791016,9738505274.87793,13154821885.742188,12268667273.266602,10342565735.424805,15345739597.65625,17883945750.0,13212023384.838867,14383285081.420898,9430438797.253418,9135679385.107422,10025588043.75,14068525937.548828,13494919222.86377,10241973245.605469,19023152215.7959,15725314500.0,15062657512.70752,19736369690.856934,17650716000.0,19561484465.58838,18124726675.427246,14858247711.853027,13866088535.510254,12218545722.546387,12165689876.245117,10237548658.459473,12031353795.874023,9989585241.894531,7863348428.735352,8320046689.453125,6882599117.614746,11532486390.673828,10287322275.146484,8125623900.0,9510273501.464844,14567649916.113281,18465666056.835938,15845915018.603516,28990272152.63672,18833750000.0,13812805846.899414,17406655680.17578,9969909825.805664,12157053122.607422,9235480883.740234,13413945600.0,12193813563.671875,10894535056.640625,23588600400.0,22340554885.742188,11269375693.481445,7515466658.325195,7330758458.447266,8041350968.847656,7641403976.953125,7851412800.0,7247385404.858398,11325524194.335938,8714764041.259766,10205418424.072266,10594506958.642578,10582330602.539062,9987013679.736328,12513607006.054688,6986778312.011719,8641681235.302734,12189100647.77832,7659989531.542969,8619856854.589844,7237429170.410156,6239126413.208008,6619806139.160156,7255571507.958984,8209791200.0,10022285274.658203,13462051916.015625,13094287458.496094,14836423569.433594,13818440698.046875,9943665203.78418,9377312182.03125,7793796020.361328,6602571395.410156,15453532826.416016,8708105835.351562,11698153425.073242,12377534597.949219,8177521877.9296875,17505810057.8125,11320316397.070312,10399924011.694336,18318319269.28711,19056904341.94336,21034269692.773438,15773131516.113281,15521400277.148438,20332867532.32422,17555200000.0,23964121600.0,22303179600.0,17418048221.38672,19181959955.566406,14102827621.50879,24290230355.810547,19253409389.648438,12722650261.279297,16894614971.21582,16947384188.964844,12741753142.089844,9381132055.273438,9022021660.131836,18702835485.839844,25588019587.280273,15791907637.86621,14734610035.742188,12595768015.136719,12708435000.0,12446850662.5,9971166889.624023,11454238836.523438,11153852893.554688,9954052041.503906,8662406687.74414,8564501555.46875,17708571487.79297,13645434766.259766,10988485915.527344,11745830143.237305,15433600415.722656,13361865233.007812,22401969730.615234,14500320000.0,9855014741.455078,14445373300.488281,12164341175.390625,13883895483.032227,27486584800.0,28932694945.117188,19195755463.623047,16959837264.379883,16925559449.63379,15874024530.761719,14055212779.296875,12692376323.730469,13889003260.644531,19403600517.041016,26276831884.42383,18111859233.76465,21742725644.140625,16957309229.223633,16697627041.992188,14284643435.15625,13407822216.259766,10993871094.335938,15376507986.621094,16015782642.55371,17540937500.0,12077939575.65918,15769186325.292969,13771506233.496094,10127124909.985352,16130549055.71289,28797354534.228516,19782620587.79297,19606728991.308594,17439103899.902344,21188833371.09375,16753181951.953125,14507750041.04004,14627473668.896484,13378996388.671875,11108693141.455078,18925384678.515625,14101642365.234375,17674563637.719727,21181427529.418945,25462367541.015625,21804713010.253906,14930806908.520508,22166292638.916016,19232054600.0,15388930345.605469,22604748025.78125,20003816948.73047,13700667921.899414,13567041487.792969,11752436342.089844,11925268445.166016,10801407699.243164,9058005614.0625,9383165364.794922,10458615030.46875,14590008165.161133,11231564137.060547,12072689587.109375,7646129296.313477,12874597914.746094,14609503314.453125,3597743224.290039],\"type\":\"scatter\"},{\"mode\":\"lines\",\"name\":\"Dataset 2\",\"x\":[\"2017-01-03\",\"2017-01-04\",\"2017-01-05\",\"2017-01-06\",\"2017-01-09\",\"2017-01-10\",\"2017-01-11\",\"2017-01-12\",\"2017-01-13\",\"2017-01-17\",\"2017-01-18\",\"2017-01-19\",\"2017-01-20\",\"2017-01-23\",\"2017-01-24\",\"2017-01-25\",\"2017-01-26\",\"2017-01-27\",\"2017-01-30\",\"2017-01-31\",\"2017-02-01\",\"2017-02-02\",\"2017-02-03\",\"2017-02-06\",\"2017-02-07\",\"2017-02-08\",\"2017-02-09\",\"2017-02-10\",\"2017-02-13\",\"2017-02-14\",\"2017-02-15\",\"2017-02-16\",\"2017-02-17\",\"2017-02-21\",\"2017-02-22\",\"2017-02-23\",\"2017-02-24\",\"2017-02-27\",\"2017-02-28\",\"2017-03-01\",\"2017-03-02\",\"2017-03-03\",\"2017-03-06\",\"2017-03-07\",\"2017-03-08\",\"2017-03-09\",\"2017-03-10\",\"2017-03-13\",\"2017-03-14\",\"2017-03-15\",\"2017-03-16\",\"2017-03-17\",\"2017-03-20\",\"2017-03-21\",\"2017-03-22\",\"2017-03-23\",\"2017-03-24\",\"2017-03-27\",\"2017-03-28\",\"2017-03-29\",\"2017-03-30\",\"2017-03-31\",\"2017-04-03\",\"2017-04-04\",\"2017-04-05\",\"2017-04-06\",\"2017-04-07\",\"2017-04-10\",\"2017-04-11\",\"2017-04-12\",\"2017-04-13\",\"2017-04-17\",\"2017-04-18\",\"2017-04-19\",\"2017-04-20\",\"2017-04-21\",\"2017-04-24\",\"2017-04-25\",\"2017-04-26\",\"2017-04-27\",\"2017-04-28\",\"2017-05-01\",\"2017-05-02\",\"2017-05-03\",\"2017-05-04\",\"2017-05-05\",\"2017-05-08\",\"2017-05-09\",\"2017-05-10\",\"2017-05-11\",\"2017-05-12\",\"2017-05-15\",\"2017-05-16\",\"2017-05-17\",\"2017-05-18\",\"2017-05-19\",\"2017-05-22\",\"2017-05-23\",\"2017-05-24\",\"2017-05-25\",\"2017-05-26\",\"2017-05-30\",\"2017-05-31\",\"2017-06-01\",\"2017-06-02\",\"2017-06-05\",\"2017-06-06\",\"2017-06-07\",\"2017-06-08\",\"2017-06-09\",\"2017-06-12\",\"2017-06-13\",\"2017-06-14\",\"2017-06-15\",\"2017-06-16\",\"2017-06-19\",\"2017-06-20\",\"2017-06-21\",\"2017-06-22\",\"2017-06-23\",\"2017-06-26\",\"2017-06-27\",\"2017-06-28\",\"2017-06-29\",\"2017-06-30\",\"2017-07-03\",\"2017-07-05\",\"2017-07-06\",\"2017-07-07\",\"2017-07-10\",\"2017-07-11\",\"2017-07-12\",\"2017-07-13\",\"2017-07-14\",\"2017-07-17\",\"2017-07-18\",\"2017-07-19\",\"2017-07-20\",\"2017-07-21\",\"2017-07-24\",\"2017-07-25\",\"2017-07-26\",\"2017-07-27\",\"2017-07-28\",\"2017-07-31\",\"2017-08-01\",\"2017-08-02\",\"2017-08-03\",\"2017-08-04\",\"2017-08-07\",\"2017-08-08\",\"2017-08-09\",\"2017-08-10\",\"2017-08-11\",\"2017-08-14\",\"2017-08-15\",\"2017-08-16\",\"2017-08-17\",\"2017-08-18\",\"2017-08-21\",\"2017-08-22\",\"2017-08-23\",\"2017-08-24\",\"2017-08-25\",\"2017-08-28\",\"2017-08-29\",\"2017-08-30\",\"2017-08-31\",\"2017-09-01\",\"2017-09-05\",\"2017-09-06\",\"2017-09-07\",\"2017-09-08\",\"2017-09-11\",\"2017-09-12\",\"2017-09-13\",\"2017-09-14\",\"2017-09-15\",\"2017-09-18\",\"2017-09-19\",\"2017-09-20\",\"2017-09-21\",\"2017-09-22\",\"2017-09-25\",\"2017-09-26\",\"2017-09-27\",\"2017-09-28\",\"2017-09-29\",\"2017-10-02\",\"2017-10-03\",\"2017-10-04\",\"2017-10-05\",\"2017-10-06\",\"2017-10-09\",\"2017-10-10\",\"2017-10-11\",\"2017-10-12\",\"2017-10-13\",\"2017-10-16\",\"2017-10-17\",\"2017-10-18\",\"2017-10-19\",\"2017-10-20\",\"2017-10-23\",\"2017-10-24\",\"2017-10-25\",\"2017-10-26\",\"2017-10-27\",\"2017-10-30\",\"2017-10-31\",\"2017-11-01\",\"2017-11-02\",\"2017-11-03\",\"2017-11-06\",\"2017-11-07\",\"2017-11-08\",\"2017-11-09\",\"2017-11-10\",\"2017-11-13\",\"2017-11-14\",\"2017-11-15\",\"2017-11-16\",\"2017-11-17\",\"2017-11-20\",\"2017-11-21\",\"2017-11-22\",\"2017-11-24\",\"2017-11-27\",\"2017-11-28\",\"2017-11-29\",\"2017-11-30\",\"2017-12-01\",\"2017-12-04\",\"2017-12-05\",\"2017-12-06\",\"2017-12-07\",\"2017-12-08\",\"2017-12-11\",\"2017-12-12\",\"2017-12-13\",\"2017-12-14\",\"2017-12-15\",\"2017-12-18\",\"2017-12-19\",\"2017-12-20\",\"2017-12-21\",\"2017-12-22\",\"2017-12-26\",\"2017-12-27\",\"2017-12-28\",\"2017-12-29\",\"2018-01-02\",\"2018-01-03\",\"2018-01-04\",\"2018-01-05\",\"2018-01-08\",\"2018-01-09\",\"2018-01-10\",\"2018-01-11\",\"2018-01-12\",\"2018-01-16\",\"2018-01-17\",\"2018-01-18\",\"2018-01-19\",\"2018-01-22\",\"2018-01-23\",\"2018-01-24\",\"2018-01-25\",\"2018-01-26\",\"2018-01-29\",\"2018-01-30\",\"2018-01-31\",\"2018-02-01\",\"2018-02-02\",\"2018-02-05\",\"2018-02-06\",\"2018-02-07\",\"2018-02-08\",\"2018-02-09\",\"2018-02-12\",\"2018-02-13\",\"2018-02-14\",\"2018-02-15\",\"2018-02-16\",\"2018-02-20\",\"2018-02-21\",\"2018-02-22\",\"2018-02-23\",\"2018-02-26\",\"2018-02-27\",\"2018-02-28\",\"2018-03-01\",\"2018-03-02\",\"2018-03-05\",\"2018-03-06\",\"2018-03-07\",\"2018-03-08\",\"2018-03-09\",\"2018-03-12\",\"2018-03-13\",\"2018-03-14\",\"2018-03-15\",\"2018-03-16\",\"2018-03-19\",\"2018-03-20\",\"2018-03-21\",\"2018-03-22\",\"2018-03-23\",\"2018-03-26\",\"2018-03-27\",\"2018-03-28\",\"2018-03-29\",\"2018-04-02\",\"2018-04-03\",\"2018-04-04\",\"2018-04-05\",\"2018-04-06\",\"2018-04-09\",\"2018-04-10\",\"2018-04-11\",\"2018-04-12\",\"2018-04-13\",\"2018-04-16\",\"2018-04-17\",\"2018-04-18\",\"2018-04-19\",\"2018-04-20\",\"2018-04-23\",\"2018-04-24\",\"2018-04-25\",\"2018-04-26\",\"2018-04-27\",\"2018-04-30\",\"2018-05-01\",\"2018-05-02\",\"2018-05-03\",\"2018-05-04\",\"2018-05-07\",\"2018-05-08\",\"2018-05-09\",\"2018-05-10\",\"2018-05-11\",\"2018-05-14\",\"2018-05-15\",\"2018-05-16\",\"2018-05-17\",\"2018-05-18\",\"2018-05-21\",\"2018-05-22\",\"2018-05-23\",\"2018-05-24\",\"2018-05-25\",\"2018-05-29\",\"2018-05-30\",\"2018-05-31\",\"2018-06-01\",\"2018-06-04\",\"2018-06-05\",\"2018-06-06\",\"2018-06-07\",\"2018-06-08\",\"2018-06-11\",\"2018-06-12\",\"2018-06-13\",\"2018-06-14\",\"2018-06-15\",\"2018-06-18\",\"2018-06-19\",\"2018-06-20\",\"2018-06-21\",\"2018-06-22\",\"2018-06-25\",\"2018-06-26\",\"2018-06-27\",\"2018-06-28\",\"2018-06-29\",\"2018-07-02\",\"2018-07-03\",\"2018-07-05\",\"2018-07-06\",\"2018-07-09\",\"2018-07-10\",\"2018-07-11\",\"2018-07-12\",\"2018-07-13\",\"2018-07-16\",\"2018-07-17\",\"2018-07-18\",\"2018-07-19\",\"2018-07-20\",\"2018-07-23\",\"2018-07-24\",\"2018-07-25\",\"2018-07-26\",\"2018-07-27\",\"2018-07-30\",\"2018-07-31\",\"2018-08-01\",\"2018-08-02\",\"2018-08-03\",\"2018-08-06\",\"2018-08-07\",\"2018-08-08\",\"2018-08-09\",\"2018-08-10\",\"2018-08-13\",\"2018-08-14\",\"2018-08-15\",\"2018-08-16\",\"2018-08-17\",\"2018-08-20\",\"2018-08-21\",\"2018-08-22\",\"2018-08-23\",\"2018-08-24\",\"2018-08-27\",\"2018-08-28\",\"2018-08-29\",\"2018-08-30\",\"2018-08-31\",\"2018-09-04\",\"2018-09-05\",\"2018-09-06\",\"2018-09-07\",\"2018-09-10\",\"2018-09-11\",\"2018-09-12\",\"2018-09-13\",\"2018-09-14\",\"2018-09-17\",\"2018-09-18\",\"2018-09-19\",\"2018-09-20\",\"2018-09-21\",\"2018-09-24\",\"2018-09-25\",\"2018-09-26\",\"2018-09-27\",\"2018-09-28\",\"2018-10-01\",\"2018-10-02\",\"2018-10-03\",\"2018-10-04\",\"2018-10-05\",\"2018-10-08\",\"2018-10-09\",\"2018-10-10\",\"2018-10-11\",\"2018-10-12\",\"2018-10-15\",\"2018-10-16\",\"2018-10-17\",\"2018-10-18\",\"2018-10-19\",\"2018-10-22\",\"2018-10-23\",\"2018-10-24\",\"2018-10-25\",\"2018-10-26\",\"2018-10-29\",\"2018-10-30\",\"2018-10-31\",\"2018-11-01\",\"2018-11-02\",\"2018-11-05\",\"2018-11-06\",\"2018-11-07\",\"2018-11-08\",\"2018-11-09\",\"2018-11-12\",\"2018-11-13\",\"2018-11-14\",\"2018-11-15\",\"2018-11-16\",\"2018-11-19\",\"2018-11-20\",\"2018-11-21\",\"2018-11-23\",\"2018-11-26\",\"2018-11-27\",\"2018-11-28\",\"2018-11-29\",\"2018-11-30\",\"2018-12-03\",\"2018-12-04\",\"2018-12-06\",\"2018-12-07\",\"2018-12-10\",\"2018-12-11\",\"2018-12-12\",\"2018-12-13\",\"2018-12-14\",\"2018-12-17\",\"2018-12-18\",\"2018-12-19\",\"2018-12-20\",\"2018-12-21\",\"2018-12-24\",\"2018-12-26\",\"2018-12-27\",\"2018-12-28\",\"2018-12-31\",\"2019-01-02\",\"2019-01-03\",\"2019-01-04\",\"2019-01-07\",\"2019-01-08\",\"2019-01-09\",\"2019-01-10\",\"2019-01-11\",\"2019-01-14\",\"2019-01-15\",\"2019-01-16\",\"2019-01-17\",\"2019-01-18\",\"2019-01-22\",\"2019-01-23\",\"2019-01-24\",\"2019-01-25\",\"2019-01-28\",\"2019-01-29\",\"2019-01-30\",\"2019-01-31\",\"2019-02-01\",\"2019-02-04\",\"2019-02-05\",\"2019-02-06\",\"2019-02-07\",\"2019-02-08\",\"2019-02-11\",\"2019-02-12\",\"2019-02-13\",\"2019-02-14\",\"2019-02-15\",\"2019-02-19\",\"2019-02-20\",\"2019-02-21\",\"2019-02-22\",\"2019-02-25\",\"2019-02-26\",\"2019-02-27\",\"2019-02-28\",\"2019-03-01\",\"2019-03-04\",\"2019-03-05\",\"2019-03-06\",\"2019-03-07\",\"2019-03-08\",\"2019-03-11\",\"2019-03-12\",\"2019-03-13\",\"2019-03-14\",\"2019-03-15\",\"2019-03-18\",\"2019-03-19\",\"2019-03-20\",\"2019-03-21\",\"2019-03-22\",\"2019-03-25\",\"2019-03-26\",\"2019-03-27\",\"2019-03-28\",\"2019-03-29\",\"2019-04-01\",\"2019-04-02\",\"2019-04-03\",\"2019-04-04\",\"2019-04-05\",\"2019-04-08\",\"2019-04-09\",\"2019-04-10\",\"2019-04-11\",\"2019-04-12\",\"2019-04-15\",\"2019-04-16\",\"2019-04-17\",\"2019-04-18\",\"2019-04-22\",\"2019-04-23\",\"2019-04-24\",\"2019-04-25\",\"2019-04-26\",\"2019-04-29\",\"2019-04-30\",\"2019-05-01\",\"2019-05-02\",\"2019-05-03\",\"2019-05-06\",\"2019-05-07\",\"2019-05-08\",\"2019-05-09\",\"2019-05-10\",\"2019-05-13\",\"2019-05-14\",\"2019-05-15\",\"2019-05-16\",\"2019-05-17\",\"2019-05-20\",\"2019-05-21\",\"2019-05-22\",\"2019-05-23\",\"2019-05-24\",\"2019-05-28\",\"2019-05-29\",\"2019-05-30\",\"2019-05-31\",\"2019-06-03\",\"2019-06-04\",\"2019-06-05\",\"2019-06-06\",\"2019-06-07\",\"2019-06-10\",\"2019-06-11\",\"2019-06-12\",\"2019-06-13\",\"2019-06-14\",\"2019-06-17\",\"2019-06-18\",\"2019-06-19\",\"2019-06-20\",\"2019-06-21\",\"2019-06-24\",\"2019-06-25\",\"2019-06-26\",\"2019-06-27\",\"2019-06-28\",\"2019-07-01\",\"2019-07-02\",\"2019-07-03\",\"2019-07-05\",\"2019-07-08\",\"2019-07-09\",\"2019-07-10\",\"2019-07-11\",\"2019-07-12\",\"2019-07-15\",\"2019-07-16\",\"2019-07-17\",\"2019-07-18\",\"2019-07-19\",\"2019-07-22\",\"2019-07-23\",\"2019-07-24\",\"2019-07-25\",\"2019-07-26\",\"2019-07-29\",\"2019-07-30\",\"2019-07-31\",\"2019-08-01\",\"2019-08-02\",\"2019-08-05\",\"2019-08-06\",\"2019-08-07\",\"2019-08-08\",\"2019-08-09\",\"2019-08-12\",\"2019-08-13\",\"2019-08-14\",\"2019-08-15\",\"2019-08-16\",\"2019-08-19\",\"2019-08-20\",\"2019-08-21\",\"2019-08-22\",\"2019-08-23\",\"2019-08-26\",\"2019-08-27\",\"2019-08-28\",\"2019-08-29\",\"2019-08-30\",\"2019-09-03\",\"2019-09-04\",\"2019-09-05\",\"2019-09-06\",\"2019-09-09\",\"2019-09-10\",\"2019-09-11\",\"2019-09-12\",\"2019-09-13\",\"2019-09-16\",\"2019-09-17\",\"2019-09-18\",\"2019-09-19\",\"2019-09-20\",\"2019-09-23\",\"2019-09-24\",\"2019-09-25\",\"2019-09-26\",\"2019-09-27\",\"2019-09-30\",\"2019-10-01\",\"2019-10-02\",\"2019-10-03\",\"2019-10-04\",\"2019-10-07\",\"2019-10-08\",\"2019-10-09\",\"2019-10-10\",\"2019-10-11\",\"2019-10-14\",\"2019-10-15\",\"2019-10-16\",\"2019-10-17\",\"2019-10-18\",\"2019-10-21\",\"2019-10-22\",\"2019-10-23\",\"2019-10-24\",\"2019-10-25\",\"2019-10-28\",\"2019-10-29\",\"2019-10-30\",\"2019-10-31\",\"2019-11-01\",\"2019-11-04\",\"2019-11-05\",\"2019-11-06\",\"2019-11-07\",\"2019-11-08\",\"2019-11-11\",\"2019-11-12\",\"2019-11-13\",\"2019-11-14\",\"2019-11-15\",\"2019-11-18\",\"2019-11-19\",\"2019-11-20\",\"2019-11-21\",\"2019-11-22\",\"2019-11-25\",\"2019-11-26\",\"2019-11-27\",\"2019-11-29\",\"2019-12-02\",\"2019-12-03\",\"2019-12-04\",\"2019-12-05\",\"2019-12-06\",\"2019-12-09\",\"2019-12-10\",\"2019-12-11\",\"2019-12-12\",\"2019-12-13\",\"2019-12-16\",\"2019-12-17\",\"2019-12-18\",\"2019-12-19\",\"2019-12-20\",\"2019-12-23\",\"2019-12-24\",\"2019-12-26\",\"2019-12-27\",\"2019-12-30\",\"2019-12-31\",\"2020-01-02\",\"2020-01-03\",\"2020-01-06\",\"2020-01-07\",\"2020-01-08\",\"2020-01-09\",\"2020-01-10\",\"2020-01-13\",\"2020-01-14\",\"2020-01-15\",\"2020-01-16\",\"2020-01-17\",\"2020-01-21\",\"2020-01-22\",\"2020-01-23\",\"2020-01-24\",\"2020-01-27\",\"2020-01-28\",\"2020-01-29\",\"2020-01-30\",\"2020-01-31\",\"2020-02-03\",\"2020-02-04\",\"2020-02-05\",\"2020-02-06\",\"2020-02-07\",\"2020-02-10\",\"2020-02-11\",\"2020-02-12\",\"2020-02-13\",\"2020-02-14\",\"2020-02-18\",\"2020-02-19\",\"2020-02-20\",\"2020-02-21\",\"2020-02-24\",\"2020-02-25\",\"2020-02-26\",\"2020-02-27\",\"2020-02-28\",\"2020-03-02\",\"2020-03-03\",\"2020-03-04\",\"2020-03-05\",\"2020-03-06\",\"2020-03-09\",\"2020-03-10\",\"2020-03-11\",\"2020-03-12\",\"2020-03-13\",\"2020-03-16\",\"2020-03-17\",\"2020-03-18\",\"2020-03-19\",\"2020-03-20\",\"2020-03-23\",\"2020-03-24\",\"2020-03-25\",\"2020-03-26\",\"2020-03-27\",\"2020-03-30\",\"2020-03-31\",\"2020-04-01\",\"2020-04-02\",\"2020-04-03\",\"2020-04-06\",\"2020-04-07\",\"2020-04-08\",\"2020-04-09\",\"2020-04-13\",\"2020-04-14\",\"2020-04-15\",\"2020-04-16\",\"2020-04-17\",\"2020-04-20\",\"2020-04-21\",\"2020-04-22\",\"2020-04-23\",\"2020-04-24\",\"2020-04-27\",\"2020-04-28\",\"2020-04-29\",\"2020-04-30\",\"2020-05-01\",\"2020-05-04\",\"2020-05-05\",\"2020-05-06\",\"2020-05-07\",\"2020-05-08\",\"2020-05-11\",\"2020-05-12\",\"2020-05-13\",\"2020-05-14\",\"2020-05-15\",\"2020-05-18\",\"2020-05-19\",\"2020-05-20\",\"2020-05-21\",\"2020-05-22\",\"2020-05-26\",\"2020-05-27\",\"2020-05-28\",\"2020-05-29\",\"2020-06-01\",\"2020-06-02\",\"2020-06-03\",\"2020-06-04\",\"2020-06-05\",\"2020-06-08\",\"2020-06-09\",\"2020-06-10\",\"2020-06-11\",\"2020-06-12\",\"2020-06-15\",\"2020-06-16\",\"2020-06-17\",\"2020-06-18\",\"2020-06-19\",\"2020-06-22\",\"2020-06-23\",\"2020-06-24\",\"2020-06-25\",\"2020-06-26\",\"2020-06-29\",\"2020-06-30\",\"2020-07-01\",\"2020-07-02\",\"2020-07-06\",\"2020-07-07\",\"2020-07-08\",\"2020-07-09\",\"2020-07-10\",\"2020-07-13\",\"2020-07-14\",\"2020-07-15\",\"2020-07-16\",\"2020-07-17\",\"2020-07-20\",\"2020-07-21\",\"2020-07-22\",\"2020-07-23\",\"2020-07-24\",\"2020-07-27\",\"2020-07-28\",\"2020-07-29\",\"2020-07-30\",\"2020-07-31\",\"2020-08-03\",\"2020-08-04\",\"2020-08-05\",\"2020-08-06\",\"2020-08-07\",\"2020-08-10\",\"2020-08-11\",\"2020-08-12\",\"2020-08-13\",\"2020-08-14\",\"2020-08-17\",\"2020-08-18\",\"2020-08-19\",\"2020-08-20\",\"2020-08-21\",\"2020-08-24\",\"2020-08-25\",\"2020-08-26\",\"2020-08-27\",\"2020-08-28\",\"2020-08-31\",\"2020-09-01\",\"2020-09-02\",\"2020-09-03\",\"2020-09-04\",\"2020-09-08\",\"2020-09-09\",\"2020-09-10\",\"2020-09-11\",\"2020-09-14\",\"2020-09-15\",\"2020-09-16\",\"2020-09-17\",\"2020-09-18\",\"2020-09-21\",\"2020-09-22\",\"2020-09-23\",\"2020-09-24\",\"2020-09-25\",\"2020-09-28\",\"2020-09-29\",\"2020-09-30\",\"2020-10-01\",\"2020-10-02\",\"2020-10-05\",\"2020-10-06\",\"2020-10-07\",\"2020-10-08\",\"2020-10-09\",\"2020-10-12\",\"2020-10-13\",\"2020-10-14\",\"2020-10-15\",\"2020-10-16\",\"2020-10-19\",\"2020-10-20\",\"2020-10-21\",\"2020-10-22\",\"2020-10-23\",\"2020-10-26\",\"2020-10-27\",\"2020-10-28\",\"2020-10-29\",\"2020-10-30\",\"2020-11-02\",\"2020-11-03\",\"2020-11-04\",\"2020-11-05\",\"2020-11-06\",\"2020-11-09\",\"2020-11-10\",\"2020-11-11\",\"2020-11-12\",\"2020-11-13\",\"2020-11-16\",\"2020-11-17\",\"2020-11-18\",\"2020-11-19\",\"2020-11-20\",\"2020-11-23\",\"2020-11-24\",\"2020-11-25\",\"2020-11-27\",\"2020-11-30\",\"2020-12-01\",\"2020-12-02\"],\"y\":[3343017728.917694,2450121891.1079407,2587995709.5458984,3743866645.2789307,3993530409.3040466,2913680745.930481,3303734850.0,3230029350.0,3108360599.9061584,4132776000.0,2845322819.343567,3066044562.753296,3911748000.0,2647788056.375122,2784623698.33374,3946181799.0722656,3211607008.3007812,2507645592.2470093,3694815241.5657043,5970541274.925232,14418068750.0,4332797670.849609,3163402328.8742065,3497752130.760193,5022315167.388916,3037461209.553528,3754093706.0897827,2651053762.023926,3070388311.343384,4486201665.957642,4827286085.316467,3056825747.845459,3012739731.097412,3350134165.209961,2856947371.7178345,2838212920.6237793,2975990235.748291,2773845633.630371,3216922599.9954224,5090396689.517212,3642280735.977173,2950490192.2332764,3030644920.349121,2434107850.5386353,2600300800.0,3072580049.725342,2728924980.029297,2425100586.833191,2127811893.095398,3608670400.491333,2705750126.953125,6143461391.067505,3047331464.630127,5527861071.237183,3657149436.6485596,2867200558.744812,3149717170.3308105,3321260203.112793,4799296341.851807,4206862657.470703,3052366533.6730957,2824599894.003296,2871945029.008484,2879678062.9852295,3991932076.423645,3038265417.449951,2389793086.94458,2710694843.331909,4302634570.336914,2885630062.1032715,2513920099.3911743,2351839273.362732,2075286955.1467896,2437759185.083008,3321643880.932617,2464244517.0028687,2461170841.542053,2727497871.963501,2879519469.213867,2048475381.352234,2996596332.6782227,4925513143.528748,6689902772.872925,6720200708.435059,3424684478.4698486,4070734375.4745483,7459604456.195068,6025690510.949707,3954981440.245056,4195922561.8240356,5077464898.529053,4049710210.624695,3116940319.4732666,7627846925.0,5120493002.627563,4126619982.1777344,3536596062.158203,3063526880.7876587,2940754449.7680664,2959781678.076172,3368298649.383545,3092900686.1465454,3735165177.685547,2512779917.852783,4316955230.250549,3899308395.465088,4112215723.7472534,3273583649.1210938,3293661608.734131,9666224368.791199,10514927433.60138,5008305860.882568,4577069107.470703,4641145350.045776,7164873912.1658325,4762108356.829834,3610763364.2196655,3102042142.163086,2782450562.2924805,5184075388.739014,3746465956.176758,3559027781.2057495,3220276432.434082,4525833561.291504,3315930980.369568,2048864300.0,3107963585.0097656,3443903520.9106445,2768500965.362549,3059402384.5092773,2878845329.852295,3626667166.694641,3723715445.663452,3000488048.8357544,3558555801.9104004,2681749536.71875,3159791549.3927,2592417794.8516846,3944978314.163208,3268900709.289551,2879744789.567566,2421752365.951538,4889631648.712158,2573448150.0,2951680622.2091675,5307058537.936401,10989868709.313965,4215527159.4665527,3215362748.451233,3473222289.605713,5795840538.294983,4208739326.2023926,6337724174.859619,4134967995.817566,3536313730.026245,4761624979.84314,4453743935.5529785,4410703133.053589,4319925750.0,4145392062.034607,3451982961.6271973,3103467935.118103,3156556287.675476,4073248801.551819,4192730051.6967773,4808598287.094116,4454489326.44043,4392756400.0,2721770005.632019,4776254533.958435,3505626826.2908936,3536189789.543152,4538642384.70459,5100299200.0,11535914083.770752,7169466135.906982,3760843566.9952393,7852442487.817383,4485505646.237183,3303266449.0875244,8264125385.827637,5753919640.104675,7084969777.529907,6682508150.45929,5614112377.624512,3933512657.0343018,3373003013.1378174,4053325047.583008,2876062382.348633,2507256674.6566772,3094739937.850952,3307289669.0093994,2703400333.1237793,2534410276.4434814,2434690204.6813965,2646571731.591797,2515515600.0,2573725548.0560303,3856545537.7807617,3048496754.1900635,2615942102.053833,6642283334.060669,3745953125.0,3433288090.7455444,2789656228.3813477,3317002588.6627197,2676048767.2576904,7248257445.663452,7452517430.566406,6093350829.986572,5613812421.469116,6958644499.264526,10246258500.0,6103332775.0,4258633755.5236816,4301930414.085388,5185399831.958008,4392164438.957214,2954375957.7301025,4246233459.2437744,4930051601.390076,4044376394.2718506,3726199791.3360596,2764282682.5195312,4351233266.661072,4477034115.800476,2454251716.1224365,3606587636.1328125,4574032609.5703125,7061621293.981934,7136449573.461914,6800828386.335754,5525699619.311523,4639687911.306763,4826925443.115234,4347003344.036865,3955670109.9609375,6090726981.411743,3332559580.7678223,4103195869.7631836,3526462854.9957275,6988253170.03479,5190470408.128357,4788749071.795654,4092971003.2836914,3666441883.918762,2861308404.1900635,5660450978.057861,3667593051.2145996,2819432646.1761475,4399962965.916443,4402259193.617249,5083867790.885925,3881858810.6140137,4140500000.0,3585996055.5358887,3762738759.5214844,4175970810.1364136,3272074433.2122803,4501291235.916138,5209215993.182373,6158676089.880371,5591728712.649536,5786583563.697815,4798222200.0,5787278044.529724,8903530584.384155,7106027215.34729,6713415714.981079,8505561923.99292,7688668010.211182,5437941989.117432,7924383566.345215,13898304900.0,11382848264.564514,11125786630.69458,8233635697.506714,8438685743.026733,11053901624.810791,9895941253.334045,5349135408.80127,6802736714.538574,8847954408.95996,6927564628.741455,5830956632.095337,6410266886.450195,5346102750.0,5934076200.0,6829888980.584717,6944383735.240173,6729747467.51709,8540350000.0,6775979598.175049,5021935756.018066,4202714251.4419556,5549063566.299438,4206589312.0422363,5792692158.48999,5852674251.315308,5703879233.6883545,5240497367.700195,4063179731.1828613,7014824862.3550415,5863224142.071533,3443360963.937378,6346392881.315613,7005721833.239746,6767290372.167969,6485993284.393311,6888910334.136963,6936971701.972961,6442500283.126831,6264967548.706055,5098512401.519775,5938649876.121521,4654057042.1936035,5894192584.924316,4934459973.554993,4921789950.0,3868105158.7646484,3985942688.02948,4389968831.65741,3793914446.044922,4742146642.147827,3690980203.994751,6014960746.228027,10853185171.94519,6033821420.585632,5489774562.255859,4644730491.769409,4592083894.1345215,5787649717.150879,7011551890.939331,9058585866.96167,11748862345.349121,6026323877.206421,10331485081.907654,7860301379.46167,5284341026.678467,4348850446.166992,5319086384.083557,4943358702.008057,3909531093.1762695,4417733145.849609,3609875617.4987793,3233805154.9987793,3409044442.327881,3452542193.8476562,2852449467.8131104,3778200236.242676,4371476958.190918,3292795411.972046,4230399252.584839,3504468750.0,5135710701.806641,4459701328.773499,5038645194.094849,4168923407.348633,4060699638.5620117,4129829455.3222656,5110108478.649902,3501134376.777649,3251666287.3565674,4126442813.9648438,4123207145.9487915,11655053501.97754,3488840127.5405884,6235191746.97876,3847252550.0,4768529146.626282,5029897918.19458,5768066869.023132,4531297376.049805,4656540940.597534,3221244600.0,4208975660.8779907,3318944604.13208,2566566790.447998,3078418578.656006,3286693065.3442383,3765212864.175415,3034007782.284546,3538062311.9506836,3446391310.977173,2394284509.9136353,2871878276.0894775,2974079977.5924683,3121303259.942627,3892631283.0566406,3958251778.479004,3063728943.7591553,3608694700.0,3255422840.386963,3704750088.0737305,4588103417.358398,3993712422.012329,7492287905.654907,13689043550.0,12941965521.911621,6956724909.732056,5315688564.221191,5299406429.61731,4668409875.0,4907134402.709961,5107562305.957031,5407832156.57959,4351893000.0,6056509982.244873,6079705536.743164,7708206724.868774,6525788045.347595,5625403216.366577,4089842463.0386353,4069140871.7285156,3993858691.6625977,4473240344.110107,5004062890.490723,6077275187.554932,10980068754.437256,9865507174.621582,6254803252.71759,7562257547.241211,7650099209.289551,8325261854.806519,8627637517.356873,8002413868.19458,10894042569.927979,9442746176.733398,7162723194.815063,8104068569.616699,6890207981.428528,5923024073.55957,5854734231.518555,20949057074.465942,6114425600.07019,5455742195.947266,5286707530.082703,6789260847.894287,5176082881.954956,5363517678.356934,5683438465.740967,6649919645.874023,7305255756.011963,7531770119.544983,6637891029.737854,6100761038.696289,9085086241.629028,11392527417.877197,8959450993.6203,6692731778.793335,6483225421.875,5062021681.872559,7038212565.202332,7254489616.241455,6352976689.266968,8634751928.366089,8802665645.126343,6562304931.112671,10221992064.221191,9749350772.331238,7819578111.877441,8395228877.412415,12960581575.195312,18948878285.801697,13337940040.701294,6496778669.218445,7017452677.996826,5287848613.320923,7026775167.950439,9928979941.368103,9012299666.694641,11357626985.549927,8896507278.21045,7146733853.921509,7792236283.589172,12003703606.219482,5502136038.006592,4070178801.3916016,7857637850.280762,7211340803.347778,8334548862.457275,7499803627.471924,7059535342.384338,7541118348.846436,7305124467.938232,7530152500.610352,7124027016.259766,10519609978.57666,7973113301.867676,6024644287.454224,5453065572.653198,6735648102.095032,7260558434.124756,5620058152.862549,7891220067.063904,10158349708.602905,14431583148.934937,5457553704.058838,9207411417.732239,8294234840.79895,6607185241.3116455,5521452282.279968,5849309356.178284,12983681940.930176,8689088324.061584,8103279552.79541,6184563975.0,6914142910.894775,5503071769.194031,4115362946.569824,4865880000.0,4394777673.284912,4736469392.633057,4647932250.201416,5292832067.199707,4659400292.755127,3560261909.6466064,3884916972.3587036,5290560295.783997,4093825309.931946,6432707791.40625,10098394450.0,6780699123.461914,5439892151.573181,5393604375.0,6288176423.583984,4920468059.124756,5425926275.494385,4059166287.2314453,3556911608.239746,3808027301.399231,3827382071.2768555,3729537626.637268,4196899210.9069824,3243020565.0390625,4492460200.12207,2950733639.8864746,3271416227.0874023,3811002388.546753,2975847997.2564697,4867576262.084961,4885496337.786865,4529308445.599365,4824655937.457275,3464505797.906494,3631831096.911621,4277379000.0,4149736341.8884277,5726767704.620361,5873713634.899902,5638915783.3480835,4332261434.257507,7266664357.36084,4929846908.023071,5903002953.369141,5839583345.654297,9956261891.107178,8101991214.41803,8275362162.849426,9302235060.646057,5625527984.436035,3921677113.366699,4475981728.088379,5328329033.050537,4417001211.265564,4546146272.039795,3740477413.6657715,3649740200.0,5178928327.96936,7135755900.0,4352510980.065918,4158214096.2158203,5520770273.449707,3493816743.0755615,5120007700.0,5871838425.146484,4932555802.767944,3975960911.2701416,4839055940.353394,3633710760.2355957,3806548073.364258,3810011186.9125366,4543303680.552673,9338158297.792053,13647443472.972107,6692025949.710083,4423965700.0,6763737349.388123,7863604205.659485,5344284389.23645,7006854234.613037,8125531164.178467,10666011102.105713,6891693335.775757,5067914075.395203,6278608572.4823,6214149900.0,7069525865.597534,5292871853.125,5437449071.685791,6562926035.775757,4244219887.9486084,4981207566.592407,5051995395.068359,3783240784.753418,4734523250.073242,7000644253.279114,5563091501.098633,5434836236.105347,4172321313.497925,5834638472.717285,5049620970.011902,5246798183.24585,3544588952.5634766,4208123457.70874,3616091613.0599976,2844191790.046692,5269045868.972778,4179845350.854492,4291182584.4421387,9501803209.649658,3618207065.362549,4120718725.3234863,5208286579.551697,4174506192.805481,6157409895.03479,5492842233.169556,3433273023.6450195,2322506461.6088867,3526132991.2338257,5068226880.258179,4141116833.03833,3637227556.5353394,4073695650.0,3577104213.696289,3477776067.782593,3449260600.0,2868760211.1053467,3813059863.897705,4240066810.3546143,4616426465.194702,3833299900.78125,3128297144.5495605,2879565451.4282227,3660150382.7835083,4544478353.259277,7085095404.574585,14759708990.853882,11258950501.361084,8336685816.581726,10129662428.131104,7057485600.0,6640849951.99585,5494542387.176514,4948313638.240051,4507171215.94696,9867250002.63977,7409985350.0,5492855825.564575,5703612600.0,5135400909.008789,5655381364.4088745,4579287442.855835,4728021251.408386,9487199491.42456,5377743107.061768,5282293022.7508545,3275901544.543457,4387224289.69574,4413473432.144165,4118731038.8946533,4013958685.8459473,5100313906.808472,4129203991.6397095,5848854147.994995,6886270833.021545,9902711501.80664,7189454384.9823,8698221875.0,4652666060.861206,4042937034.095764,5644991908.26416,4874510324.111938,12065094026.249695,4191878183.3953857,6789613115.551758,4841308475.262451,4141298303.504944,5547524825.683594,5818158309.710693,7817034494.5373535,7578709440.382385,6316887539.520264,7859017906.828308,6942700015.350342,6273101829.376221,4243780955.181885,6500824702.532959,9849697448.960876,5686094385.290527,5139388959.9609375,4330173155.786133,3975361443.374634,5758569433.203125,5245955898.184204,4936793202.127075,4610011757.15332,4218513335.71167,4529502027.635193,6012864033.679199,8687861331.248474,7572805258.995056,8654484588.890076,9665212442.718506,6648135000.0,5136017569.53125,4878839378.78418,6157596819.158936,4551565780.297852,5363379909.698486,5723092325.317383,6792541723.352051,5855742974.597168,6657713460.644531,5789606312.298584,5070641084.710693,6989957998.840332,7951689384.375,4275207694.064331,5595128384.436035,6951329375.747681,4368175716.275024,3114638400.0,6239934774.505615,7422242169.213867,4396027831.982422,4941407788.162231,7178931192.398071,8544269781.829834,6069017496.347046,5331244467.687988,9318570002.67334,9189156831.161499,8968533020.568848,8002789340.515137,8114445870.727539,6886335575.820923,19279823248.443604,6998612000.0,3445266985.848999,6749191858.255005,10596971253.631592,10503057076.177979,7400390956.182861,10172884741.726685,10880197333.074951,8873120278.710938,8121579418.701172,10011273242.614746,13167666180.651855,10911574723.864746,9630195420.379639,12659975151.452637,9489923294.37561,8576828986.303711,10981555671.524048,8772408158.95996,8088038680.767822,8337649426.940918,11661095774.560547,12507841244.20166,12885029964.019775,17532944484.036255,10262079891.28418,15443651908.276367,13425598983.288574,10890034993.460083,9549219077.630615,8571364618.786621,9415602594.085693,8790276326.293945,7536659142.578125,9303147067.077637,7695163087.341309,6508228824.487305,12164363200.0,7603775405.2734375,8052822143.096924,10139219529.632568,16563540777.148438,16613111897.644043,14490184002.792358,21923010047.43042,29173305668.70117,25503224124.627686,23107670732.977295,16588516668.896484,13735956773.669434,16342970056.976318,19080716816.583252,20351161888.809204,17599893902.98462,25969449808.021545,25763093623.138428,19523555580.177307,20485200089.44702,18514655390.563965,16636301271.035767,23021037843.641663,18889306022.924805,17746426014.990234,18635091084.28192,16287354145.861816,12648167788.449097,10700516518.475342,12523909314.338684,10613193847.332764,10160553351.165771,7838582818.908691,13242950158.590698,13158756202.502441,11234486775.256348,10861393113.208008,8950495025.0,13993313739.923096,9326061257.849121,11261555992.901611,15218174343.10913,9001277095.935059,12143178702.062988,8079873408.615112,8581926069.909668,8949548822.607422,8288924316.055298,7800573920.007324,9874951523.052979,13446050241.333008,4347193758.64563,2447299710.571289,2747802919.454956,2674359428.9367676,2187216482.6782227,2598269180.908203,2873411055.5786133,3158888580.3977966,3857592508.468628,3074684120.37735,3199191546.41037,2664805621.7033386,1990975527.1362305,2224729908.06427,2033559181.6726685,1630388977.8930664,2484786527.4391174,2245562244.845581,2656607787.5,3052184280.937195,1625165513.319397,1764595696.0144043,8493044608.447266,7055617192.327881,11374626900.0,7974228851.660156,12702896758.374023,14700337483.425903,16934599732.287598,16952365589.20288,11902507239.111328,14561042420.666504,10056036439.257812,8513660088.925171,23123136760.71167,12151804565.661621,19440347952.25525,17338977230.43213,12543417978.094482,18146240796.557617,11816277430.130005,12788355412.072754,10080130067.468262,10380921326.367188,11089849196.054077,10474862477.618408,11163843867.06543,12030612513.745117,8657470458.73413,18298186668.460083,16595784748.635864,14971274316.238403,10673226294.763184,8880123920.733643,8883452519.622803,10053662000.0,8657408054.516602,18290873758.483887,17174414065.859985,11492299044.067383,9663346516.992188,8584887250.698853,15210525086.05957,39777029167.66968,33569221350.0,18979897172.451782,13426744500.0,23057145650.683594,22005342334.387207,23943727013.461304,20551825000.0,18753422202.496338,24161531268.78357,19024683421.105957,13702655853.076172,12207282900.0,16839837646.438599,15009949273.64502,42043876404.49524,43538840858.569336,26399937624.56665,20626001454.748535,19445605856.295776,23417631740.341187,29124674892.66205,20458436901.275635,26295635378.570557,31138638940.481567,40232166607.48901,26102779741.392517,20758659406.002045,20686321266.619873,20256353600.0,16167715621.540833,21333536849.0448,17344155845.161438,19641733088.104248,30674286464.590454,21544175462.36267,20467423827.087402,16144987557.961273,18153180130.76477,16839911408.917236,15826818977.957153,11338514834.051514,16523214563.671875,13561701622.311401,16355349754.211426,12377402700.0,18275136903.424072,11145383097.335815,9597373785.900879,11756292215.689087,29884214286.557007,31768223149.715424,18307240505.804443,13587020928.948975,13734169688.630676,13991746418.978119,14621029252.797699,10511989267.044067,11805111000.0,9499151979.597473,12868423376.341248,10759474739.196777,16005882920.736694,16851619299.404907,20713075352.13318,13364232300.543976,11886038998.754883,15890170303.138733,15043856358.718872,13585008430.438232,17973219648.845673,16006573866.485596,13418129310.112,12297977688.552094,9729457568.27774,10969315178.268433,8867214644.66858,9008297369.833374,8792766274.765015,8611746607.232666,14568166109.749603,13114891405.490112,8876202082.617188,5443738496.011353,20168284826.9989,15674804859.918213,3216456736.3099365],\"type\":\"scatter\"}],                        {\"template\":{\"data\":{\"histogram2dcontour\":[{\"type\":\"histogram2dcontour\",\"colorbar\":{\"outlinewidth\":0,\"ticks\":\"\"},\"colorscale\":[[0.0,\"#0d0887\"],[0.1111111111111111,\"#46039f\"],[0.2222222222222222,\"#7201a8\"],[0.3333333333333333,\"#9c179e\"],[0.4444444444444444,\"#bd3786\"],[0.5555555555555556,\"#d8576b\"],[0.6666666666666666,\"#ed7953\"],[0.7777777777777778,\"#fb9f3a\"],[0.8888888888888888,\"#fdca26\"],[1.0,\"#f0f921\"]]}],\"choropleth\":[{\"type\":\"choropleth\",\"colorbar\":{\"outlinewidth\":0,\"ticks\":\"\"}}],\"histogram2d\":[{\"type\":\"histogram2d\",\"colorbar\":{\"outlinewidth\":0,\"ticks\":\"\"},\"colorscale\":[[0.0,\"#0d0887\"],[0.1111111111111111,\"#46039f\"],[0.2222222222222222,\"#7201a8\"],[0.3333333333333333,\"#9c179e\"],[0.4444444444444444,\"#bd3786\"],[0.5555555555555556,\"#d8576b\"],[0.6666666666666666,\"#ed7953\"],[0.7777777777777778,\"#fb9f3a\"],[0.8888888888888888,\"#fdca26\"],[1.0,\"#f0f921\"]]}],\"heatmap\":[{\"type\":\"heatmap\",\"colorbar\":{\"outlinewidth\":0,\"ticks\":\"\"},\"colorscale\":[[0.0,\"#0d0887\"],[0.1111111111111111,\"#46039f\"],[0.2222222222222222,\"#7201a8\"],[0.3333333333333333,\"#9c179e\"],[0.4444444444444444,\"#bd3786\"],[0.5555555555555556,\"#d8576b\"],[0.6666666666666666,\"#ed7953\"],[0.7777777777777778,\"#fb9f3a\"],[0.8888888888888888,\"#fdca26\"],[1.0,\"#f0f921\"]]}],\"heatmapgl\":[{\"type\":\"heatmapgl\",\"colorbar\":{\"outlinewidth\":0,\"ticks\":\"\"},\"colorscale\":[[0.0,\"#0d0887\"],[0.1111111111111111,\"#46039f\"],[0.2222222222222222,\"#7201a8\"],[0.3333333333333333,\"#9c179e\"],[0.4444444444444444,\"#bd3786\"],[0.5555555555555556,\"#d8576b\"],[0.6666666666666666,\"#ed7953\"],[0.7777777777777778,\"#fb9f3a\"],[0.8888888888888888,\"#fdca26\"],[1.0,\"#f0f921\"]]}],\"contourcarpet\":[{\"type\":\"contourcarpet\",\"colorbar\":{\"outlinewidth\":0,\"ticks\":\"\"}}],\"contour\":[{\"type\":\"contour\",\"colorbar\":{\"outlinewidth\":0,\"ticks\":\"\"},\"colorscale\":[[0.0,\"#0d0887\"],[0.1111111111111111,\"#46039f\"],[0.2222222222222222,\"#7201a8\"],[0.3333333333333333,\"#9c179e\"],[0.4444444444444444,\"#bd3786\"],[0.5555555555555556,\"#d8576b\"],[0.6666666666666666,\"#ed7953\"],[0.7777777777777778,\"#fb9f3a\"],[0.8888888888888888,\"#fdca26\"],[1.0,\"#f0f921\"]]}],\"surface\":[{\"type\":\"surface\",\"colorbar\":{\"outlinewidth\":0,\"ticks\":\"\"},\"colorscale\":[[0.0,\"#0d0887\"],[0.1111111111111111,\"#46039f\"],[0.2222222222222222,\"#7201a8\"],[0.3333333333333333,\"#9c179e\"],[0.4444444444444444,\"#bd3786\"],[0.5555555555555556,\"#d8576b\"],[0.6666666666666666,\"#ed7953\"],[0.7777777777777778,\"#fb9f3a\"],[0.8888888888888888,\"#fdca26\"],[1.0,\"#f0f921\"]]}],\"mesh3d\":[{\"type\":\"mesh3d\",\"colorbar\":{\"outlinewidth\":0,\"ticks\":\"\"}}],\"scatter\":[{\"fillpattern\":{\"fillmode\":\"overlay\",\"size\":10,\"solidity\":0.2},\"type\":\"scatter\"}],\"parcoords\":[{\"type\":\"parcoords\",\"line\":{\"colorbar\":{\"outlinewidth\":0,\"ticks\":\"\"}}}],\"scatterpolargl\":[{\"type\":\"scatterpolargl\",\"marker\":{\"colorbar\":{\"outlinewidth\":0,\"ticks\":\"\"}}}],\"bar\":[{\"error_x\":{\"color\":\"#2a3f5f\"},\"error_y\":{\"color\":\"#2a3f5f\"},\"marker\":{\"line\":{\"color\":\"#E5ECF6\",\"width\":0.5},\"pattern\":{\"fillmode\":\"overlay\",\"size\":10,\"solidity\":0.2}},\"type\":\"bar\"}],\"scattergeo\":[{\"type\":\"scattergeo\",\"marker\":{\"colorbar\":{\"outlinewidth\":0,\"ticks\":\"\"}}}],\"scatterpolar\":[{\"type\":\"scatterpolar\",\"marker\":{\"colorbar\":{\"outlinewidth\":0,\"ticks\":\"\"}}}],\"histogram\":[{\"marker\":{\"pattern\":{\"fillmode\":\"overlay\",\"size\":10,\"solidity\":0.2}},\"type\":\"histogram\"}],\"scattergl\":[{\"type\":\"scattergl\",\"marker\":{\"colorbar\":{\"outlinewidth\":0,\"ticks\":\"\"}}}],\"scatter3d\":[{\"type\":\"scatter3d\",\"line\":{\"colorbar\":{\"outlinewidth\":0,\"ticks\":\"\"}},\"marker\":{\"colorbar\":{\"outlinewidth\":0,\"ticks\":\"\"}}}],\"scattermapbox\":[{\"type\":\"scattermapbox\",\"marker\":{\"colorbar\":{\"outlinewidth\":0,\"ticks\":\"\"}}}],\"scatterternary\":[{\"type\":\"scatterternary\",\"marker\":{\"colorbar\":{\"outlinewidth\":0,\"ticks\":\"\"}}}],\"scattercarpet\":[{\"type\":\"scattercarpet\",\"marker\":{\"colorbar\":{\"outlinewidth\":0,\"ticks\":\"\"}}}],\"carpet\":[{\"aaxis\":{\"endlinecolor\":\"#2a3f5f\",\"gridcolor\":\"white\",\"linecolor\":\"white\",\"minorgridcolor\":\"white\",\"startlinecolor\":\"#2a3f5f\"},\"baxis\":{\"endlinecolor\":\"#2a3f5f\",\"gridcolor\":\"white\",\"linecolor\":\"white\",\"minorgridcolor\":\"white\",\"startlinecolor\":\"#2a3f5f\"},\"type\":\"carpet\"}],\"table\":[{\"cells\":{\"fill\":{\"color\":\"#EBF0F8\"},\"line\":{\"color\":\"white\"}},\"header\":{\"fill\":{\"color\":\"#C8D4E3\"},\"line\":{\"color\":\"white\"}},\"type\":\"table\"}],\"barpolar\":[{\"marker\":{\"line\":{\"color\":\"#E5ECF6\",\"width\":0.5},\"pattern\":{\"fillmode\":\"overlay\",\"size\":10,\"solidity\":0.2}},\"type\":\"barpolar\"}],\"pie\":[{\"automargin\":true,\"type\":\"pie\"}]},\"layout\":{\"autotypenumbers\":\"strict\",\"colorway\":[\"#636efa\",\"#EF553B\",\"#00cc96\",\"#ab63fa\",\"#FFA15A\",\"#19d3f3\",\"#FF6692\",\"#B6E880\",\"#FF97FF\",\"#FECB52\"],\"font\":{\"color\":\"#2a3f5f\"},\"hovermode\":\"closest\",\"hoverlabel\":{\"align\":\"left\"},\"paper_bgcolor\":\"white\",\"plot_bgcolor\":\"#E5ECF6\",\"polar\":{\"bgcolor\":\"#E5ECF6\",\"angularaxis\":{\"gridcolor\":\"white\",\"linecolor\":\"white\",\"ticks\":\"\"},\"radialaxis\":{\"gridcolor\":\"white\",\"linecolor\":\"white\",\"ticks\":\"\"}},\"ternary\":{\"bgcolor\":\"#E5ECF6\",\"aaxis\":{\"gridcolor\":\"white\",\"linecolor\":\"white\",\"ticks\":\"\"},\"baxis\":{\"gridcolor\":\"white\",\"linecolor\":\"white\",\"ticks\":\"\"},\"caxis\":{\"gridcolor\":\"white\",\"linecolor\":\"white\",\"ticks\":\"\"}},\"coloraxis\":{\"colorbar\":{\"outlinewidth\":0,\"ticks\":\"\"}},\"colorscale\":{\"sequential\":[[0.0,\"#0d0887\"],[0.1111111111111111,\"#46039f\"],[0.2222222222222222,\"#7201a8\"],[0.3333333333333333,\"#9c179e\"],[0.4444444444444444,\"#bd3786\"],[0.5555555555555556,\"#d8576b\"],[0.6666666666666666,\"#ed7953\"],[0.7777777777777778,\"#fb9f3a\"],[0.8888888888888888,\"#fdca26\"],[1.0,\"#f0f921\"]],\"sequentialminus\":[[0.0,\"#0d0887\"],[0.1111111111111111,\"#46039f\"],[0.2222222222222222,\"#7201a8\"],[0.3333333333333333,\"#9c179e\"],[0.4444444444444444,\"#bd3786\"],[0.5555555555555556,\"#d8576b\"],[0.6666666666666666,\"#ed7953\"],[0.7777777777777778,\"#fb9f3a\"],[0.8888888888888888,\"#fdca26\"],[1.0,\"#f0f921\"]],\"diverging\":[[0,\"#8e0152\"],[0.1,\"#c51b7d\"],[0.2,\"#de77ae\"],[0.3,\"#f1b6da\"],[0.4,\"#fde0ef\"],[0.5,\"#f7f7f7\"],[0.6,\"#e6f5d0\"],[0.7,\"#b8e186\"],[0.8,\"#7fbc41\"],[0.9,\"#4d9221\"],[1,\"#276419\"]]},\"xaxis\":{\"gridcolor\":\"white\",\"linecolor\":\"white\",\"ticks\":\"\",\"title\":{\"standoff\":15},\"zerolinecolor\":\"white\",\"automargin\":true,\"zerolinewidth\":2},\"yaxis\":{\"gridcolor\":\"white\",\"linecolor\":\"white\",\"ticks\":\"\",\"title\":{\"standoff\":15},\"zerolinecolor\":\"white\",\"automargin\":true,\"zerolinewidth\":2},\"scene\":{\"xaxis\":{\"backgroundcolor\":\"#E5ECF6\",\"gridcolor\":\"white\",\"linecolor\":\"white\",\"showbackground\":true,\"ticks\":\"\",\"zerolinecolor\":\"white\",\"gridwidth\":2},\"yaxis\":{\"backgroundcolor\":\"#E5ECF6\",\"gridcolor\":\"white\",\"linecolor\":\"white\",\"showbackground\":true,\"ticks\":\"\",\"zerolinecolor\":\"white\",\"gridwidth\":2},\"zaxis\":{\"backgroundcolor\":\"#E5ECF6\",\"gridcolor\":\"white\",\"linecolor\":\"white\",\"showbackground\":true,\"ticks\":\"\",\"zerolinecolor\":\"white\",\"gridwidth\":2}},\"shapedefaults\":{\"line\":{\"color\":\"#2a3f5f\"}},\"annotationdefaults\":{\"arrowcolor\":\"#2a3f5f\",\"arrowhead\":0,\"arrowwidth\":1},\"geo\":{\"bgcolor\":\"white\",\"landcolor\":\"#E5ECF6\",\"subunitcolor\":\"white\",\"showland\":true,\"showlakes\":true,\"lakecolor\":\"white\"},\"title\":{\"x\":0.05},\"mapbox\":{\"style\":\"light\"}}},\"title\":{\"text\":\"Time Series Plot\"},\"xaxis\":{\"title\":{\"text\":\"Date\"}},\"yaxis\":{\"title\":{\"text\":\"Close\"}}},                        {\"responsive\": true}                    ).then(function(){\n",
              "                            \n",
              "var gd = document.getElementById('c3c938a8-1985-41a2-8c1f-2f91634f2339');\n",
              "var x = new MutationObserver(function (mutations, observer) {{\n",
              "        var display = window.getComputedStyle(gd).display;\n",
              "        if (!display || display === 'none') {{\n",
              "            console.log([gd, 'removed!']);\n",
              "            Plotly.purge(gd);\n",
              "            observer.disconnect();\n",
              "        }}\n",
              "}});\n",
              "\n",
              "// Listen for the removal of the full notebook cells\n",
              "var notebookContainer = gd.closest('#notebook-container');\n",
              "if (notebookContainer) {{\n",
              "    x.observe(notebookContainer, {childList: true});\n",
              "}}\n",
              "\n",
              "// Listen for the clearing of the current output cell\n",
              "var outputEl = gd.closest('.output');\n",
              "if (outputEl) {{\n",
              "    x.observe(outputEl, {childList: true});\n",
              "}}\n",
              "\n",
              "                        })                };                            </script>        </div>\n",
              "</body>\n",
              "</html>"
            ]
          },
          "metadata": {}
        }
      ]
    },
    {
      "cell_type": "markdown",
      "metadata": {
        "id": "z8143Uh6siI5"
      },
      "source": [
        "***"
      ]
    }
  ],
  "metadata": {
    "colab": {
      "provenance": []
    },
    "kernelspec": {
      "display_name": "Python 3",
      "name": "python3"
    },
    "language_info": {
      "name": "python"
    }
  },
  "nbformat": 4,
  "nbformat_minor": 0
}